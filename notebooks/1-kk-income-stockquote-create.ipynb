{
 "cells": [
  {
   "cell_type": "code",
   "metadata": {
    "tags": [],
    "cell_id": "6fcf57ecfa7c4071bcb781fb91d0d220",
    "source_hash": "d37972df",
    "execution_start": 1676051874805,
    "execution_millis": 240,
    "deepnote_to_be_reexecuted": false,
    "deepnote_cell_type": "code"
   },
   "source": "import sys\nsys.path.insert(0, '../src/')\nfrom postgres_db import PostgresDB",
   "execution_count": 1,
   "outputs": []
  },
  {
   "cell_type": "code",
   "metadata": {
    "tags": [],
    "cell_id": "0fccb98cb82843e78f21d32afe443240",
    "source_hash": "ca14f70",
    "execution_start": 1676051875907,
    "execution_millis": 943,
    "deepnote_to_be_reexecuted": false,
    "deepnote_cell_type": "code"
   },
   "source": "# Stock Overview\nstock_overview_df = PostgresDB.table_to_df('stock_overview')\ndtypes_instruction = { 'DividendYield': 'float64', 'EPS': 'float64', 'RevenuePerShareTTM': 'float64', 'ProfitMargin': 'float64', 'OperatingMarginTTM': 'float64', 'ReturnOnAssetsTTM': 'float64', 'ReturnOnEquityTTM': 'float64', 'RevenueTTM': 'float64', 'GrossProfitTTM': 'float64', 'DilutedEPSTTM': 'float64', 'QuarterlyEarningsGrowthYOY': 'float64', 'QuarterlyRevenueGrowthYOY': 'float64', 'AnalystTargetPrice': 'float64', 'PriceToSalesRatioTTM': 'float64', 'PriceToBookRatio': 'object', 'EVToRevenue': 'object', 'EVToEBITDA': 'object', 'Beta': 'object', '52WeekHigh': 'float64', '52WeekLow': 'float64', '50DayMovingAverage': 'float64', '200DayMovingAverage': 'float64', 'SharesOutstanding': 'float64'}\nstock_overview_df = stock_overview_df.astype(dtype=dtypes_instruction)\nstock_overview_df.head(12)",
   "execution_count": 2,
   "outputs": [
    {
     "output_type": "execute_result",
     "execution_count": 2,
     "data": {
      "application/vnd.deepnote.dataframe.v3+json": {
       "column_count": 48,
       "row_count": 12,
       "columns": [
        {
         "name": "Symbol",
         "dtype": "object",
         "stats": {
          "unique_count": 12,
          "nan_count": 0,
          "categories": [
           {
            "name": "ACN",
            "count": 1
           },
           {
            "name": "ATVI",
            "count": 1
           },
           {
            "name": "10 others",
            "count": 10
           }
          ]
         }
        },
        {
         "name": "AssetType",
         "dtype": "object",
         "stats": {
          "unique_count": 1,
          "nan_count": 0,
          "categories": [
           {
            "name": "Common Stock",
            "count": 12
           }
          ]
         }
        },
        {
         "name": "Name",
         "dtype": "object",
         "stats": {
          "unique_count": 12,
          "nan_count": 0,
          "categories": [
           {
            "name": "Accenture plc",
            "count": 1
           },
           {
            "name": "Activision Blizzard Inc",
            "count": 1
           },
           {
            "name": "10 others",
            "count": 10
           }
          ]
         }
        },
        {
         "name": "Description",
         "dtype": "object",
         "stats": {
          "unique_count": 12,
          "nan_count": 0,
          "categories": [
           {
            "name": "Accenture plc is an Irish-domiciled multinational company that provides consulting and processing services. It has been incorporated in Dublin, Ireland since 2009.",
            "count": 1
           },
           {
            "name": "Activision Blizzard, Inc. is an American video game holding company based in Santa Monica, California. Activision Blizzard currently includes five business units: Activision Publishing, Blizzard Entertainment, King, Major League Gaming, and Activision Blizzard Studios.",
            "count": 1
           },
           {
            "name": "10 others",
            "count": 10
           }
          ]
         }
        },
        {
         "name": "CIK",
         "dtype": "object",
         "stats": {
          "unique_count": 12,
          "nan_count": 0,
          "categories": [
           {
            "name": "1467373",
            "count": 1
           },
           {
            "name": "718877",
            "count": 1
           },
           {
            "name": "10 others",
            "count": 10
           }
          ]
         }
        },
        {
         "name": "Exchange",
         "dtype": "object",
         "stats": {
          "unique_count": 2,
          "nan_count": 0,
          "categories": [
           {
            "name": "NYSE",
            "count": 8
           },
           {
            "name": "NASDAQ",
            "count": 4
           }
          ]
         }
        },
        {
         "name": "Currency",
         "dtype": "object",
         "stats": {
          "unique_count": 1,
          "nan_count": 0,
          "categories": [
           {
            "name": "USD",
            "count": 12
           }
          ]
         }
        },
        {
         "name": "Country",
         "dtype": "object",
         "stats": {
          "unique_count": 1,
          "nan_count": 0,
          "categories": [
           {
            "name": "USA",
            "count": 12
           }
          ]
         }
        },
        {
         "name": "Sector",
         "dtype": "object",
         "stats": {
          "unique_count": 6,
          "nan_count": 0,
          "categories": [
           {
            "name": "TRADE & SERVICES",
            "count": 3
           },
           {
            "name": "TECHNOLOGY",
            "count": 3
           },
           {
            "name": "4 others",
            "count": 6
           }
          ]
         }
        },
        {
         "name": "Industry",
         "dtype": "object",
         "stats": {
          "unique_count": 10,
          "nan_count": 0,
          "categories": [
           {
            "name": "SERVICES-BUSINESS SERVICES, NEC",
            "count": 2
           },
           {
            "name": "SERVICES-PREPACKAGED SOFTWARE",
            "count": 2
           },
           {
            "name": "8 others",
            "count": 8
           }
          ]
         }
        },
        {
         "name": "Address",
         "dtype": "object",
         "stats": {
          "unique_count": 12,
          "nan_count": 0,
          "categories": [
           {
            "name": "1 GRAND CANAL SQUARE, GRAND CANAL HARBOUR, DUBLIN, IE",
            "count": 1
           },
           {
            "name": "3100 OCEAN PARK BLVD, SANTA MONICA, CA, US",
            "count": 1
           },
           {
            "name": "10 others",
            "count": 10
           }
          ]
         }
        },
        {
         "name": "City",
         "dtype": "object",
         "stats": {
          "unique_count": 12,
          "nan_count": 0,
          "categories": [
           {
            "name": "GRAND CANAL HARBOUR",
            "count": 1
           },
           {
            "name": "SANTA MONICA",
            "count": 1
           },
           {
            "name": "10 others",
            "count": 10
           }
          ]
         }
        },
        {
         "name": "State",
         "dtype": "object",
         "stats": {
          "unique_count": 10,
          "nan_count": 0,
          "categories": [
           {
            "name": "CA",
            "count": 3
           },
           {
            "name": "DUBLIN",
            "count": 1
           },
           {
            "name": "8 others",
            "count": 8
           }
          ]
         }
        },
        {
         "name": "FiscalYearEnd",
         "dtype": "object",
         "stats": {
          "unique_count": 6,
          "nan_count": 0,
          "categories": [
           {
            "name": "December",
            "count": 7
           },
           {
            "name": "August",
            "count": 1
           },
           {
            "name": "4 others",
            "count": 4
           }
          ]
         }
        },
        {
         "name": "LatestQuarter",
         "dtype": "datetime64[ns]",
         "stats": {
          "unique_count": 4,
          "nan_count": 0,
          "min": "2022-09-30 00:00:00",
          "max": "2022-12-31 00:00:00",
          "histogram": [
           {
            "bin_start": 1664496000000000000,
            "bin_end": 1665290880000000000,
            "count": 5
           },
           {
            "bin_start": 1665290880000000000,
            "bin_end": 1666085760000000000,
            "count": 0
           },
           {
            "bin_start": 1666085760000000000,
            "bin_end": 1666880640000000000,
            "count": 0
           },
           {
            "bin_start": 1666880640000000000,
            "bin_end": 1667675520000000000,
            "count": 1
           },
           {
            "bin_start": 1667675520000000000,
            "bin_end": 1668470400000000000,
            "count": 0
           },
           {
            "bin_start": 1668470400000000000,
            "bin_end": 1669265280000000000,
            "count": 0
           },
           {
            "bin_start": 1669265280000000000,
            "bin_end": 1670060160000000000,
            "count": 2
           },
           {
            "bin_start": 1670060160000000000,
            "bin_end": 1670855040000000000,
            "count": 0
           },
           {
            "bin_start": 1670855040000000000,
            "bin_end": 1671649920000000000,
            "count": 0
           },
           {
            "bin_start": 1671649920000000000,
            "bin_end": 1672444800000000000,
            "count": 4
           }
          ]
         }
        },
        {
         "name": "MarketCapitalization",
         "dtype": "int64",
         "stats": {
          "unique_count": 12,
          "nan_count": 0,
          "min": "6833219000",
          "max": "185355944000",
          "histogram": [
           {
            "bin_start": 6833219000,
            "bin_end": 24685491500,
            "count": 4
           },
           {
            "bin_start": 24685491500,
            "bin_end": 42537764000,
            "count": 0
           },
           {
            "bin_start": 42537764000,
            "bin_end": 60390036500,
            "count": 4
           },
           {
            "bin_start": 60390036500,
            "bin_end": 78242309000,
            "count": 1
           },
           {
            "bin_start": 78242309000,
            "bin_end": 96094581500,
            "count": 1
           },
           {
            "bin_start": 96094581500,
            "bin_end": 113946854000,
            "count": 0
           },
           {
            "bin_start": 113946854000,
            "bin_end": 131799126500,
            "count": 0
           },
           {
            "bin_start": 131799126500,
            "bin_end": 149651399000,
            "count": 0
           },
           {
            "bin_start": 149651399000,
            "bin_end": 167503671500,
            "count": 0
           },
           {
            "bin_start": 167503671500,
            "bin_end": 185355944000,
            "count": 2
           }
          ]
         }
        },
        {
         "name": "EBITDA",
         "dtype": "object",
         "stats": {
          "unique_count": 12,
          "nan_count": 0,
          "categories": [
           {
            "name": "10576087000",
            "count": 1
           },
           {
            "name": "2175000000",
            "count": 1
           },
           {
            "name": "10 others",
            "count": 10
           }
          ]
         }
        },
        {
         "name": "PERatio",
         "dtype": "object",
         "stats": {
          "unique_count": 12,
          "nan_count": 0,
          "categories": [
           {
            "name": "26.71",
            "count": 1
           },
           {
            "name": "36.2",
            "count": 1
           },
           {
            "name": "10 others",
            "count": 10
           }
          ]
         }
        },
        {
         "name": "PEGRatio",
         "dtype": "object",
         "stats": {
          "unique_count": 12,
          "nan_count": 0,
          "categories": [
           {
            "name": "2.975",
            "count": 1
           },
           {
            "name": "3.799",
            "count": 1
           },
           {
            "name": "10 others",
            "count": 10
           }
          ]
         }
        },
        {
         "name": "BookValue",
         "dtype": "object",
         "stats": {
          "unique_count": 12,
          "nan_count": 0,
          "categories": [
           {
            "name": "36.5",
            "count": 1
           },
           {
            "name": "24.03",
            "count": 1
           },
           {
            "name": "10 others",
            "count": 10
           }
          ]
         }
        },
        {
         "name": "DividendPerShare",
         "dtype": "object",
         "stats": {
          "unique_count": 10,
          "nan_count": 0,
          "categories": [
           {
            "name": "0",
            "count": 3
           },
           {
            "name": "4.18",
            "count": 1
           },
           {
            "name": "8 others",
            "count": 8
           }
          ]
         }
        },
        {
         "name": "DividendYield",
         "dtype": "float64",
         "stats": {
          "unique_count": 11,
          "nan_count": 0,
          "min": "0.0",
          "max": "0.0534",
          "histogram": [
           {
            "bin_start": 0,
            "bin_end": 0.00534,
            "count": 2
           },
           {
            "bin_start": 0.00534,
            "bin_end": 0.01068,
            "count": 2
           },
           {
            "bin_start": 0.01068,
            "bin_end": 0.01602,
            "count": 1
           },
           {
            "bin_start": 0.01602,
            "bin_end": 0.02136,
            "count": 0
           },
           {
            "bin_start": 0.02136,
            "bin_end": 0.0267,
            "count": 5
           },
           {
            "bin_start": 0.0267,
            "bin_end": 0.03204,
            "count": 0
           },
           {
            "bin_start": 0.03204,
            "bin_end": 0.037380000000000004,
            "count": 0
           },
           {
            "bin_start": 0.037380000000000004,
            "bin_end": 0.04272,
            "count": 1
           },
           {
            "bin_start": 0.04272,
            "bin_end": 0.04806,
            "count": 0
           },
           {
            "bin_start": 0.04806,
            "bin_end": 0.0534,
            "count": 1
           }
          ]
         }
        },
        {
         "name": "EPS",
         "dtype": "float64",
         "stats": {
          "unique_count": 12,
          "nan_count": 0,
          "min": "-0.223",
          "max": "11.01",
          "histogram": [
           {
            "bin_start": -0.223,
            "bin_end": 0.9003,
            "count": 2
           },
           {
            "bin_start": 0.9003,
            "bin_end": 2.0236,
            "count": 0
           },
           {
            "bin_start": 2.0236,
            "bin_end": 3.1469,
            "count": 2
           },
           {
            "bin_start": 3.1469,
            "bin_end": 4.2702,
            "count": 1
           },
           {
            "bin_start": 4.2702,
            "bin_end": 5.3935,
            "count": 0
           },
           {
            "bin_start": 5.3935,
            "bin_end": 6.5168,
            "count": 0
           },
           {
            "bin_start": 6.5168,
            "bin_end": 7.6400999999999994,
            "count": 1
           },
           {
            "bin_start": 7.6400999999999994,
            "bin_end": 8.763399999999999,
            "count": 3
           },
           {
            "bin_start": 8.763399999999999,
            "bin_end": 9.8867,
            "count": 0
           },
           {
            "bin_start": 9.8867,
            "bin_end": 11.01,
            "count": 3
           }
          ]
         }
        },
        {
         "name": "RevenuePerShareTTM",
         "dtype": "float64",
         "stats": {
          "unique_count": 12,
          "nan_count": 0,
          "min": "9.43",
          "max": "181.3",
          "histogram": [
           {
            "bin_start": 9.43,
            "bin_end": 26.617,
            "count": 4
           },
           {
            "bin_start": 26.617,
            "bin_end": 43.804,
            "count": 3
           },
           {
            "bin_start": 43.804,
            "bin_end": 60.99100000000001,
            "count": 1
           },
           {
            "bin_start": 60.99100000000001,
            "bin_end": 78.178,
            "count": 1
           },
           {
            "bin_start": 78.178,
            "bin_end": 95.36500000000001,
            "count": 0
           },
           {
            "bin_start": 95.36500000000001,
            "bin_end": 112.55200000000002,
            "count": 1
           },
           {
            "bin_start": 112.55200000000002,
            "bin_end": 129.739,
            "count": 0
           },
           {
            "bin_start": 129.739,
            "bin_end": 146.92600000000002,
            "count": 0
           },
           {
            "bin_start": 146.92600000000002,
            "bin_end": 164.11300000000003,
            "count": 0
           },
           {
            "bin_start": 164.11300000000003,
            "bin_end": 181.3,
            "count": 2
           }
          ]
         }
        },
        {
         "name": "ProfitMargin",
         "dtype": "float64",
         "stats": {
          "unique_count": 12,
          "nan_count": 0,
          "min": "-0.0223",
          "max": "0.27",
          "histogram": [
           {
            "bin_start": -0.0223,
            "bin_end": 0.006929999999999999,
            "count": 2
           },
           {
            "bin_start": 0.006929999999999999,
            "bin_end": 0.03616,
            "count": 0
           },
           {
            "bin_start": 0.03616,
            "bin_end": 0.06538999999999999,
            "count": 2
           },
           {
            "bin_start": 0.06538999999999999,
            "bin_end": 0.09462,
            "count": 0
           },
           {
            "bin_start": 0.09462,
            "bin_end": 0.12385,
            "count": 1
           },
           {
            "bin_start": 0.12385,
            "bin_end": 0.15308,
            "count": 1
           },
           {
            "bin_start": 0.15308,
            "bin_end": 0.18230999999999997,
            "count": 2
           },
           {
            "bin_start": 0.18230999999999997,
            "bin_end": 0.21154,
            "count": 1
           },
           {
            "bin_start": 0.21154,
            "bin_end": 0.24076999999999998,
            "count": 1
           },
           {
            "bin_start": 0.24076999999999998,
            "bin_end": 0.27,
            "count": 2
           }
          ]
         }
        },
        {
         "name": "OperatingMarginTTM",
         "dtype": "float64",
         "stats": {
          "unique_count": 12,
          "nan_count": 0,
          "min": "0.0409",
          "max": "0.346",
          "histogram": [
           {
            "bin_start": 0.0409,
            "bin_end": 0.07141,
            "count": 2
           },
           {
            "bin_start": 0.07141,
            "bin_end": 0.10192,
            "count": 1
           },
           {
            "bin_start": 0.10192,
            "bin_end": 0.13243,
            "count": 0
           },
           {
            "bin_start": 0.13243,
            "bin_end": 0.16294,
            "count": 1
           },
           {
            "bin_start": 0.16294,
            "bin_end": 0.19344999999999998,
            "count": 1
           },
           {
            "bin_start": 0.19344999999999998,
            "bin_end": 0.22396,
            "count": 2
           },
           {
            "bin_start": 0.22396,
            "bin_end": 0.25447,
            "count": 2
           },
           {
            "bin_start": 0.25447,
            "bin_end": 0.28498,
            "count": 2
           },
           {
            "bin_start": 0.28498,
            "bin_end": 0.31549,
            "count": 0
           },
           {
            "bin_start": 0.31549,
            "bin_end": 0.346,
            "count": 1
           }
          ]
         }
        },
        {
         "name": "ReturnOnAssetsTTM",
         "dtype": "float64",
         "stats": {
          "unique_count": 12,
          "nan_count": 0,
          "min": "0.024",
          "max": "0.14",
          "histogram": [
           {
            "bin_start": 0.024,
            "bin_end": 0.03560000000000001,
            "count": 2
           },
           {
            "bin_start": 0.03560000000000001,
            "bin_end": 0.047200000000000006,
            "count": 3
           },
           {
            "bin_start": 0.047200000000000006,
            "bin_end": 0.05880000000000001,
            "count": 4
           },
           {
            "bin_start": 0.05880000000000001,
            "bin_end": 0.07040000000000002,
            "count": 0
           },
           {
            "bin_start": 0.07040000000000002,
            "bin_end": 0.08200000000000002,
            "count": 0
           },
           {
            "bin_start": 0.08200000000000002,
            "bin_end": 0.09360000000000002,
            "count": 0
           },
           {
            "bin_start": 0.09360000000000002,
            "bin_end": 0.10520000000000002,
            "count": 1
           },
           {
            "bin_start": 0.10520000000000002,
            "bin_end": 0.11680000000000001,
            "count": 0
           },
           {
            "bin_start": 0.11680000000000001,
            "bin_end": 0.12840000000000001,
            "count": 0
           },
           {
            "bin_start": 0.12840000000000001,
            "bin_end": 0.14,
            "count": 2
           }
          ]
         }
        },
        {
         "name": "ReturnOnEquityTTM",
         "dtype": "float64",
         "stats": {
          "unique_count": 12,
          "nan_count": 0,
          "min": "-0.127",
          "max": "17.52",
          "histogram": [
           {
            "bin_start": -0.127,
            "bin_end": 1.6377,
            "count": 11
           },
           {
            "bin_start": 1.6377,
            "bin_end": 3.4024,
            "count": 0
           },
           {
            "bin_start": 3.4024,
            "bin_end": 5.1671000000000005,
            "count": 0
           },
           {
            "bin_start": 5.1671000000000005,
            "bin_end": 6.9318,
            "count": 0
           },
           {
            "bin_start": 6.9318,
            "bin_end": 8.696499999999999,
            "count": 0
           },
           {
            "bin_start": 8.696499999999999,
            "bin_end": 10.4612,
            "count": 0
           },
           {
            "bin_start": 10.4612,
            "bin_end": 12.2259,
            "count": 0
           },
           {
            "bin_start": 12.2259,
            "bin_end": 13.990599999999999,
            "count": 0
           },
           {
            "bin_start": 13.990599999999999,
            "bin_end": 15.755299999999998,
            "count": 0
           },
           {
            "bin_start": 15.755299999999998,
            "bin_end": 17.52,
            "count": 1
           }
          ]
         }
        },
        {
         "name": "RevenueTTM",
         "dtype": "float64",
         "stats": {
          "unique_count": 12,
          "nan_count": 0,
          "min": "3594233000.0",
          "max": "101847998000.0",
          "histogram": [
           {
            "bin_start": 3594233000,
            "bin_end": 13419609500,
            "count": 7
           },
           {
            "bin_start": 13419609500,
            "bin_end": 23244986000,
            "count": 3
           },
           {
            "bin_start": 23244986000,
            "bin_end": 33070362500,
            "count": 0
           },
           {
            "bin_start": 33070362500,
            "bin_end": 42895739000,
            "count": 0
           },
           {
            "bin_start": 42895739000,
            "bin_end": 52721115500,
            "count": 0
           },
           {
            "bin_start": 52721115500,
            "bin_end": 62546492000,
            "count": 1
           },
           {
            "bin_start": 62546492000,
            "bin_end": 72371868500,
            "count": 0
           },
           {
            "bin_start": 72371868500,
            "bin_end": 82197245000,
            "count": 0
           },
           {
            "bin_start": 82197245000,
            "bin_end": 92022621500,
            "count": 0
           },
           {
            "bin_start": 92022621500,
            "bin_end": 101847998000,
            "count": 1
           }
          ]
         }
        },
        {
         "name": "GrossProfitTTM",
         "dtype": "float64",
         "stats": {
          "unique_count": 12,
          "nan_count": 0,
          "min": "2153000000.0",
          "max": "19701539000.0",
          "histogram": [
           {
            "bin_start": 2153000000,
            "bin_end": 3907853900,
            "count": 5
           },
           {
            "bin_start": 3907853900,
            "bin_end": 5662707800,
            "count": 1
           },
           {
            "bin_start": 5662707800,
            "bin_end": 7417561700,
            "count": 1
           },
           {
            "bin_start": 7417561700,
            "bin_end": 9172415600,
            "count": 3
           },
           {
            "bin_start": 9172415600,
            "bin_end": 10927269500,
            "count": 0
           },
           {
            "bin_start": 10927269500,
            "bin_end": 12682123400,
            "count": 0
           },
           {
            "bin_start": 12682123400,
            "bin_end": 14436977300,
            "count": 0
           },
           {
            "bin_start": 14436977300,
            "bin_end": 16191831200,
            "count": 1
           },
           {
            "bin_start": 16191831200,
            "bin_end": 17946685100,
            "count": 0
           },
           {
            "bin_start": 17946685100,
            "bin_end": 19701539000,
            "count": 1
           }
          ]
         }
        },
        {
         "name": "DilutedEPSTTM",
         "dtype": "float64",
         "stats": {
          "unique_count": 12,
          "nan_count": 0,
          "min": "-0.223",
          "max": "11.01",
          "histogram": [
           {
            "bin_start": -0.223,
            "bin_end": 0.9003,
            "count": 2
           },
           {
            "bin_start": 0.9003,
            "bin_end": 2.0236,
            "count": 0
           },
           {
            "bin_start": 2.0236,
            "bin_end": 3.1469,
            "count": 2
           },
           {
            "bin_start": 3.1469,
            "bin_end": 4.2702,
            "count": 1
           },
           {
            "bin_start": 4.2702,
            "bin_end": 5.3935,
            "count": 0
           },
           {
            "bin_start": 5.3935,
            "bin_end": 6.5168,
            "count": 0
           },
           {
            "bin_start": 6.5168,
            "bin_end": 7.6400999999999994,
            "count": 1
           },
           {
            "bin_start": 7.6400999999999994,
            "bin_end": 8.763399999999999,
            "count": 3
           },
           {
            "bin_start": 8.763399999999999,
            "bin_end": 9.8867,
            "count": 0
           },
           {
            "bin_start": 9.8867,
            "bin_end": 11.01,
            "count": 3
           }
          ]
         }
        },
        {
         "name": "QuarterlyEarningsGrowthYOY",
         "dtype": "float64",
         "stats": {
          "unique_count": 12,
          "nan_count": 0,
          "min": "-0.37",
          "max": "0.917",
          "histogram": [
           {
            "bin_start": -0.37,
            "bin_end": -0.24130000000000001,
            "count": 3
           },
           {
            "bin_start": -0.24130000000000001,
            "bin_end": -0.11260000000000003,
            "count": 1
           },
           {
            "bin_start": -0.11260000000000003,
            "bin_end": 0.016099999999999948,
            "count": 2
           },
           {
            "bin_start": 0.016099999999999948,
            "bin_end": 0.14479999999999993,
            "count": 1
           },
           {
            "bin_start": 0.14479999999999993,
            "bin_end": 0.27349999999999997,
            "count": 3
           },
           {
            "bin_start": 0.27349999999999997,
            "bin_end": 0.4021999999999999,
            "count": 1
           },
           {
            "bin_start": 0.4021999999999999,
            "bin_end": 0.5308999999999998,
            "count": 0
           },
           {
            "bin_start": 0.5308999999999998,
            "bin_end": 0.6595999999999999,
            "count": 0
           },
           {
            "bin_start": 0.6595999999999999,
            "bin_end": 0.7882999999999999,
            "count": 0
           },
           {
            "bin_start": 0.7882999999999999,
            "bin_end": 0.917,
            "count": 1
           }
          ]
         }
        },
        {
         "name": "QuarterlyRevenueGrowthYOY",
         "dtype": "float64",
         "stats": {
          "unique_count": 12,
          "nan_count": 0,
          "min": "-0.139",
          "max": "0.305",
          "histogram": [
           {
            "bin_start": -0.139,
            "bin_end": -0.09460000000000002,
            "count": 1
           },
           {
            "bin_start": -0.09460000000000002,
            "bin_end": -0.05020000000000001,
            "count": 1
           },
           {
            "bin_start": -0.05020000000000001,
            "bin_end": -0.0058,
            "count": 0
           },
           {
            "bin_start": -0.0058,
            "bin_end": 0.038599999999999995,
            "count": 2
           },
           {
            "bin_start": 0.038599999999999995,
            "bin_end": 0.08299999999999999,
            "count": 1
           },
           {
            "bin_start": 0.08299999999999999,
            "bin_end": 0.1274,
            "count": 3
           },
           {
            "bin_start": 0.1274,
            "bin_end": 0.1718,
            "count": 1
           },
           {
            "bin_start": 0.1718,
            "bin_end": 0.2162,
            "count": 1
           },
           {
            "bin_start": 0.2162,
            "bin_end": 0.2606,
            "count": 1
           },
           {
            "bin_start": 0.2606,
            "bin_end": 0.305,
            "count": 1
           }
          ]
         }
        },
        {
         "name": "AnalystTargetPrice",
         "dtype": "float64",
         "stats": {
          "unique_count": 12,
          "nan_count": 0,
          "min": "31.3",
          "max": "383.13",
          "histogram": [
           {
            "bin_start": 31.3,
            "bin_end": 66.483,
            "count": 2
           },
           {
            "bin_start": 66.483,
            "bin_end": 101.666,
            "count": 3
           },
           {
            "bin_start": 101.666,
            "bin_end": 136.84900000000002,
            "count": 1
           },
           {
            "bin_start": 136.84900000000002,
            "bin_end": 172.032,
            "count": 2
           },
           {
            "bin_start": 172.032,
            "bin_end": 207.215,
            "count": 0
           },
           {
            "bin_start": 207.215,
            "bin_end": 242.39800000000002,
            "count": 0
           },
           {
            "bin_start": 242.39800000000002,
            "bin_end": 277.581,
            "count": 1
           },
           {
            "bin_start": 277.581,
            "bin_end": 312.764,
            "count": 0
           },
           {
            "bin_start": 312.764,
            "bin_end": 347.947,
            "count": 2
           },
           {
            "bin_start": 347.947,
            "bin_end": 383.13,
            "count": 1
           }
          ]
         }
        },
        {
         "name": "TrailingPE",
         "dtype": "object",
         "stats": {
          "unique_count": 12,
          "nan_count": 0,
          "categories": [
           {
            "name": "26.71",
            "count": 1
           },
           {
            "name": "36.2",
            "count": 1
           },
           {
            "name": "10 others",
            "count": 10
           }
          ]
         }
        },
        {
         "name": "ForwardPE",
         "dtype": "object",
         "stats": {
          "unique_count": 12,
          "nan_count": 0,
          "categories": [
           {
            "name": "25.58",
            "count": 1
           },
           {
            "name": "20.12",
            "count": 1
           },
           {
            "name": "10 others",
            "count": 10
           }
          ]
         }
        },
        {
         "name": "PriceToSalesRatioTTM",
         "dtype": "float64",
         "stats": {
          "unique_count": 12,
          "nan_count": 0,
          "min": "0.514",
          "max": "8.89",
          "histogram": [
           {
            "bin_start": 0.514,
            "bin_end": 1.3516000000000001,
            "count": 3
           },
           {
            "bin_start": 1.3516000000000001,
            "bin_end": 2.1892000000000005,
            "count": 2
           },
           {
            "bin_start": 2.1892000000000005,
            "bin_end": 3.0268000000000006,
            "count": 1
           },
           {
            "bin_start": 3.0268000000000006,
            "bin_end": 3.8644000000000007,
            "count": 1
           },
           {
            "bin_start": 3.8644000000000007,
            "bin_end": 4.702000000000001,
            "count": 0
           },
           {
            "bin_start": 4.702000000000001,
            "bin_end": 5.539600000000001,
            "count": 1
           },
           {
            "bin_start": 5.539600000000001,
            "bin_end": 6.377200000000001,
            "count": 1
           },
           {
            "bin_start": 6.377200000000001,
            "bin_end": 7.214800000000001,
            "count": 1
           },
           {
            "bin_start": 7.214800000000001,
            "bin_end": 8.0524,
            "count": 0
           },
           {
            "bin_start": 8.0524,
            "bin_end": 8.89,
            "count": 2
           }
          ]
         }
        },
        {
         "name": "PriceToBookRatio",
         "dtype": "object",
         "stats": {
          "unique_count": 12,
          "nan_count": 0,
          "categories": [
           {
            "name": "8.69",
            "count": 1
           },
           {
            "name": "3.206",
            "count": 1
           },
           {
            "name": "10 others",
            "count": 10
           }
          ]
         }
        },
        {
         "name": "EVToRevenue",
         "dtype": "object",
         "stats": {
          "unique_count": 12,
          "nan_count": 0,
          "categories": [
           {
            "name": "3.043",
            "count": 1
           },
           {
            "name": "7.23",
            "count": 1
           },
           {
            "name": "10 others",
            "count": 10
           }
          ]
         }
        },
        {
         "name": "EVToEBITDA",
         "dtype": "object",
         "stats": {
          "unique_count": 12,
          "nan_count": 0,
          "categories": [
           {
            "name": "18.53",
            "count": 1
           },
           {
            "name": "22.05",
            "count": 1
           },
           {
            "name": "10 others",
            "count": 10
           }
          ]
         }
        },
        {
         "name": "Beta",
         "dtype": "object",
         "stats": {
          "unique_count": 12,
          "nan_count": 0,
          "categories": [
           {
            "name": "1.235",
            "count": 1
           },
           {
            "name": "0.428",
            "count": 1
           },
           {
            "name": "10 others",
            "count": 10
           }
          ]
         }
        },
        {
         "name": "52WeekHigh",
         "dtype": "float64",
         "stats": {
          "unique_count": 12,
          "nan_count": 0,
          "min": "29.7",
          "max": "522.48",
          "histogram": [
           {
            "bin_start": 29.7,
            "bin_end": 78.97800000000001,
            "count": 3
           },
           {
            "bin_start": 78.97800000000001,
            "bin_end": 128.256,
            "count": 3
           },
           {
            "bin_start": 128.256,
            "bin_end": 177.534,
            "count": 1
           },
           {
            "bin_start": 177.534,
            "bin_end": 226.812,
            "count": 1
           },
           {
            "bin_start": 226.812,
            "bin_end": 276.09000000000003,
            "count": 1
           },
           {
            "bin_start": 276.09000000000003,
            "bin_end": 325.368,
            "count": 0
           },
           {
            "bin_start": 325.368,
            "bin_end": 374.646,
            "count": 2
           },
           {
            "bin_start": 374.646,
            "bin_end": 423.92400000000004,
            "count": 0
           },
           {
            "bin_start": 423.92400000000004,
            "bin_end": 473.20200000000006,
            "count": 0
           },
           {
            "bin_start": 473.20200000000006,
            "bin_end": 522.48,
            "count": 1
           }
          ]
         }
        },
        {
         "name": "52WeekLow",
         "dtype": "float64",
         "stats": {
          "unique_count": 12,
          "nan_count": 0,
          "min": "18.26",
          "max": "274.73",
          "histogram": [
           {
            "bin_start": 18.26,
            "bin_end": 43.907000000000004,
            "count": 2
           },
           {
            "bin_start": 43.907000000000004,
            "bin_end": 69.554,
            "count": 2
           },
           {
            "bin_start": 69.554,
            "bin_end": 95.20100000000001,
            "count": 2
           },
           {
            "bin_start": 95.20100000000001,
            "bin_end": 120.84800000000001,
            "count": 1
           },
           {
            "bin_start": 120.84800000000001,
            "bin_end": 146.495,
            "count": 1
           },
           {
            "bin_start": 146.495,
            "bin_end": 172.142,
            "count": 0
           },
           {
            "bin_start": 172.142,
            "bin_end": 197.78900000000002,
            "count": 1
           },
           {
            "bin_start": 197.78900000000002,
            "bin_end": 223.436,
            "count": 1
           },
           {
            "bin_start": 223.436,
            "bin_end": 249.083,
            "count": 1
           },
           {
            "bin_start": 249.083,
            "bin_end": 274.73,
            "count": 1
           }
          ]
         }
        },
        {
         "name": "50DayMovingAverage",
         "dtype": "float64",
         "stats": {
          "unique_count": 12,
          "nan_count": 0,
          "min": "27.92",
          "max": "340.65",
          "histogram": [
           {
            "bin_start": 27.92,
            "bin_end": 59.193,
            "count": 2
           },
           {
            "bin_start": 59.193,
            "bin_end": 90.466,
            "count": 4
           },
           {
            "bin_start": 90.466,
            "bin_end": 121.73899999999999,
            "count": 0
           },
           {
            "bin_start": 121.73899999999999,
            "bin_end": 153.012,
            "count": 2
           },
           {
            "bin_start": 153.012,
            "bin_end": 184.28499999999997,
            "count": 0
           },
           {
            "bin_start": 184.28499999999997,
            "bin_end": 215.558,
            "count": 0
           },
           {
            "bin_start": 215.558,
            "bin_end": 246.83099999999996,
            "count": 1
           },
           {
            "bin_start": 246.83099999999996,
            "bin_end": 278.104,
            "count": 0
           },
           {
            "bin_start": 278.104,
            "bin_end": 309.377,
            "count": 1
           },
           {
            "bin_start": 309.377,
            "bin_end": 340.65,
            "count": 2
           }
          ]
         }
        },
        {
         "name": "200DayMovingAverage",
         "dtype": "float64",
         "stats": {
          "unique_count": 12,
          "nan_count": 0,
          "min": "24.43",
          "max": "362.84",
          "histogram": [
           {
            "bin_start": 24.43,
            "bin_end": 58.270999999999994,
            "count": 2
           },
           {
            "bin_start": 58.270999999999994,
            "bin_end": 92.112,
            "count": 4
           },
           {
            "bin_start": 92.112,
            "bin_end": 125.95299999999997,
            "count": 0
           },
           {
            "bin_start": 125.95299999999997,
            "bin_end": 159.79399999999998,
            "count": 1
           },
           {
            "bin_start": 159.79399999999998,
            "bin_end": 193.635,
            "count": 1
           },
           {
            "bin_start": 193.635,
            "bin_end": 227.47599999999997,
            "count": 0
           },
           {
            "bin_start": 227.47599999999997,
            "bin_end": 261.31699999999995,
            "count": 1
           },
           {
            "bin_start": 261.31699999999995,
            "bin_end": 295.15799999999996,
            "count": 2
           },
           {
            "bin_start": 295.15799999999996,
            "bin_end": 328.99899999999997,
            "count": 0
           },
           {
            "bin_start": 328.99899999999997,
            "bin_end": 362.84,
            "count": 1
           }
          ]
         }
        },
        {
         "name": "SharesOutstanding",
         "dtype": "float64",
         "stats": {
          "unique_count": 12,
          "nan_count": 0,
          "min": "59254000.0",
          "max": "782625000.0",
          "histogram": [
           {
            "bin_start": 59254000,
            "bin_end": 131591100,
            "count": 2
           },
           {
            "bin_start": 131591100,
            "bin_end": 203928200,
            "count": 1
           },
           {
            "bin_start": 203928200,
            "bin_end": 276265300,
            "count": 1
           },
           {
            "bin_start": 276265300,
            "bin_end": 348602400,
            "count": 1
           },
           {
            "bin_start": 348602400,
            "bin_end": 420939500,
            "count": 1
           },
           {
            "bin_start": 420939500,
            "bin_end": 493276600,
            "count": 1
           },
           {
            "bin_start": 493276600,
            "bin_end": 565613700,
            "count": 1
           },
           {
            "bin_start": 565613700,
            "bin_end": 637950800,
            "count": 2
           },
           {
            "bin_start": 637950800,
            "bin_end": 710287900,
            "count": 1
           },
           {
            "bin_start": 710287900,
            "bin_end": 782625000,
            "count": 1
           }
          ]
         }
        },
        {
         "name": "DividendDate",
         "dtype": "object",
         "stats": {
          "unique_count": 10,
          "nan_count": 0,
          "categories": [
           {
            "name": "2023-02-15",
            "count": 2
           },
           {
            "name": "None",
            "count": 2
           },
           {
            "name": "8 others",
            "count": 8
           }
          ]
         }
        },
        {
         "name": "ExDividendDate",
         "dtype": "object",
         "stats": {
          "unique_count": 12,
          "nan_count": 0,
          "categories": [
           {
            "name": "2023-01-11",
            "count": 1
           },
           {
            "name": "2022-04-13",
            "count": 1
           },
           {
            "name": "10 others",
            "count": 10
           }
          ]
         }
        },
        {
         "name": "_deepnote_index_column",
         "dtype": "int64"
        }
       ],
       "rows": [
        {
         "Symbol": "ACN",
         "AssetType": "Common Stock",
         "Name": "Accenture plc",
         "Description": "Accenture plc is an Irish-domiciled multinational company that provides consulting and processing services. It has been incorporated in Dublin, Ireland since 2009.",
         "CIK": "1467373",
         "Exchange": "NYSE",
         "Currency": "USD",
         "Country": "USA",
         "Sector": "TRADE & SERVICES",
         "Industry": "SERVICES-BUSINESS SERVICES, NEC",
         "Address": "1 GRAND CANAL SQUARE, GRAND CANAL HARBOUR, DUBLIN, IE",
         "City": "GRAND CANAL HARBOUR",
         "State": "DUBLIN",
         "FiscalYearEnd": "August",
         "LatestQuarter": "2022-11-30 00:00:00",
         "MarketCapitalization": "185355944000",
         "EBITDA": "10576087000",
         "PERatio": "26.71",
         "PEGRatio": "2.975",
         "BookValue": "36.5",
         "DividendPerShare": "4.18",
         "DividendYield": "0.0158",
         "EPS": "11.01",
         "RevenuePerShareTTM": "98.66",
         "ProfitMargin": "0.113",
         "OperatingMarginTTM": "0.153",
         "ReturnOnAssetsTTM": "0.131",
         "ReturnOnEquityTTM": "0.321",
         "RevenueTTM": "62376956000.0",
         "GrossProfitTTM": "19701539000.0",
         "DilutedEPSTTM": "11.01",
         "QuarterlyEarningsGrowthYOY": "0.108",
         "QuarterlyRevenueGrowthYOY": "0.052",
         "AnalystTargetPrice": "316.54",
         "TrailingPE": "26.71",
         "ForwardPE": "25.58",
         "PriceToSalesRatioTTM": "2.878",
         "PriceToBookRatio": "8.69",
         "EVToRevenue": "3.043",
         "EVToEBITDA": "18.53",
         "Beta": "1.235",
         "52WeekHigh": "351.21",
         "52WeekLow": "241.96",
         "50DayMovingAverage": "279.8",
         "200DayMovingAverage": "285.02",
         "SharesOutstanding": "629740000.0",
         "DividendDate": "2023-02-15",
         "ExDividendDate": "2023-01-11",
         "_deepnote_index_column": "0"
        },
        {
         "Symbol": "ATVI",
         "AssetType": "Common Stock",
         "Name": "Activision Blizzard Inc",
         "Description": "Activision Blizzard, Inc. is an American video game holding company based in Santa Monica, California. Activision Blizzard currently includes five business units: Activision Publishing, Blizzard Entertainment, King, Major League Gaming, and Activision Blizzard Studios.",
         "CIK": "718877",
         "Exchange": "NASDAQ",
         "Currency": "USD",
         "Country": "USA",
         "Sector": "TECHNOLOGY",
         "Industry": "SERVICES-PREPACKAGED SOFTWARE",
         "Address": "3100 OCEAN PARK BLVD, SANTA MONICA, CA, US",
         "City": "SANTA MONICA",
         "State": "CA",
         "FiscalYearEnd": "December",
         "LatestQuarter": "2022-09-30 00:00:00",
         "MarketCapitalization": "60348215000",
         "EBITDA": "2175000000",
         "PERatio": "36.2",
         "PEGRatio": "3.799",
         "BookValue": "24.03",
         "DividendPerShare": "0.47",
         "DividendYield": "0.0061",
         "EPS": "2.13",
         "RevenuePerShareTTM": "9.43",
         "ProfitMargin": "0.228",
         "OperatingMarginTTM": "0.281",
         "ReturnOnAssetsTTM": "0.0522",
         "ReturnOnEquityTTM": "0.0936",
         "RevenueTTM": "7357000000.0",
         "GrossProfitTTM": "6486000000.0",
         "DilutedEPSTTM": "2.13",
         "QuarterlyEarningsGrowthYOY": "-0.329",
         "QuarterlyRevenueGrowthYOY": "-0.139",
         "AnalystTargetPrice": "91.74",
         "TrailingPE": "36.2",
         "ForwardPE": "20.12",
         "PriceToSalesRatioTTM": "8.12",
         "PriceToBookRatio": "3.206",
         "EVToRevenue": "7.23",
         "EVToEBITDA": "22.05",
         "Beta": "0.428",
         "52WeekHigh": "81.52",
         "52WeekLow": "70.94",
         "50DayMovingAverage": "75.84",
         "200DayMovingAverage": "76.55",
         "SharesOutstanding": "782625000.0",
         "DividendDate": "2022-05-06",
         "ExDividendDate": "2022-04-13",
         "_deepnote_index_column": "1"
        },
        {
         "Symbol": "ADM",
         "AssetType": "Common Stock",
         "Name": "Archer-Daniels-Midland Company",
         "Description": "The Archer-Daniels-Midland Company, commonly known as ADM, is an American multinational food processing and commodities trading corporation founded in 1902 and headquartered in Chicago, Illinois. The company operates more than 270 plants and 420 crop procurement facilities worldwide, where cereal grains and oilseeds are processed into products used in food, beverage, nutraceutical, industrial, and animal feed markets worldwide.",
         "CIK": "7084",
         "Exchange": "NYSE",
         "Currency": "USD",
         "Country": "USA",
         "Sector": "MANUFACTURING",
         "Industry": "FATS & OILS",
         "Address": "4666 FARIES PKWY, DECATUR, IL, US",
         "City": "DECATUR",
         "State": "IL",
         "FiscalYearEnd": "December",
         "LatestQuarter": "2022-12-31 00:00:00",
         "MarketCapitalization": "45029331000",
         "EBITDA": "5196000000",
         "PERatio": "10.68",
         "PEGRatio": "16.43",
         "BookValue": "44.39",
         "DividendPerShare": "1.65",
         "DividendYield": "0.0216",
         "EPS": "7.71",
         "RevenuePerShareTTM": "180.9",
         "ProfitMargin": "0.0426",
         "OperatingMarginTTM": "0.0409",
         "ReturnOnAssetsTTM": "0.0559",
         "ReturnOnEquityTTM": "0.184",
         "RevenueTTM": "101847998000.0",
         "GrossProfitTTM": "7607000000.0",
         "DilutedEPSTTM": "7.71",
         "QuarterlyEarningsGrowthYOY": "0.333",
         "QuarterlyRevenueGrowthYOY": "0.136",
         "AnalystTargetPrice": "102.92",
         "TrailingPE": "10.68",
         "ForwardPE": "14.45",
         "PriceToSalesRatioTTM": "0.514",
         "PriceToBookRatio": "2.124",
         "EVToRevenue": "0.604",
         "EVToEBITDA": "9.31",
         "Beta": "0.843",
         "52WeekHigh": "98.12",
         "52WeekLow": "69.4",
         "50DayMovingAverage": "90.38",
         "200DayMovingAverage": "86.82",
         "SharesOutstanding": "547070000.0",
         "DividendDate": "2021-09-08",
         "ExDividendDate": "2023-02-08",
         "_deepnote_index_column": "2"
        },
        {
         "Symbol": "ADBE",
         "AssetType": "Common Stock",
         "Name": "Adobe Systems Incorporated",
         "Description": "Adobe Inc. is an American multinational computer software company. Incorporated in Delaware and headquartered in San Jose, California, it has historically specialized in software for the creation and publication of a wide range of content, including graphics, photography, illustration, animation, multimedia, motion pictures and print. The company has expanded into digital marketing management software. Adobe has millions of users worldwide. Flagship products include: Photoshop image editing software, Adobe Illustrator vector-based illustration software, Adobe Acrobat Reader and the Portable Document Format (PDF), plus a host of tools primarily for audio-visual content creation, editing and publishing.",
         "CIK": "796343",
         "Exchange": "NASDAQ",
         "Currency": "USD",
         "Country": "USA",
         "Sector": "TECHNOLOGY",
         "Industry": "SERVICES-PREPACKAGED SOFTWARE",
         "Address": "345 PARK AVE, SAN JOSE, CA, US",
         "City": "SAN JOSE",
         "State": "CA",
         "FiscalYearEnd": "November",
         "LatestQuarter": "2022-11-30 00:00:00",
         "MarketCapitalization": "175758590000",
         "EBITDA": "6716000000",
         "PERatio": "38.78",
         "PEGRatio": "1.481",
         "BookValue": "30.41",
         "DividendPerShare": "0",
         "DividendYield": "0.0",
         "EPS": "9.9",
         "RevenuePerShareTTM": "37.5",
         "ProfitMargin": "0.27",
         "OperatingMarginTTM": "0.346",
         "ReturnOnAssetsTTM": "0.14",
         "ReturnOnEquityTTM": "0.33",
         "RevenueTTM": "17606001000.0",
         "GrossProfitTTM": "15441000000.0",
         "DilutedEPSTTM": "9.9",
         "QuarterlyEarningsGrowthYOY": "-0.016",
         "QuarterlyRevenueGrowthYOY": "0.101",
         "AnalystTargetPrice": "383.13",
         "TrailingPE": "38.78",
         "ForwardPE": "22.22",
         "PriceToSalesRatioTTM": "8.89",
         "PriceToBookRatio": "10.99",
         "EVToRevenue": "9.13",
         "EVToEBITDA": "22.68",
         "Beta": "1.221",
         "52WeekHigh": "522.48",
         "52WeekLow": "274.73",
         "50DayMovingAverage": "340.65",
         "200DayMovingAverage": "362.84",
         "SharesOutstanding": "457800000.0",
         "DividendDate": "None",
         "ExDividendDate": "2005-03-24",
         "_deepnote_index_column": "3"
        },
        {
         "Symbol": "ADP",
         "AssetType": "Common Stock",
         "Name": "Automatic Data Processing Inc",
         "Description": "Automatic Data Processing, Inc. (ADP) is an American provider of human resources management software and services.",
         "CIK": "8670",
         "Exchange": "NASDAQ",
         "Currency": "USD",
         "Country": "USA",
         "Sector": "TECHNOLOGY",
         "Industry": "SERVICES-COMPUTER PROCESSING & DATA PREPARATION",
         "Address": "ONE ADP BOULVARD, ROSELAND, NJ, US",
         "City": "ROSELAND",
         "State": "NJ",
         "FiscalYearEnd": "June",
         "LatestQuarter": "2022-12-31 00:00:00",
         "MarketCapitalization": "94893457000",
         "EBITDA": "4692000000",
         "PERatio": "30.37",
         "PEGRatio": "2.947",
         "BookValue": "7.21",
         "DividendPerShare": "4.37",
         "DividendYield": "0.0221",
         "EPS": "7.54",
         "RevenuePerShareTTM": "41.49",
         "ProfitMargin": "0.182",
         "OperatingMarginTTM": "0.241",
         "ReturnOnAssetsTTM": "0.0458",
         "ReturnOnEquityTTM": "0.783",
         "RevenueTTM": "17247199000.0",
         "GrossProfitTTM": "7447100000.0",
         "DilutedEPSTTM": "7.54",
         "QuarterlyEarningsGrowthYOY": "0.182",
         "QuarterlyRevenueGrowthYOY": "0.091",
         "AnalystTargetPrice": "247.81",
         "TrailingPE": "30.37",
         "ForwardPE": "31.95",
         "PriceToSalesRatioTTM": "6.11",
         "PriceToBookRatio": "41.87",
         "EVToRevenue": "6.72",
         "EVToEBITDA": "24.22",
         "Beta": "0.864",
         "52WeekHigh": "274.92",
         "52WeekLow": "188.67",
         "50DayMovingAverage": "246.24",
         "200DayMovingAverage": "233.72",
         "SharesOutstanding": "414400000.0",
         "DividendDate": "2023-04-01",
         "ExDividendDate": "2023-03-09",
         "_deepnote_index_column": "4"
        },
        {
         "Symbol": "AAP",
         "AssetType": "Common Stock",
         "Name": "Advance Auto Parts Inc",
         "Description": "Advance Auto Parts, Inc. (Advance) is an American automotive aftermarket parts provider. Headquartered in Raleigh, North Carolina, it serves both professional installer and do-it-yourself (DIY) customers.",
         "CIK": "1158449",
         "Exchange": "NYSE",
         "Currency": "USD",
         "Country": "USA",
         "Sector": "TRADE & SERVICES",
         "Industry": "RETAIL-AUTO & HOME SUPPLY STORES",
         "Address": "2635 EAST MILLBROOK ROAD, RALEIGH, NC, US",
         "City": "RALEIGH",
         "State": "NC",
         "FiscalYearEnd": "December",
         "LatestQuarter": "2022-09-30 00:00:00",
         "MarketCapitalization": "9293350000",
         "EBITDA": "1012869000",
         "PERatio": "20.11",
         "PEGRatio": "0.909",
         "BookValue": "45.86",
         "DividendPerShare": "5.5",
         "DividendYield": "0.04",
         "EPS": "7.8",
         "RevenuePerShareTTM": "181.3",
         "ProfitMargin": "0.043",
         "OperatingMarginTTM": "0.0661",
         "ReturnOnAssetsTTM": "0.0382",
         "ReturnOnEquityTTM": "0.161",
         "RevenueTTM": "11077951000.0",
         "GrossProfitTTM": "4931356000.0",
         "DilutedEPSTTM": "7.8",
         "QuarterlyEarningsGrowthYOY": "-0.313",
         "QuarterlyRevenueGrowthYOY": "0.008",
         "AnalystTargetPrice": "165.72",
         "TrailingPE": "20.11",
         "ForwardPE": "11.03",
         "PriceToSalesRatioTTM": "0.766",
         "PriceToBookRatio": "3.13",
         "EVToRevenue": "1.077",
         "EVToEBITDA": "12.61",
         "Beta": "1.139",
         "52WeekHigh": "226.09",
         "52WeekLow": "138.52",
         "50DayMovingAverage": "147.83",
         "200DayMovingAverage": "176.2",
         "SharesOutstanding": "59254000.0",
         "DividendDate": "2023-01-03",
         "ExDividendDate": "2022-12-15",
         "_deepnote_index_column": "5"
        },
        {
         "Symbol": "AES",
         "AssetType": "Common Stock",
         "Name": "The AES Corporation",
         "Description": "The AES Corporation is a Fortune 500 company that generates and distributes electrical power. AES is headquartered in Arlington, Virginia.",
         "CIK": "874761",
         "Exchange": "NYSE",
         "Currency": "USD",
         "Country": "USA",
         "Sector": "ENERGY & TRANSPORTATION",
         "Industry": "COGENERATION SERVICES & SMALL POWER PRODUCERS",
         "Address": "4300 WILSON BOULEVARD, ARLINGTON, VA, US",
         "City": "ARLINGTON",
         "State": "VA",
         "FiscalYearEnd": "December",
         "LatestQuarter": "2022-09-30 00:00:00",
         "MarketCapitalization": "17714035000",
         "EBITDA": "3440000000",
         "PERatio": "None",
         "PEGRatio": "2.127",
         "BookValue": "3.849",
         "DividendPerShare": "0.625",
         "DividendYield": "0.0248",
         "EPS": "-0.223",
         "RevenuePerShareTTM": "18.47",
         "ProfitMargin": "-0.0223",
         "OperatingMarginTTM": "0.193",
         "ReturnOnAssetsTTM": "0.0409",
         "ReturnOnEquityTTM": "-0.127",
         "RevenueTTM": "12327000000.0",
         "GrossProfitTTM": "2711000000.0",
         "DilutedEPSTTM": "-0.223",
         "QuarterlyEarningsGrowthYOY": "0.229",
         "QuarterlyRevenueGrowthYOY": "0.195",
         "AnalystTargetPrice": "31.3",
         "TrailingPE": "-",
         "ForwardPE": "16.72",
         "PriceToSalesRatioTTM": "1.556",
         "PriceToBookRatio": "7.6",
         "EVToRevenue": "3.273",
         "EVToEBITDA": "30.85",
         "Beta": "0.957",
         "52WeekHigh": "29.7",
         "52WeekLow": "18.26",
         "50DayMovingAverage": "27.92",
         "200DayMovingAverage": "24.43",
         "SharesOutstanding": "667950000.0",
         "DividendDate": "2023-02-15",
         "ExDividendDate": "2023-01-31",
         "_deepnote_index_column": "6"
        },
        {
         "Symbol": "AFL",
         "AssetType": "Common Stock",
         "Name": "Aflac Inc",
         "Description": "Aflac Inc. (American Family Life Assurance Company) is an American insurance company and is the largest provider of supplemental insurance in the United States.",
         "CIK": "4977",
         "Exchange": "NYSE",
         "Currency": "USD",
         "Country": "USA",
         "Sector": "FINANCE",
         "Industry": "ACCIDENT & HEALTH INSURANCE",
         "Address": "1932 WYNNTON RD, COLUMBUS, GA, US",
         "City": "COLUMBUS",
         "State": "GA",
         "FiscalYearEnd": "December",
         "LatestQuarter": "2022-09-30 00:00:00",
         "MarketCapitalization": "45701460000",
         "EBITDA": "5588000000",
         "PERatio": "11.34",
         "PEGRatio": "0.93",
         "BookValue": "38.71",
         "DividendPerShare": "1.53",
         "DividendYield": "0.023",
         "EPS": "7.83",
         "RevenuePerShareTTM": "32.47",
         "ProfitMargin": "0.241",
         "OperatingMarginTTM": "0.265",
         "ReturnOnAssetsTTM": "0.024",
         "ReturnOnEquityTTM": "17.52",
         "RevenueTTM": "20928000000.0",
         "GrossProfitTTM": "9104000000.0",
         "DilutedEPSTTM": "7.82",
         "QuarterlyEarningsGrowthYOY": "0.917",
         "QuarterlyRevenueGrowthYOY": "-0.08",
         "AnalystTargetPrice": "70.83",
         "TrailingPE": "9.37",
         "ForwardPE": "12.8",
         "PriceToSalesRatioTTM": "2.06",
         "PriceToBookRatio": "1.812",
         "EVToRevenue": "2.243",
         "EVToEBITDA": "-",
         "Beta": "0.93",
         "52WeekHigh": "74.02",
         "52WeekLow": "51.43",
         "50DayMovingAverage": "71.5",
         "200DayMovingAverage": "62.48",
         "SharesOutstanding": "621789000.0",
         "DividendDate": "2023-03-01",
         "ExDividendDate": "2023-02-14",
         "_deepnote_index_column": "7"
        },
        {
         "Symbol": "A",
         "AssetType": "Common Stock",
         "Name": "Agilent Technologies Inc",
         "Description": "Agilent Technologies, Inc. is an American analytical instrumentation development and manufacturing company that offers its products and services to markets worldwide. Its global headquarters is located in Santa Clara, California.",
         "CIK": "1090872",
         "Exchange": "NYSE",
         "Currency": "USD",
         "Country": "USA",
         "Sector": "LIFE SCIENCES",
         "Industry": "INSTRUMENTS FOR MEAS & TESTING OF ELECTRICITY & ELEC SIGNALS",
         "Address": "5301 STEVENS CREEK BLVD, SANTA CLARA, CA, US",
         "City": "SANTA CLARA",
         "State": "CA",
         "FiscalYearEnd": "October",
         "LatestQuarter": "2022-10-31 00:00:00",
         "MarketCapitalization": "46039196000",
         "EBITDA": "1994000000",
         "PERatio": "37.2",
         "PEGRatio": "2.36",
         "BookValue": "17.97",
         "DividendPerShare": "0.84",
         "DividendYield": "0.0058",
         "EPS": "4.18",
         "RevenuePerShareTTM": "22.9",
         "ProfitMargin": "0.183",
         "OperatingMarginTTM": "0.245",
         "ReturnOnAssetsTTM": "0.0987",
         "ReturnOnEquityTTM": "0.234",
         "RevenueTTM": "6848000000.0",
         "GrossProfitTTM": "3722000000.0",
         "DilutedEPSTTM": "4.18",
         "QuarterlyEarningsGrowthYOY": "-0.146",
         "QuarterlyRevenueGrowthYOY": "0.114",
         "AnalystTargetPrice": "163.71",
         "TrailingPE": "37.2",
         "ForwardPE": "26.95",
         "PriceToSalesRatioTTM": "6.5",
         "PriceToBookRatio": "8.63",
         "EVToRevenue": "6.92",
         "EVToEBITDA": "24.87",
         "Beta": "1.063",
         "52WeekHigh": "160.03",
         "52WeekLow": "111.96",
         "50DayMovingAverage": "152.86",
         "200DayMovingAverage": "133.78",
         "SharesOutstanding": "296072000.0",
         "DividendDate": "2023-01-25",
         "ExDividendDate": "2022-12-30",
         "_deepnote_index_column": "8"
        },
        {
         "Symbol": "APD",
         "AssetType": "Common Stock",
         "Name": "Air Products and Chemicals Inc",
         "Description": "Air Products and Chemicals, Inc. is an American international corporation whose principal business is selling gases and chemicals for industrial uses. Air Products' headquarters is in Allentown, Pennsylvania.",
         "CIK": "2969",
         "Exchange": "NYSE",
         "Currency": "USD",
         "Country": "USA",
         "Sector": "LIFE SCIENCES",
         "Industry": "INDUSTRIAL INORGANIC CHEMICALS",
         "Address": "7201 HAMILTON BLVD, ALLENTOWN, PA, US",
         "City": "ALLENTOWN",
         "State": "PA",
         "FiscalYearEnd": "September",
         "LatestQuarter": "2022-12-31 00:00:00",
         "MarketCapitalization": "65597452000",
         "EBITDA": "3796600000",
         "PERatio": "29.32",
         "PEGRatio": "1.918",
         "BookValue": "59.25",
         "DividendPerShare": "6.36",
         "DividendYield": "0.022",
         "EPS": "10.08",
         "RevenuePerShareTTM": "57.2",
         "ProfitMargin": "0.178",
         "OperatingMarginTTM": "0.194",
         "ReturnOnAssetsTTM": "0.0569",
         "ReturnOnEquityTTM": "0.162",
         "RevenueTTM": "12698600000.0",
         "GrossProfitTTM": "3360100000.0",
         "DilutedEPSTTM": "10.08",
         "QuarterlyEarningsGrowthYOY": "-0.046",
         "QuarterlyRevenueGrowthYOY": "0.257",
         "AnalystTargetPrice": "331.52",
         "TrailingPE": "29.32",
         "ForwardPE": "27.55",
         "PriceToSalesRatioTTM": "5.53",
         "PriceToBookRatio": "5.31",
         "EVToRevenue": "5.89",
         "EVToEBITDA": "17.72",
         "Beta": "0.85",
         "52WeekHigh": "326.85",
         "52WeekLow": "210.83",
         "50DayMovingAverage": "311.37",
         "200DayMovingAverage": "263.44",
         "SharesOutstanding": "221988000.0",
         "DividendDate": "2023-05-08",
         "ExDividendDate": "2023-03-31",
         "_deepnote_index_column": "9"
        }
       ]
      },
      "text/plain": "   Symbol     AssetType                            Name  \\\n0     ACN  Common Stock                   Accenture plc   \n1    ATVI  Common Stock         Activision Blizzard Inc   \n2     ADM  Common Stock  Archer-Daniels-Midland Company   \n3    ADBE  Common Stock      Adobe Systems Incorporated   \n4     ADP  Common Stock   Automatic Data Processing Inc   \n5     AAP  Common Stock          Advance Auto Parts Inc   \n6     AES  Common Stock             The AES Corporation   \n7     AFL  Common Stock                       Aflac Inc   \n8       A  Common Stock        Agilent Technologies Inc   \n9     APD  Common Stock  Air Products and Chemicals Inc   \n10   AKAM  Common Stock         Akamai Technologies Inc   \n11    ALK  Common Stock            Alaska Air Group Inc   \n\n                                          Description      CIK Exchange  \\\n0   Accenture plc is an Irish-domiciled multinatio...  1467373     NYSE   \n1   Activision Blizzard, Inc. is an American video...   718877   NASDAQ   \n2   The Archer-Daniels-Midland Company, commonly k...     7084     NYSE   \n3   Adobe Inc. is an American multinational comput...   796343   NASDAQ   \n4   Automatic Data Processing, Inc. (ADP) is an Am...     8670   NASDAQ   \n5   Advance Auto Parts, Inc. (Advance) is an Ameri...  1158449     NYSE   \n6   The AES Corporation is a Fortune 500 company t...   874761     NYSE   \n7   Aflac Inc. (American Family Life Assurance Com...     4977     NYSE   \n8   Agilent Technologies, Inc. is an American anal...  1090872     NYSE   \n9   Air Products and Chemicals, Inc. is an America...     2969     NYSE   \n10  Akamai Technologies, Inc. is a global content ...  1086222   NASDAQ   \n11  Alaska Air Group is an airline holding company...   766421     NYSE   \n\n   Currency Country                   Sector  \\\n0       USD     USA         TRADE & SERVICES   \n1       USD     USA               TECHNOLOGY   \n2       USD     USA            MANUFACTURING   \n3       USD     USA               TECHNOLOGY   \n4       USD     USA               TECHNOLOGY   \n5       USD     USA         TRADE & SERVICES   \n6       USD     USA  ENERGY & TRANSPORTATION   \n7       USD     USA                  FINANCE   \n8       USD     USA            LIFE SCIENCES   \n9       USD     USA            LIFE SCIENCES   \n10      USD     USA         TRADE & SERVICES   \n11      USD     USA  ENERGY & TRANSPORTATION   \n\n                                             Industry  ... EVToRevenue  \\\n0                     SERVICES-BUSINESS SERVICES, NEC  ...       3.043   \n1                       SERVICES-PREPACKAGED SOFTWARE  ...        7.23   \n2                                         FATS & OILS  ...       0.604   \n3                       SERVICES-PREPACKAGED SOFTWARE  ...        9.13   \n4     SERVICES-COMPUTER PROCESSING & DATA PREPARATION  ...        6.72   \n5                    RETAIL-AUTO & HOME SUPPLY STORES  ...       1.077   \n6       COGENERATION SERVICES & SMALL POWER PRODUCERS  ...       3.273   \n7                         ACCIDENT & HEALTH INSURANCE  ...       2.243   \n8   INSTRUMENTS FOR MEAS & TESTING OF ELECTRICITY ...  ...        6.92   \n9                      INDUSTRIAL INORGANIC CHEMICALS  ...        5.89   \n10                    SERVICES-BUSINESS SERVICES, NEC  ...       4.524   \n11                      AIR TRANSPORTATION, SCHEDULED  ...       0.729   \n\n   EVToEBITDA   Beta 52WeekHigh 52WeekLow  50DayMovingAverage  \\\n0       18.53  1.235     351.21    241.96              279.80   \n1       22.05  0.428      81.52     70.94               75.84   \n2        9.31  0.843      98.12     69.40               90.38   \n3       22.68  1.221     522.48    274.73              340.65   \n4       24.22  0.864     274.92    188.67              246.24   \n5       12.61  1.139     226.09    138.52              147.83   \n6       30.85  0.957      29.70     18.26               27.92   \n7           -   0.93      74.02     51.43               71.50   \n8       24.87  1.063     160.03    111.96              152.86   \n9       17.72   0.85     326.85    210.83              311.37   \n10      12.65  0.739     123.25     76.28               88.12   \n11      11.31  1.486      61.55     38.19               46.48   \n\n   200DayMovingAverage SharesOutstanding DividendDate ExDividendDate  \n0               285.02       629740000.0   2023-02-15     2023-01-11  \n1                76.55       782625000.0   2022-05-06     2022-04-13  \n2                86.82       547070000.0   2021-09-08     2023-02-08  \n3               362.84       457800000.0         None     2005-03-24  \n4               233.72       414400000.0   2023-04-01     2023-03-09  \n5               176.20        59254000.0   2023-01-03     2022-12-15  \n6                24.43       667950000.0   2023-02-15     2023-01-31  \n7                62.48       621789000.0   2023-03-01     2023-02-14  \n8               133.78       296072000.0   2023-01-25     2022-12-30  \n9               263.44       221988000.0   2023-05-08     2023-03-31  \n10               92.08       157242000.0         None           None  \n11               45.41       127533000.0   2020-03-05     2020-02-14  \n\n[12 rows x 48 columns]",
      "text/html": "<div>\n<style scoped>\n    .dataframe tbody tr th:only-of-type {\n        vertical-align: middle;\n    }\n\n    .dataframe tbody tr th {\n        vertical-align: top;\n    }\n\n    .dataframe thead th {\n        text-align: right;\n    }\n</style>\n<table border=\"1\" class=\"dataframe\">\n  <thead>\n    <tr style=\"text-align: right;\">\n      <th></th>\n      <th>Symbol</th>\n      <th>AssetType</th>\n      <th>Name</th>\n      <th>Description</th>\n      <th>CIK</th>\n      <th>Exchange</th>\n      <th>Currency</th>\n      <th>Country</th>\n      <th>Sector</th>\n      <th>Industry</th>\n      <th>...</th>\n      <th>EVToRevenue</th>\n      <th>EVToEBITDA</th>\n      <th>Beta</th>\n      <th>52WeekHigh</th>\n      <th>52WeekLow</th>\n      <th>50DayMovingAverage</th>\n      <th>200DayMovingAverage</th>\n      <th>SharesOutstanding</th>\n      <th>DividendDate</th>\n      <th>ExDividendDate</th>\n    </tr>\n  </thead>\n  <tbody>\n    <tr>\n      <th>0</th>\n      <td>ACN</td>\n      <td>Common Stock</td>\n      <td>Accenture plc</td>\n      <td>Accenture plc is an Irish-domiciled multinatio...</td>\n      <td>1467373</td>\n      <td>NYSE</td>\n      <td>USD</td>\n      <td>USA</td>\n      <td>TRADE &amp; SERVICES</td>\n      <td>SERVICES-BUSINESS SERVICES, NEC</td>\n      <td>...</td>\n      <td>3.043</td>\n      <td>18.53</td>\n      <td>1.235</td>\n      <td>351.21</td>\n      <td>241.96</td>\n      <td>279.80</td>\n      <td>285.02</td>\n      <td>629740000.0</td>\n      <td>2023-02-15</td>\n      <td>2023-01-11</td>\n    </tr>\n    <tr>\n      <th>1</th>\n      <td>ATVI</td>\n      <td>Common Stock</td>\n      <td>Activision Blizzard Inc</td>\n      <td>Activision Blizzard, Inc. is an American video...</td>\n      <td>718877</td>\n      <td>NASDAQ</td>\n      <td>USD</td>\n      <td>USA</td>\n      <td>TECHNOLOGY</td>\n      <td>SERVICES-PREPACKAGED SOFTWARE</td>\n      <td>...</td>\n      <td>7.23</td>\n      <td>22.05</td>\n      <td>0.428</td>\n      <td>81.52</td>\n      <td>70.94</td>\n      <td>75.84</td>\n      <td>76.55</td>\n      <td>782625000.0</td>\n      <td>2022-05-06</td>\n      <td>2022-04-13</td>\n    </tr>\n    <tr>\n      <th>2</th>\n      <td>ADM</td>\n      <td>Common Stock</td>\n      <td>Archer-Daniels-Midland Company</td>\n      <td>The Archer-Daniels-Midland Company, commonly k...</td>\n      <td>7084</td>\n      <td>NYSE</td>\n      <td>USD</td>\n      <td>USA</td>\n      <td>MANUFACTURING</td>\n      <td>FATS &amp; OILS</td>\n      <td>...</td>\n      <td>0.604</td>\n      <td>9.31</td>\n      <td>0.843</td>\n      <td>98.12</td>\n      <td>69.40</td>\n      <td>90.38</td>\n      <td>86.82</td>\n      <td>547070000.0</td>\n      <td>2021-09-08</td>\n      <td>2023-02-08</td>\n    </tr>\n    <tr>\n      <th>3</th>\n      <td>ADBE</td>\n      <td>Common Stock</td>\n      <td>Adobe Systems Incorporated</td>\n      <td>Adobe Inc. is an American multinational comput...</td>\n      <td>796343</td>\n      <td>NASDAQ</td>\n      <td>USD</td>\n      <td>USA</td>\n      <td>TECHNOLOGY</td>\n      <td>SERVICES-PREPACKAGED SOFTWARE</td>\n      <td>...</td>\n      <td>9.13</td>\n      <td>22.68</td>\n      <td>1.221</td>\n      <td>522.48</td>\n      <td>274.73</td>\n      <td>340.65</td>\n      <td>362.84</td>\n      <td>457800000.0</td>\n      <td>None</td>\n      <td>2005-03-24</td>\n    </tr>\n    <tr>\n      <th>4</th>\n      <td>ADP</td>\n      <td>Common Stock</td>\n      <td>Automatic Data Processing Inc</td>\n      <td>Automatic Data Processing, Inc. (ADP) is an Am...</td>\n      <td>8670</td>\n      <td>NASDAQ</td>\n      <td>USD</td>\n      <td>USA</td>\n      <td>TECHNOLOGY</td>\n      <td>SERVICES-COMPUTER PROCESSING &amp; DATA PREPARATION</td>\n      <td>...</td>\n      <td>6.72</td>\n      <td>24.22</td>\n      <td>0.864</td>\n      <td>274.92</td>\n      <td>188.67</td>\n      <td>246.24</td>\n      <td>233.72</td>\n      <td>414400000.0</td>\n      <td>2023-04-01</td>\n      <td>2023-03-09</td>\n    </tr>\n    <tr>\n      <th>5</th>\n      <td>AAP</td>\n      <td>Common Stock</td>\n      <td>Advance Auto Parts Inc</td>\n      <td>Advance Auto Parts, Inc. (Advance) is an Ameri...</td>\n      <td>1158449</td>\n      <td>NYSE</td>\n      <td>USD</td>\n      <td>USA</td>\n      <td>TRADE &amp; SERVICES</td>\n      <td>RETAIL-AUTO &amp; HOME SUPPLY STORES</td>\n      <td>...</td>\n      <td>1.077</td>\n      <td>12.61</td>\n      <td>1.139</td>\n      <td>226.09</td>\n      <td>138.52</td>\n      <td>147.83</td>\n      <td>176.20</td>\n      <td>59254000.0</td>\n      <td>2023-01-03</td>\n      <td>2022-12-15</td>\n    </tr>\n    <tr>\n      <th>6</th>\n      <td>AES</td>\n      <td>Common Stock</td>\n      <td>The AES Corporation</td>\n      <td>The AES Corporation is a Fortune 500 company t...</td>\n      <td>874761</td>\n      <td>NYSE</td>\n      <td>USD</td>\n      <td>USA</td>\n      <td>ENERGY &amp; TRANSPORTATION</td>\n      <td>COGENERATION SERVICES &amp; SMALL POWER PRODUCERS</td>\n      <td>...</td>\n      <td>3.273</td>\n      <td>30.85</td>\n      <td>0.957</td>\n      <td>29.70</td>\n      <td>18.26</td>\n      <td>27.92</td>\n      <td>24.43</td>\n      <td>667950000.0</td>\n      <td>2023-02-15</td>\n      <td>2023-01-31</td>\n    </tr>\n    <tr>\n      <th>7</th>\n      <td>AFL</td>\n      <td>Common Stock</td>\n      <td>Aflac Inc</td>\n      <td>Aflac Inc. (American Family Life Assurance Com...</td>\n      <td>4977</td>\n      <td>NYSE</td>\n      <td>USD</td>\n      <td>USA</td>\n      <td>FINANCE</td>\n      <td>ACCIDENT &amp; HEALTH INSURANCE</td>\n      <td>...</td>\n      <td>2.243</td>\n      <td>-</td>\n      <td>0.93</td>\n      <td>74.02</td>\n      <td>51.43</td>\n      <td>71.50</td>\n      <td>62.48</td>\n      <td>621789000.0</td>\n      <td>2023-03-01</td>\n      <td>2023-02-14</td>\n    </tr>\n    <tr>\n      <th>8</th>\n      <td>A</td>\n      <td>Common Stock</td>\n      <td>Agilent Technologies Inc</td>\n      <td>Agilent Technologies, Inc. is an American anal...</td>\n      <td>1090872</td>\n      <td>NYSE</td>\n      <td>USD</td>\n      <td>USA</td>\n      <td>LIFE SCIENCES</td>\n      <td>INSTRUMENTS FOR MEAS &amp; TESTING OF ELECTRICITY ...</td>\n      <td>...</td>\n      <td>6.92</td>\n      <td>24.87</td>\n      <td>1.063</td>\n      <td>160.03</td>\n      <td>111.96</td>\n      <td>152.86</td>\n      <td>133.78</td>\n      <td>296072000.0</td>\n      <td>2023-01-25</td>\n      <td>2022-12-30</td>\n    </tr>\n    <tr>\n      <th>9</th>\n      <td>APD</td>\n      <td>Common Stock</td>\n      <td>Air Products and Chemicals Inc</td>\n      <td>Air Products and Chemicals, Inc. is an America...</td>\n      <td>2969</td>\n      <td>NYSE</td>\n      <td>USD</td>\n      <td>USA</td>\n      <td>LIFE SCIENCES</td>\n      <td>INDUSTRIAL INORGANIC CHEMICALS</td>\n      <td>...</td>\n      <td>5.89</td>\n      <td>17.72</td>\n      <td>0.85</td>\n      <td>326.85</td>\n      <td>210.83</td>\n      <td>311.37</td>\n      <td>263.44</td>\n      <td>221988000.0</td>\n      <td>2023-05-08</td>\n      <td>2023-03-31</td>\n    </tr>\n    <tr>\n      <th>10</th>\n      <td>AKAM</td>\n      <td>Common Stock</td>\n      <td>Akamai Technologies Inc</td>\n      <td>Akamai Technologies, Inc. is a global content ...</td>\n      <td>1086222</td>\n      <td>NASDAQ</td>\n      <td>USD</td>\n      <td>USA</td>\n      <td>TRADE &amp; SERVICES</td>\n      <td>SERVICES-BUSINESS SERVICES, NEC</td>\n      <td>...</td>\n      <td>4.524</td>\n      <td>12.65</td>\n      <td>0.739</td>\n      <td>123.25</td>\n      <td>76.28</td>\n      <td>88.12</td>\n      <td>92.08</td>\n      <td>157242000.0</td>\n      <td>None</td>\n      <td>None</td>\n    </tr>\n    <tr>\n      <th>11</th>\n      <td>ALK</td>\n      <td>Common Stock</td>\n      <td>Alaska Air Group Inc</td>\n      <td>Alaska Air Group is an airline holding company...</td>\n      <td>766421</td>\n      <td>NYSE</td>\n      <td>USD</td>\n      <td>USA</td>\n      <td>ENERGY &amp; TRANSPORTATION</td>\n      <td>AIR TRANSPORTATION, SCHEDULED</td>\n      <td>...</td>\n      <td>0.729</td>\n      <td>11.31</td>\n      <td>1.486</td>\n      <td>61.55</td>\n      <td>38.19</td>\n      <td>46.48</td>\n      <td>45.41</td>\n      <td>127533000.0</td>\n      <td>2020-03-05</td>\n      <td>2020-02-14</td>\n    </tr>\n  </tbody>\n</table>\n<p>12 rows × 48 columns</p>\n</div>"
     },
     "metadata": {}
    }
   ]
  },
  {
   "cell_type": "code",
   "metadata": {
    "tags": [],
    "cell_id": "43d306b389c94fb58ae7c24c79b5f27e",
    "source_hash": "167930e1",
    "execution_start": 1675898748425,
    "execution_millis": 439,
    "deepnote_to_be_reexecuted": false,
    "deepnote_cell_type": "code"
   },
   "source": "quarterly_income_growth_df = PostgresDB.table_to_df('quarterly_income_growth')\nquarterly_income_growth_df.dropna(inplace=True)\nquarterly_income_growth_df.head(5)",
   "execution_count": null,
   "outputs": [
    {
     "output_type": "execute_result",
     "execution_count": 3,
     "data": {
      "application/vnd.deepnote.dataframe.v3+json": {
       "column_count": 39,
       "row_count": 5,
       "columns": [
        {
         "name": "id",
         "dtype": "int64",
         "stats": {
          "unique_count": 5,
          "nan_count": 0,
          "min": "1745",
          "max": "1749",
          "histogram": [
           {
            "bin_start": 1745,
            "bin_end": 1745.4,
            "count": 1
           },
           {
            "bin_start": 1745.4,
            "bin_end": 1745.8,
            "count": 0
           },
           {
            "bin_start": 1745.8,
            "bin_end": 1746.2,
            "count": 1
           },
           {
            "bin_start": 1746.2,
            "bin_end": 1746.6,
            "count": 0
           },
           {
            "bin_start": 1746.6,
            "bin_end": 1747,
            "count": 0
           },
           {
            "bin_start": 1747,
            "bin_end": 1747.4,
            "count": 1
           },
           {
            "bin_start": 1747.4,
            "bin_end": 1747.8,
            "count": 0
           },
           {
            "bin_start": 1747.8,
            "bin_end": 1748.2,
            "count": 1
           },
           {
            "bin_start": 1748.2,
            "bin_end": 1748.6,
            "count": 0
           },
           {
            "bin_start": 1748.6,
            "bin_end": 1749,
            "count": 1
           }
          ]
         }
        },
        {
         "name": "comprehensive_income_net_of_tax",
         "dtype": "int64",
         "stats": {
          "unique_count": 5,
          "nan_count": 0,
          "min": "11472000000",
          "max": "19742000000",
          "histogram": [
           {
            "bin_start": 11472000000,
            "bin_end": 12299000000,
            "count": 2
           },
           {
            "bin_start": 12299000000,
            "bin_end": 13126000000,
            "count": 0
           },
           {
            "bin_start": 13126000000,
            "bin_end": 13953000000,
            "count": 2
           },
           {
            "bin_start": 13953000000,
            "bin_end": 14780000000,
            "count": 0
           },
           {
            "bin_start": 14780000000,
            "bin_end": 15607000000,
            "count": 0
           },
           {
            "bin_start": 15607000000,
            "bin_end": 16434000000,
            "count": 0
           },
           {
            "bin_start": 16434000000,
            "bin_end": 17261000000,
            "count": 0
           },
           {
            "bin_start": 17261000000,
            "bin_end": 18088000000,
            "count": 0
           },
           {
            "bin_start": 18088000000,
            "bin_end": 18915000000,
            "count": 0
           },
           {
            "bin_start": 18915000000,
            "bin_end": 19742000000,
            "count": 1
           }
          ]
         }
        },
        {
         "name": "cost_of_revenue",
         "dtype": "int64",
         "stats": {
          "unique_count": 5,
          "nan_count": 0,
          "min": "32844000000",
          "max": "57062000000",
          "histogram": [
           {
            "bin_start": 32844000000,
            "bin_end": 35265800000,
            "count": 1
           },
           {
            "bin_start": 35265800000,
            "bin_end": 37687600000,
            "count": 0
           },
           {
            "bin_start": 37687600000,
            "bin_end": 40109400000,
            "count": 2
           },
           {
            "bin_start": 40109400000,
            "bin_end": 42531200000,
            "count": 1
           },
           {
            "bin_start": 42531200000,
            "bin_end": 44953000000,
            "count": 0
           },
           {
            "bin_start": 44953000000,
            "bin_end": 47374800000,
            "count": 0
           },
           {
            "bin_start": 47374800000,
            "bin_end": 49796600000,
            "count": 0
           },
           {
            "bin_start": 49796600000,
            "bin_end": 52218400000,
            "count": 0
           },
           {
            "bin_start": 52218400000,
            "bin_end": 54640200000,
            "count": 0
           },
           {
            "bin_start": 54640200000,
            "bin_end": 57062000000,
            "count": 1
           }
          ]
         }
        },
        {
         "name": "costof_goods_and_services_sold",
         "dtype": "int64",
         "stats": {
          "unique_count": 5,
          "nan_count": 0,
          "min": "32844000000",
          "max": "52279000000",
          "histogram": [
           {
            "bin_start": 32844000000,
            "bin_end": 34787500000,
            "count": 1
           },
           {
            "bin_start": 34787500000,
            "bin_end": 36731000000,
            "count": 1
           },
           {
            "bin_start": 36731000000,
            "bin_end": 38674500000,
            "count": 1
           },
           {
            "bin_start": 38674500000,
            "bin_end": 40618000000,
            "count": 1
           },
           {
            "bin_start": 40618000000,
            "bin_end": 42561500000,
            "count": 0
           },
           {
            "bin_start": 42561500000,
            "bin_end": 44505000000,
            "count": 0
           },
           {
            "bin_start": 44505000000,
            "bin_end": 46448500000,
            "count": 0
           },
           {
            "bin_start": 46448500000,
            "bin_end": 48392000000,
            "count": 0
           },
           {
            "bin_start": 48392000000,
            "bin_end": 50335500000,
            "count": 0
           },
           {
            "bin_start": 50335500000,
            "bin_end": 52279000000,
            "count": 1
           }
          ]
         }
        },
        {
         "name": "depreciation",
         "dtype": "int64",
         "stats": {
          "unique_count": 1,
          "nan_count": 0,
          "min": "-1",
          "max": "-1",
          "histogram": [
           {
            "bin_start": -1.5,
            "bin_end": -1.4,
            "count": 0
           },
           {
            "bin_start": -1.4,
            "bin_end": -1.3,
            "count": 0
           },
           {
            "bin_start": -1.3,
            "bin_end": -1.2,
            "count": 0
           },
           {
            "bin_start": -1.2,
            "bin_end": -1.1,
            "count": 0
           },
           {
            "bin_start": -1.1,
            "bin_end": -1,
            "count": 0
           },
           {
            "bin_start": -1,
            "bin_end": -0.8999999999999999,
            "count": 5
           },
           {
            "bin_start": -0.8999999999999999,
            "bin_end": -0.7999999999999999,
            "count": 0
           },
           {
            "bin_start": -0.7999999999999999,
            "bin_end": -0.7,
            "count": 0
           },
           {
            "bin_start": -0.7,
            "bin_end": -0.6,
            "count": 0
           },
           {
            "bin_start": -0.6,
            "bin_end": -0.5,
            "count": 0
           }
          ]
         }
        },
        {
         "name": "depreciation_and_amortization",
         "dtype": "int64",
         "stats": {
          "unique_count": 5,
          "nan_count": 0,
          "min": "2665000000",
          "max": "3395000000",
          "histogram": [
           {
            "bin_start": 2665000000,
            "bin_end": 2738000000,
            "count": 1
           },
           {
            "bin_start": 2738000000,
            "bin_end": 2811000000,
            "count": 2
           },
           {
            "bin_start": 2811000000,
            "bin_end": 2884000000,
            "count": 0
           },
           {
            "bin_start": 2884000000,
            "bin_end": 2957000000,
            "count": 0
           },
           {
            "bin_start": 2957000000,
            "bin_end": 3030000000,
            "count": 0
           },
           {
            "bin_start": 3030000000,
            "bin_end": 3103000000,
            "count": 1
           },
           {
            "bin_start": 3103000000,
            "bin_end": 3176000000,
            "count": 0
           },
           {
            "bin_start": 3176000000,
            "bin_end": 3249000000,
            "count": 0
           },
           {
            "bin_start": 3249000000,
            "bin_end": 3322000000,
            "count": 0
           },
           {
            "bin_start": 3322000000,
            "bin_end": 3395000000,
            "count": 1
           }
          ]
         }
        },
        {
         "name": "ebit",
         "dtype": "int64",
         "stats": {
          "unique_count": 5,
          "nan_count": 0,
          "min": "14130000000",
          "max": "24796000000",
          "histogram": [
           {
            "bin_start": 14130000000,
            "bin_end": 15196600000,
            "count": 2
           },
           {
            "bin_start": 15196600000,
            "bin_end": 16263200000,
            "count": 0
           },
           {
            "bin_start": 16263200000,
            "bin_end": 17329800000,
            "count": 2
           },
           {
            "bin_start": 17329800000,
            "bin_end": 18396400000,
            "count": 0
           },
           {
            "bin_start": 18396400000,
            "bin_end": 19463000000,
            "count": 0
           },
           {
            "bin_start": 19463000000,
            "bin_end": 20529600000,
            "count": 0
           },
           {
            "bin_start": 20529600000,
            "bin_end": 21596200000,
            "count": 0
           },
           {
            "bin_start": 21596200000,
            "bin_end": 22662800000,
            "count": 0
           },
           {
            "bin_start": 22662800000,
            "bin_end": 23729400000,
            "count": 0
           },
           {
            "bin_start": 23729400000,
            "bin_end": 24796000000,
            "count": 1
           }
          ]
         }
        },
        {
         "name": "ebitda",
         "dtype": "int64",
         "stats": {
          "unique_count": 5,
          "nan_count": 0,
          "min": "16795000000",
          "max": "28191000000",
          "histogram": [
           {
            "bin_start": 16795000000,
            "bin_end": 17934600000,
            "count": 2
           },
           {
            "bin_start": 17934600000,
            "bin_end": 19074200000,
            "count": 0
           },
           {
            "bin_start": 19074200000,
            "bin_end": 20213800000,
            "count": 2
           },
           {
            "bin_start": 20213800000,
            "bin_end": 21353400000,
            "count": 0
           },
           {
            "bin_start": 21353400000,
            "bin_end": 22493000000,
            "count": 0
           },
           {
            "bin_start": 22493000000,
            "bin_end": 23632600000,
            "count": 0
           },
           {
            "bin_start": 23632600000,
            "bin_end": 24772200000,
            "count": 0
           },
           {
            "bin_start": 24772200000,
            "bin_end": 25911800000,
            "count": 0
           },
           {
            "bin_start": 25911800000,
            "bin_end": 27051400000,
            "count": 0
           },
           {
            "bin_start": 27051400000,
            "bin_end": 28191000000,
            "count": 1
           }
          ]
         }
        },
        {
         "name": "gross_profit",
         "dtype": "int64",
         "stats": {
          "unique_count": 5,
          "nan_count": 0,
          "min": "20421000000",
          "max": "32031000000",
          "histogram": [
           {
            "bin_start": 20421000000,
            "bin_end": 21582000000,
            "count": 1
           },
           {
            "bin_start": 21582000000,
            "bin_end": 22743000000,
            "count": 1
           },
           {
            "bin_start": 22743000000,
            "bin_end": 23904000000,
            "count": 1
           },
           {
            "bin_start": 23904000000,
            "bin_end": 25065000000,
            "count": 1
           },
           {
            "bin_start": 25065000000,
            "bin_end": 26226000000,
            "count": 0
           },
           {
            "bin_start": 26226000000,
            "bin_end": 27387000000,
            "count": 0
           },
           {
            "bin_start": 27387000000,
            "bin_end": 28548000000,
            "count": 0
           },
           {
            "bin_start": 28548000000,
            "bin_end": 29709000000,
            "count": 0
           },
           {
            "bin_start": 29709000000,
            "bin_end": 30870000000,
            "count": 0
           },
           {
            "bin_start": 30870000000,
            "bin_end": 32031000000,
            "count": 1
           }
          ]
         }
        },
        {
         "name": "income_before_tax",
         "dtype": "int64",
         "stats": {
          "unique_count": 5,
          "nan_count": 0,
          "min": "13284000000",
          "max": "23906000000",
          "histogram": [
           {
            "bin_start": 13284000000,
            "bin_end": 14346200000,
            "count": 2
           },
           {
            "bin_start": 14346200000,
            "bin_end": 15408400000,
            "count": 0
           },
           {
            "bin_start": 15408400000,
            "bin_end": 16470600000,
            "count": 2
           },
           {
            "bin_start": 16470600000,
            "bin_end": 17532800000,
            "count": 0
           },
           {
            "bin_start": 17532800000,
            "bin_end": 18595000000,
            "count": 0
           },
           {
            "bin_start": 18595000000,
            "bin_end": 19657200000,
            "count": 0
           },
           {
            "bin_start": 19657200000,
            "bin_end": 20719400000,
            "count": 0
           },
           {
            "bin_start": 20719400000,
            "bin_end": 21781600000,
            "count": 0
           },
           {
            "bin_start": 21781600000,
            "bin_end": 22843800000,
            "count": 0
           },
           {
            "bin_start": 22843800000,
            "bin_end": 23906000000,
            "count": 1
           }
          ]
         }
        },
        {
         "name": "income_tax_expense",
         "dtype": "int64",
         "stats": {
          "unique_count": 5,
          "nan_count": 0,
          "min": "1765000000",
          "max": "3941000000",
          "histogram": [
           {
            "bin_start": 1765000000,
            "bin_end": 1982600000,
            "count": 1
           },
           {
            "bin_start": 1982600000,
            "bin_end": 2200200000,
            "count": 0
           },
           {
            "bin_start": 2200200000,
            "bin_end": 2417800000,
            "count": 3
           },
           {
            "bin_start": 2417800000,
            "bin_end": 2635400000,
            "count": 0
           },
           {
            "bin_start": 2635400000,
            "bin_end": 2853000000,
            "count": 0
           },
           {
            "bin_start": 2853000000,
            "bin_end": 3070600000,
            "count": 0
           },
           {
            "bin_start": 3070600000,
            "bin_end": 3288200000,
            "count": 0
           },
           {
            "bin_start": 3288200000,
            "bin_end": 3505800000,
            "count": 0
           },
           {
            "bin_start": 3505800000,
            "bin_end": 3723400000,
            "count": 0
           },
           {
            "bin_start": 3723400000,
            "bin_end": 3941000000,
            "count": 1
           }
          ]
         }
        },
        {
         "name": "interest_and_debt_expense",
         "dtype": "int64",
         "stats": {
          "unique_count": 5,
          "nan_count": 0,
          "min": "792000000",
          "max": "1010000000",
          "histogram": [
           {
            "bin_start": 792000000,
            "bin_end": 813800000,
            "count": 1
           },
           {
            "bin_start": 813800000,
            "bin_end": 835600000,
            "count": 0
           },
           {
            "bin_start": 835600000,
            "bin_end": 857400000,
            "count": 1
           },
           {
            "bin_start": 857400000,
            "bin_end": 879200000,
            "count": 1
           },
           {
            "bin_start": 879200000,
            "bin_end": 901000000,
            "count": 1
           },
           {
            "bin_start": 901000000,
            "bin_end": 922800000,
            "count": 0
           },
           {
            "bin_start": 922800000,
            "bin_end": 944600000,
            "count": 0
           },
           {
            "bin_start": 944600000,
            "bin_end": 966400000,
            "count": 0
           },
           {
            "bin_start": 966400000,
            "bin_end": 988200000,
            "count": 0
           },
           {
            "bin_start": 988200000,
            "bin_end": 1010000000,
            "count": 1
           }
          ]
         }
        },
        {
         "name": "interest_expense",
         "dtype": "int64",
         "stats": {
          "unique_count": 5,
          "nan_count": 0,
          "min": "792000000",
          "max": "1010000000",
          "histogram": [
           {
            "bin_start": 792000000,
            "bin_end": 813800000,
            "count": 1
           },
           {
            "bin_start": 813800000,
            "bin_end": 835600000,
            "count": 0
           },
           {
            "bin_start": 835600000,
            "bin_end": 857400000,
            "count": 1
           },
           {
            "bin_start": 857400000,
            "bin_end": 879200000,
            "count": 1
           },
           {
            "bin_start": 879200000,
            "bin_end": 901000000,
            "count": 1
           },
           {
            "bin_start": 901000000,
            "bin_end": 922800000,
            "count": 0
           },
           {
            "bin_start": 922800000,
            "bin_end": 944600000,
            "count": 0
           },
           {
            "bin_start": 944600000,
            "bin_end": 966400000,
            "count": 0
           },
           {
            "bin_start": 966400000,
            "bin_end": 988200000,
            "count": 0
           },
           {
            "bin_start": 988200000,
            "bin_end": 1010000000,
            "count": 1
           }
          ]
         }
        },
        {
         "name": "interest_income",
         "dtype": "int64",
         "stats": {
          "unique_count": 2,
          "nan_count": 0,
          "min": "-1",
          "max": "1358000000",
          "histogram": [
           {
            "bin_start": -1,
            "bin_end": 135799999.1,
            "count": 4
           },
           {
            "bin_start": 135799999.1,
            "bin_end": 271599999.2,
            "count": 0
           },
           {
            "bin_start": 271599999.2,
            "bin_end": 407399999.29999995,
            "count": 0
           },
           {
            "bin_start": 407399999.29999995,
            "bin_end": 543199999.4,
            "count": 0
           },
           {
            "bin_start": 543199999.4,
            "bin_end": 678999999.5,
            "count": 0
           },
           {
            "bin_start": 678999999.5,
            "bin_end": 814799999.5999999,
            "count": 0
           },
           {
            "bin_start": 814799999.5999999,
            "bin_end": 950599999.6999999,
            "count": 0
           },
           {
            "bin_start": 950599999.6999999,
            "bin_end": 1086399999.8,
            "count": 0
           },
           {
            "bin_start": 1086399999.8,
            "bin_end": 1222199999.8999999,
            "count": 0
           },
           {
            "bin_start": 1222199999.8999999,
            "bin_end": 1358000000,
            "count": 1
           }
          ]
         }
        },
        {
         "name": "investment_income_net",
         "dtype": "int64",
         "stats": {
          "unique_count": 5,
          "nan_count": 0,
          "min": "1307000000",
          "max": "1505000000",
          "histogram": [
           {
            "bin_start": 1307000000,
            "bin_end": 1326800000,
            "count": 2
           },
           {
            "bin_start": 1326800000,
            "bin_end": 1346600000,
            "count": 0
           },
           {
            "bin_start": 1346600000,
            "bin_end": 1366400000,
            "count": 1
           },
           {
            "bin_start": 1366400000,
            "bin_end": 1386200000,
            "count": 0
           },
           {
            "bin_start": 1386200000,
            "bin_end": 1406000000,
            "count": 0
           },
           {
            "bin_start": 1406000000,
            "bin_end": 1425800000,
            "count": 1
           },
           {
            "bin_start": 1425800000,
            "bin_end": 1445600000,
            "count": 0
           },
           {
            "bin_start": 1445600000,
            "bin_end": 1465400000,
            "count": 0
           },
           {
            "bin_start": 1465400000,
            "bin_end": 1485200000,
            "count": 0
           },
           {
            "bin_start": 1485200000,
            "bin_end": 1505000000,
            "count": 1
           }
          ]
         }
        },
        {
         "name": "net_income",
         "dtype": "int64",
         "stats": {
          "unique_count": 5,
          "nan_count": 0,
          "min": "11519000000",
          "max": "19965000000",
          "histogram": [
           {
            "bin_start": 11519000000,
            "bin_end": 12363600000,
            "count": 2
           },
           {
            "bin_start": 12363600000,
            "bin_end": 13208200000,
            "count": 0
           },
           {
            "bin_start": 13208200000,
            "bin_end": 14052800000,
            "count": 1
           },
           {
            "bin_start": 14052800000,
            "bin_end": 14897400000,
            "count": 1
           },
           {
            "bin_start": 14897400000,
            "bin_end": 15742000000,
            "count": 0
           },
           {
            "bin_start": 15742000000,
            "bin_end": 16586600000,
            "count": 0
           },
           {
            "bin_start": 16586600000,
            "bin_end": 17431200000,
            "count": 0
           },
           {
            "bin_start": 17431200000,
            "bin_end": 18275800000,
            "count": 0
           },
           {
            "bin_start": 18275800000,
            "bin_end": 19120400000,
            "count": 0
           },
           {
            "bin_start": 19120400000,
            "bin_end": 19965000000,
            "count": 1
           }
          ]
         }
        },
        {
         "name": "net_income_from_continuing_operations",
         "dtype": "int64",
         "stats": {
          "unique_count": 5,
          "nan_count": 0,
          "min": "11519000000",
          "max": "24084000000",
          "histogram": [
           {
            "bin_start": 11519000000,
            "bin_end": 12775500000,
            "count": 2
           },
           {
            "bin_start": 12775500000,
            "bin_end": 14032000000,
            "count": 1
           },
           {
            "bin_start": 14032000000,
            "bin_end": 15288500000,
            "count": 0
           },
           {
            "bin_start": 15288500000,
            "bin_end": 16545000000,
            "count": 0
           },
           {
            "bin_start": 16545000000,
            "bin_end": 17801500000,
            "count": 0
           },
           {
            "bin_start": 17801500000,
            "bin_end": 19058000000,
            "count": 0
           },
           {
            "bin_start": 19058000000,
            "bin_end": 20314500000,
            "count": 1
           },
           {
            "bin_start": 20314500000,
            "bin_end": 21571000000,
            "count": 0
           },
           {
            "bin_start": 21571000000,
            "bin_end": 22827500000,
            "count": 0
           },
           {
            "bin_start": 22827500000,
            "bin_end": 24084000000,
            "count": 1
           }
          ]
         }
        },
        {
         "name": "net_interest_income",
         "dtype": "int64",
         "stats": {
          "unique_count": 5,
          "nan_count": 0,
          "min": "-1010000000",
          "max": "-792000000",
          "histogram": [
           {
            "bin_start": -1010000000,
            "bin_end": -988200000,
            "count": 1
           },
           {
            "bin_start": -988200000,
            "bin_end": -966400000,
            "count": 0
           },
           {
            "bin_start": -966400000,
            "bin_end": -944600000,
            "count": 0
           },
           {
            "bin_start": -944600000,
            "bin_end": -922800000,
            "count": 0
           },
           {
            "bin_start": -922800000,
            "bin_end": -901000000,
            "count": 0
           },
           {
            "bin_start": -901000000,
            "bin_end": -879200000,
            "count": 1
           },
           {
            "bin_start": -879200000,
            "bin_end": -857400000,
            "count": 1
           },
           {
            "bin_start": -857400000,
            "bin_end": -835600000,
            "count": 1
           },
           {
            "bin_start": -835600000,
            "bin_end": -813800000,
            "count": 0
           },
           {
            "bin_start": -813800000,
            "bin_end": -792000000,
            "count": 1
           }
          ]
         }
        },
        {
         "name": "non_interest_income",
         "dtype": "int64",
         "stats": {
          "unique_count": 5,
          "nan_count": 0,
          "min": "53265000000",
          "max": "84310000000",
          "histogram": [
           {
            "bin_start": 53265000000,
            "bin_end": 56369500000,
            "count": 1
           },
           {
            "bin_start": 56369500000,
            "bin_end": 59474000000,
            "count": 1
           },
           {
            "bin_start": 59474000000,
            "bin_end": 62578500000,
            "count": 1
           },
           {
            "bin_start": 62578500000,
            "bin_end": 65683000000,
            "count": 1
           },
           {
            "bin_start": 65683000000,
            "bin_end": 68787500000,
            "count": 0
           },
           {
            "bin_start": 68787500000,
            "bin_end": 71892000000,
            "count": 0
           },
           {
            "bin_start": 71892000000,
            "bin_end": 74996500000,
            "count": 0
           },
           {
            "bin_start": 74996500000,
            "bin_end": 78101000000,
            "count": 0
           },
           {
            "bin_start": 78101000000,
            "bin_end": 81205500000,
            "count": 0
           },
           {
            "bin_start": 81205500000,
            "bin_end": 84310000000,
            "count": 1
           }
          ]
         }
        },
        {
         "name": "operating_expenses",
         "dtype": "int64",
         "stats": {
          "unique_count": 5,
          "nan_count": 0,
          "min": "7528000000",
          "max": "8685000000",
          "histogram": [
           {
            "bin_start": 7528000000,
            "bin_end": 7643700000,
            "count": 1
           },
           {
            "bin_start": 7643700000,
            "bin_end": 7759400000,
            "count": 0
           },
           {
            "bin_start": 7759400000,
            "bin_end": 7875100000,
            "count": 1
           },
           {
            "bin_start": 7875100000,
            "bin_end": 7990800000,
            "count": 1
           },
           {
            "bin_start": 7990800000,
            "bin_end": 8106500000,
            "count": 0
           },
           {
            "bin_start": 8106500000,
            "bin_end": 8222200000,
            "count": 0
           },
           {
            "bin_start": 8222200000,
            "bin_end": 8337900000,
            "count": 0
           },
           {
            "bin_start": 8337900000,
            "bin_end": 8453600000,
            "count": 1
           },
           {
            "bin_start": 8453600000,
            "bin_end": 8569300000,
            "count": 0
           },
           {
            "bin_start": 8569300000,
            "bin_end": 8685000000,
            "count": 1
           }
          ]
         }
        },
        {
         "name": "operating_income",
         "dtype": "int64",
         "stats": {
          "unique_count": 5,
          "nan_count": 0,
          "min": "12612000000",
          "max": "23346000000",
          "histogram": [
           {
            "bin_start": 12612000000,
            "bin_end": 13685400000,
            "count": 2
           },
           {
            "bin_start": 13685400000,
            "bin_end": 14758800000,
            "count": 0
           },
           {
            "bin_start": 14758800000,
            "bin_end": 15832200000,
            "count": 0
           },
           {
            "bin_start": 15832200000,
            "bin_end": 16905600000,
            "count": 2
           },
           {
            "bin_start": 16905600000,
            "bin_end": 17979000000,
            "count": 0
           },
           {
            "bin_start": 17979000000,
            "bin_end": 19052400000,
            "count": 0
           },
           {
            "bin_start": 19052400000,
            "bin_end": 20125800000,
            "count": 0
           },
           {
            "bin_start": 20125800000,
            "bin_end": 21199200000,
            "count": 0
           },
           {
            "bin_start": 21199200000,
            "bin_end": 22272600000,
            "count": 0
           },
           {
            "bin_start": 22272600000,
            "bin_end": 23346000000,
            "count": 1
           }
          ]
         }
        },
        {
         "name": "other_non_operating_income",
         "dtype": "int64",
         "stats": {
          "unique_count": 5,
          "nan_count": 0,
          "min": "-439000000",
          "max": "143000000",
          "histogram": [
           {
            "bin_start": -439000000,
            "bin_end": -380800000,
            "count": 1
           },
           {
            "bin_start": -380800000,
            "bin_end": -322600000,
            "count": 0
           },
           {
            "bin_start": -322600000,
            "bin_end": -264400000,
            "count": 0
           },
           {
            "bin_start": -264400000,
            "bin_end": -206200000,
            "count": 0
           },
           {
            "bin_start": -206200000,
            "bin_end": -148000000,
            "count": 0
           },
           {
            "bin_start": -148000000,
            "bin_end": -89800000,
            "count": 1
           },
           {
            "bin_start": -89800000,
            "bin_end": -31600000,
            "count": 0
           },
           {
            "bin_start": -31600000,
            "bin_end": 26600000,
            "count": 0
           },
           {
            "bin_start": 26600000,
            "bin_end": 84800000,
            "count": 1
           },
           {
            "bin_start": 84800000,
            "bin_end": 143000000,
            "count": 2
           }
          ]
         }
        },
        {
         "name": "report_type",
         "dtype": "object",
         "stats": {
          "unique_count": 1,
          "nan_count": 0,
          "categories": [
           {
            "name": "QUARTER",
            "count": 5
           }
          ]
         }
        },
        {
         "name": "reported_currency",
         "dtype": "object",
         "stats": {
          "unique_count": 1,
          "nan_count": 0,
          "categories": [
           {
            "name": "USD",
            "count": 5
           }
          ]
         }
        },
        {
         "name": "research_and_development",
         "dtype": "int64",
         "stats": {
          "unique_count": 5,
          "nan_count": 0,
          "min": "3378000000",
          "max": "3948000000",
          "histogram": [
           {
            "bin_start": 3378000000,
            "bin_end": 3435000000,
            "count": 1
           },
           {
            "bin_start": 3435000000,
            "bin_end": 3492000000,
            "count": 0
           },
           {
            "bin_start": 3492000000,
            "bin_end": 3549000000,
            "count": 0
           },
           {
            "bin_start": 3549000000,
            "bin_end": 3606000000,
            "count": 0
           },
           {
            "bin_start": 3606000000,
            "bin_end": 3663000000,
            "count": 0
           },
           {
            "bin_start": 3663000000,
            "bin_end": 3720000000,
            "count": 1
           },
           {
            "bin_start": 3720000000,
            "bin_end": 3777000000,
            "count": 1
           },
           {
            "bin_start": 3777000000,
            "bin_end": 3834000000,
            "count": 0
           },
           {
            "bin_start": 3834000000,
            "bin_end": 3891000000,
            "count": 0
           },
           {
            "bin_start": 3891000000,
            "bin_end": 3948000000,
            "count": 2
           }
          ]
         }
        },
        {
         "name": "selling_general_and_administrative",
         "dtype": "int64",
         "stats": {
          "unique_count": 5,
          "nan_count": 0,
          "min": "4108000000",
          "max": "4783000000",
          "histogram": [
           {
            "bin_start": 4108000000,
            "bin_end": 4175500000,
            "count": 2
           },
           {
            "bin_start": 4175500000,
            "bin_end": 4243000000,
            "count": 1
           },
           {
            "bin_start": 4243000000,
            "bin_end": 4310500000,
            "count": 0
           },
           {
            "bin_start": 4310500000,
            "bin_end": 4378000000,
            "count": 0
           },
           {
            "bin_start": 4378000000,
            "bin_end": 4445500000,
            "count": 0
           },
           {
            "bin_start": 4445500000,
            "bin_end": 4513000000,
            "count": 1
           },
           {
            "bin_start": 4513000000,
            "bin_end": 4580500000,
            "count": 0
           },
           {
            "bin_start": 4580500000,
            "bin_end": 4648000000,
            "count": 0
           },
           {
            "bin_start": 4648000000,
            "bin_end": 4715500000,
            "count": 0
           },
           {
            "bin_start": 4715500000,
            "bin_end": 4783000000,
            "count": 1
           }
          ]
         }
        },
        {
         "name": "symbol",
         "dtype": "object",
         "stats": {
          "unique_count": 1,
          "nan_count": 0,
          "categories": [
           {
            "name": "AAPL",
            "count": 5
           }
          ]
         }
        },
        {
         "name": "total_revenue",
         "dtype": "int64",
         "stats": {
          "unique_count": 5,
          "nan_count": 0,
          "min": "53265000000",
          "max": "83420000000",
          "histogram": [
           {
            "bin_start": 53265000000,
            "bin_end": 56280500000,
            "count": 1
           },
           {
            "bin_start": 56280500000,
            "bin_end": 59296000000,
            "count": 1
           },
           {
            "bin_start": 59296000000,
            "bin_end": 62311500000,
            "count": 1
           },
           {
            "bin_start": 62311500000,
            "bin_end": 65327000000,
            "count": 1
           },
           {
            "bin_start": 65327000000,
            "bin_end": 68342500000,
            "count": 0
           },
           {
            "bin_start": 68342500000,
            "bin_end": 71358000000,
            "count": 0
           },
           {
            "bin_start": 71358000000,
            "bin_end": 74373500000,
            "count": 0
           },
           {
            "bin_start": 74373500000,
            "bin_end": 77389000000,
            "count": 0
           },
           {
            "bin_start": 77389000000,
            "bin_end": 80404500000,
            "count": 0
           },
           {
            "bin_start": 80404500000,
            "bin_end": 83420000000,
            "count": 1
           }
          ]
         }
        },
        {
         "name": "stock_symbol",
         "dtype": "object",
         "stats": {
          "unique_count": 1,
          "nan_count": 0,
          "categories": [
           {
            "name": "AAPL",
            "count": 5
           }
          ]
         }
        },
        {
         "name": "Year",
         "dtype": "int64",
         "stats": {
          "unique_count": 2,
          "nan_count": 0,
          "min": "2018",
          "max": "2019",
          "histogram": [
           {
            "bin_start": 2018,
            "bin_end": 2018.1,
            "count": 4
           },
           {
            "bin_start": 2018.1,
            "bin_end": 2018.2,
            "count": 0
           },
           {
            "bin_start": 2018.2,
            "bin_end": 2018.3,
            "count": 0
           },
           {
            "bin_start": 2018.3,
            "bin_end": 2018.4,
            "count": 0
           },
           {
            "bin_start": 2018.4,
            "bin_end": 2018.5,
            "count": 0
           },
           {
            "bin_start": 2018.5,
            "bin_end": 2018.6,
            "count": 0
           },
           {
            "bin_start": 2018.6,
            "bin_end": 2018.7,
            "count": 0
           },
           {
            "bin_start": 2018.7,
            "bin_end": 2018.8,
            "count": 0
           },
           {
            "bin_start": 2018.8,
            "bin_end": 2018.9,
            "count": 0
           },
           {
            "bin_start": 2018.9,
            "bin_end": 2019,
            "count": 1
           }
          ]
         }
        },
        {
         "name": "Month",
         "dtype": "int64",
         "stats": {
          "unique_count": 4,
          "nan_count": 0,
          "min": "3",
          "max": "12",
          "histogram": [
           {
            "bin_start": 3,
            "bin_end": 3.9,
            "count": 2
           },
           {
            "bin_start": 3.9,
            "bin_end": 4.8,
            "count": 0
           },
           {
            "bin_start": 4.8,
            "bin_end": 5.7,
            "count": 0
           },
           {
            "bin_start": 5.7,
            "bin_end": 6.6,
            "count": 1
           },
           {
            "bin_start": 6.6,
            "bin_end": 7.5,
            "count": 0
           },
           {
            "bin_start": 7.5,
            "bin_end": 8.4,
            "count": 0
           },
           {
            "bin_start": 8.4,
            "bin_end": 9.3,
            "count": 1
           },
           {
            "bin_start": 9.3,
            "bin_end": 10.2,
            "count": 0
           },
           {
            "bin_start": 10.2,
            "bin_end": 11.1,
            "count": 0
           },
           {
            "bin_start": 11.1,
            "bin_end": 12,
            "count": 1
           }
          ]
         }
        },
        {
         "name": "operating_income_growth",
         "dtype": "float64",
         "stats": {
          "unique_count": 5,
          "nan_count": 0,
          "min": "-0.4253833633170565",
          "max": "0.44844273483062413",
          "histogram": [
           {
            "bin_start": -0.4253833633170565,
            "bin_end": -0.3380007535022884,
            "count": 2
           },
           {
            "bin_start": -0.3380007535022884,
            "bin_end": -0.2506181436875204,
            "count": 0
           },
           {
            "bin_start": -0.2506181436875204,
            "bin_end": -0.16323553387275236,
            "count": 1
           },
           {
            "bin_start": -0.16323553387275236,
            "bin_end": -0.07585292405798427,
            "count": 0
           },
           {
            "bin_start": -0.07585292405798427,
            "bin_end": 0.011529685756783814,
            "count": 0
           },
           {
            "bin_start": 0.011529685756783814,
            "bin_end": 0.09891229557155179,
            "count": 0
           },
           {
            "bin_start": 0.09891229557155179,
            "bin_end": 0.18629490538631988,
            "count": 0
           },
           {
            "bin_start": 0.18629490538631988,
            "bin_end": 0.27367751520108796,
            "count": 0
           },
           {
            "bin_start": 0.27367751520108796,
            "bin_end": 0.36106012501585605,
            "count": 1
           },
           {
            "bin_start": 0.36106012501585605,
            "bin_end": 0.44844273483062413,
            "count": 1
           }
          ]
         }
        },
        {
         "name": "net_income_growth",
         "dtype": "float64",
         "stats": {
          "unique_count": 5,
          "nan_count": 0,
          "min": "-0.42093663911845725",
          "max": "0.4134513274336282",
          "histogram": [
           {
            "bin_start": -0.42093663911845725,
            "bin_end": -0.3374978424632487,
            "count": 1
           },
           {
            "bin_start": -0.3374978424632487,
            "bin_end": -0.2540590458080402,
            "count": 1
           },
           {
            "bin_start": -0.2540590458080402,
            "bin_end": -0.17062024915283158,
            "count": 0
           },
           {
            "bin_start": -0.17062024915283158,
            "bin_end": -0.08718145249762305,
            "count": 1
           },
           {
            "bin_start": -0.08718145249762305,
            "bin_end": -0.0037426558424145107,
            "count": 0
           },
           {
            "bin_start": -0.0037426558424145107,
            "bin_end": 0.07969614081279408,
            "count": 0
           },
           {
            "bin_start": 0.07969614081279408,
            "bin_end": 0.16313493746800256,
            "count": 0
           },
           {
            "bin_start": 0.16313493746800256,
            "bin_end": 0.24657373412321115,
            "count": 1
           },
           {
            "bin_start": 0.24657373412321115,
            "bin_end": 0.33001253077841974,
            "count": 0
           },
           {
            "bin_start": 0.33001253077841974,
            "bin_end": 0.4134513274336282,
            "count": 1
           }
          ]
         }
        },
        {
         "name": "cost_of_revenue_growth",
         "dtype": "float64",
         "stats": {
          "unique_count": 5,
          "nan_count": 0,
          "min": "-0.3064673323403394",
          "max": "0.47006389117889524",
          "histogram": [
           {
            "bin_start": -0.3064673323403394,
            "bin_end": -0.22881420998841595,
            "count": 2
           },
           {
            "bin_start": -0.22881420998841595,
            "bin_end": -0.15116108763649247,
            "count": 0
           },
           {
            "bin_start": -0.15116108763649247,
            "bin_end": -0.07350796528456899,
            "count": 1
           },
           {
            "bin_start": -0.07350796528456899,
            "bin_end": 0.004145157067354466,
            "count": 0
           },
           {
            "bin_start": 0.004145157067354466,
            "bin_end": 0.08179827941927792,
            "count": 0
           },
           {
            "bin_start": 0.08179827941927792,
            "bin_end": 0.15945140177120143,
            "count": 0
           },
           {
            "bin_start": 0.15945140177120143,
            "bin_end": 0.23710452412312488,
            "count": 1
           },
           {
            "bin_start": 0.23710452412312488,
            "bin_end": 0.31475764647504834,
            "count": 0
           },
           {
            "bin_start": 0.31475764647504834,
            "bin_end": 0.3924107688269718,
            "count": 0
           },
           {
            "bin_start": 0.3924107688269718,
            "bin_end": 0.47006389117889524,
            "count": 1
           }
          ]
         }
        },
        {
         "name": "costof_goods_and_services_sold_growth",
         "dtype": "float64",
         "stats": {
          "unique_count": 5,
          "nan_count": 0,
          "min": "-0.30767612234357966",
          "max": "0.3468415086562242",
          "histogram": [
           {
            "bin_start": -0.30767612234357966,
            "bin_end": -0.24222435924359928,
            "count": 2
           },
           {
            "bin_start": -0.24222435924359928,
            "bin_end": -0.1767725961436189,
            "count": 0
           },
           {
            "bin_start": -0.1767725961436189,
            "bin_end": -0.11132083304363852,
            "count": 1
           },
           {
            "bin_start": -0.11132083304363852,
            "bin_end": -0.045869069943658136,
            "count": 0
           },
           {
            "bin_start": -0.045869069943658136,
            "bin_end": 0.019582693156322217,
            "count": 0
           },
           {
            "bin_start": 0.019582693156322217,
            "bin_end": 0.08503445625630263,
            "count": 0
           },
           {
            "bin_start": 0.08503445625630263,
            "bin_end": 0.15048621935628304,
            "count": 0
           },
           {
            "bin_start": 0.15048621935628304,
            "bin_end": 0.2159379824562634,
            "count": 1
           },
           {
            "bin_start": 0.2159379824562634,
            "bin_end": 0.28138974555624374,
            "count": 0
           },
           {
            "bin_start": 0.28138974555624374,
            "bin_end": 0.3468415086562242,
            "count": 1
           }
          ]
         }
        },
        {
         "name": "ebit_growth",
         "dtype": "float64",
         "stats": {
          "unique_count": 5,
          "nan_count": 0,
          "min": "-0.40300854976609135",
          "max": "0.43420672103649727",
          "histogram": [
           {
            "bin_start": -0.40300854976609135,
            "bin_end": -0.3192870226858325,
            "count": 2
           },
           {
            "bin_start": -0.3192870226858325,
            "bin_end": -0.23556549560557363,
            "count": 0
           },
           {
            "bin_start": -0.23556549560557363,
            "bin_end": -0.1518439685253148,
            "count": 1
           },
           {
            "bin_start": -0.1518439685253148,
            "bin_end": -0.06812244144505591,
            "count": 0
           },
           {
            "bin_start": -0.06812244144505591,
            "bin_end": 0.015599085635202958,
            "count": 0
           },
           {
            "bin_start": 0.015599085635202958,
            "bin_end": 0.09932061271546178,
            "count": 0
           },
           {
            "bin_start": 0.09932061271546178,
            "bin_end": 0.1830421397957207,
            "count": 0
           },
           {
            "bin_start": 0.1830421397957207,
            "bin_end": 0.2667636668759795,
            "count": 1
           },
           {
            "bin_start": 0.2667636668759795,
            "bin_end": 0.35048519395623834,
            "count": 0
           },
           {
            "bin_start": 0.35048519395623834,
            "bin_end": 0.43420672103649727,
            "count": 1
           }
          ]
         }
        },
        {
         "name": "ebitda_growth",
         "dtype": "float64",
         "stats": {
          "unique_count": 5,
          "nan_count": 0,
          "min": "-0.3670675038132737",
          "max": "0.4065259691662926",
          "histogram": [
           {
            "bin_start": -0.3670675038132737,
            "bin_end": -0.28970815651531706,
            "count": 2
           },
           {
            "bin_start": -0.28970815651531706,
            "bin_end": -0.21234880921736043,
            "count": 0
           },
           {
            "bin_start": -0.21234880921736043,
            "bin_end": -0.1349894619194038,
            "count": 1
           },
           {
            "bin_start": -0.1349894619194038,
            "bin_end": -0.05763011462144718,
            "count": 0
           },
           {
            "bin_start": -0.05763011462144718,
            "bin_end": 0.019729232676509445,
            "count": 0
           },
           {
            "bin_start": 0.019729232676509445,
            "bin_end": 0.09708857997446607,
            "count": 0
           },
           {
            "bin_start": 0.09708857997446607,
            "bin_end": 0.17444792727242275,
            "count": 0
           },
           {
            "bin_start": 0.17444792727242275,
            "bin_end": 0.2518072745703793,
            "count": 1
           },
           {
            "bin_start": 0.2518072745703793,
            "bin_end": 0.3291666218683359,
            "count": 0
           },
           {
            "bin_start": 0.3291666218683359,
            "bin_end": 0.4065259691662926,
            "count": 1
           }
          ]
         }
        },
        {
         "name": "research_and_development_growth",
         "dtype": "float64",
         "stats": {
          "unique_count": 5,
          "nan_count": 0,
          "min": "-0.008511887290871711",
          "max": "0.09561870929544103",
          "histogram": [
           {
            "bin_start": -0.008511887290871711,
            "bin_end": 0.001901172367759562,
            "count": 1
           },
           {
            "bin_start": 0.001901172367759562,
            "bin_end": 0.012314232026390835,
            "count": 1
           },
           {
            "bin_start": 0.012314232026390835,
            "bin_end": 0.02272729168502211,
            "count": 1
           },
           {
            "bin_start": 0.02272729168502211,
            "bin_end": 0.03314035134365338,
            "count": 0
           },
           {
            "bin_start": 0.03314035134365338,
            "bin_end": 0.04355341100228466,
            "count": 1
           },
           {
            "bin_start": 0.04355341100228466,
            "bin_end": 0.05396647066091593,
            "count": 0
           },
           {
            "bin_start": 0.05396647066091593,
            "bin_end": 0.0643795303195472,
            "count": 0
           },
           {
            "bin_start": 0.0643795303195472,
            "bin_end": 0.07479258997817848,
            "count": 0
           },
           {
            "bin_start": 0.07479258997817848,
            "bin_end": 0.08520564963680975,
            "count": 0
           },
           {
            "bin_start": 0.08520564963680975,
            "bin_end": 0.09561870929544103,
            "count": 1
           }
          ]
         }
        },
        {
         "name": "total_revenue_growth",
         "dtype": "float64",
         "stats": {
          "unique_count": 5,
          "nan_count": 0,
          "min": "-0.31665068328937906",
          "max": "0.3262321144674085",
          "histogram": [
           {
            "bin_start": -0.31665068328937906,
            "bin_end": -0.2523624035137003,
            "count": 2
           },
           {
            "bin_start": -0.2523624035137003,
            "bin_end": -0.18807412373802154,
            "count": 0
           },
           {
            "bin_start": -0.18807412373802154,
            "bin_end": -0.12378584396234277,
            "count": 1
           },
           {
            "bin_start": -0.12378584396234277,
            "bin_end": -0.05949756418666402,
            "count": 0
           },
           {
            "bin_start": -0.05949756418666402,
            "bin_end": 0.004790715589014727,
            "count": 0
           },
           {
            "bin_start": 0.004790715589014727,
            "bin_end": 0.06907899536469353,
            "count": 0
           },
           {
            "bin_start": 0.06907899536469353,
            "bin_end": 0.13336727514037228,
            "count": 0
           },
           {
            "bin_start": 0.13336727514037228,
            "bin_end": 0.19765555491605102,
            "count": 1
           },
           {
            "bin_start": 0.19765555491605102,
            "bin_end": 0.26194383469172977,
            "count": 0
           },
           {
            "bin_start": 0.26194383469172977,
            "bin_end": 0.3262321144674085,
            "count": 1
           }
          ]
         }
        },
        {
         "name": "_deepnote_index_column",
         "dtype": "int64"
        }
       ],
       "rows": [
        {
         "id": "1749",
         "comprehensive_income_net_of_tax": "11877000000",
         "cost_of_revenue": "37715000000",
         "costof_goods_and_services_sold": "37715000000",
         "depreciation": "-1",
         "depreciation_and_amortization": "2739000000",
         "ebit": "16960000000",
         "ebitda": "19699000000",
         "gross_profit": "23422000000",
         "income_before_tax": "16168000000",
         "income_tax_expense": "2346000000",
         "interest_and_debt_expense": "792000000",
         "interest_expense": "792000000",
         "interest_income": "-1",
         "investment_income_net": "1505000000",
         "net_income": "13822000000",
         "net_income_from_continuing_operations": "13822000000",
         "net_interest_income": "-792000000",
         "non_interest_income": "61137000000",
         "operating_expenses": "7528000000",
         "operating_income": "15894000000",
         "other_non_operating_income": "-439000000",
         "report_type": "QUARTER",
         "reported_currency": "USD",
         "research_and_development": "3378000000",
         "selling_general_and_administrative": "4150000000",
         "symbol": "AAPL",
         "total_revenue": "61137000000",
         "stock_symbol": "AAPL",
         "Year": "2018",
         "Month": "3",
         "operating_income_growth": "-0.3950673669787623",
         "net_income_growth": "-0.31113879890356344",
         "cost_of_revenue_growth": "-0.3064673323403394",
         "costof_goods_and_services_sold_growth": "-0.3064673323403394",
         "ebit_growth": "-0.38913701195793116",
         "ebitda_growth": "-0.3543216755711429",
         "research_and_development_growth": "-0.008511887290871711",
         "total_revenue_growth": "-0.3075668512792633",
         "_deepnote_index_column": "1"
        },
        {
         "id": "1748",
         "comprehensive_income_net_of_tax": "11472000000",
         "cost_of_revenue": "32844000000",
         "costof_goods_and_services_sold": "32844000000",
         "depreciation": "-1",
         "depreciation_and_amortization": "2665000000",
         "ebit": "14130000000",
         "ebitda": "16795000000",
         "gross_profit": "20421000000",
         "income_before_tax": "13284000000",
         "income_tax_expense": "1765000000",
         "interest_and_debt_expense": "846000000",
         "interest_expense": "846000000",
         "interest_income": "-1",
         "investment_income_net": "1418000000",
         "net_income": "11519000000",
         "net_income_from_continuing_operations": "11519000000",
         "net_interest_income": "-846000000",
         "non_interest_income": "53265000000",
         "operating_expenses": "7809000000",
         "operating_income": "12612000000",
         "other_non_operating_income": "100000000",
         "report_type": "QUARTER",
         "reported_currency": "USD",
         "research_and_development": "3701000000",
         "selling_general_and_administrative": "4108000000",
         "symbol": "AAPL",
         "total_revenue": "53265000000",
         "stock_symbol": "AAPL",
         "Year": "2018",
         "Month": "6",
         "operating_income_growth": "-0.20649301623254057",
         "net_income_growth": "-0.16661843437997392",
         "cost_of_revenue_growth": "-0.1291528569534668",
         "costof_goods_and_services_sold_growth": "-0.1291528569534668",
         "ebit_growth": "-0.16686320754716977",
         "ebitda_growth": "-0.1474186506929286",
         "research_and_development_growth": "0.09561870929544103",
         "total_revenue_growth": "-0.12875999803719518",
         "_deepnote_index_column": "2"
        },
        {
         "id": "1747",
         "comprehensive_income_net_of_tax": "13782000000",
         "cost_of_revenue": "38816000000",
         "costof_goods_and_services_sold": "38816000000",
         "depreciation": "-1",
         "depreciation_and_amortization": "2754000000",
         "ebit": "17289000000",
         "ebitda": "20043000000",
         "gross_profit": "24084000000",
         "income_before_tax": "16421000000",
         "income_tax_expense": "2296000000",
         "interest_and_debt_expense": "868000000",
         "interest_expense": "868000000",
         "interest_income": "-1",
         "investment_income_net": "1311000000",
         "net_income": "14125000000",
         "net_income_from_continuing_operations": "24084000000",
         "net_interest_income": "-868000000",
         "non_interest_income": "62900000000",
         "operating_expenses": "7966000000",
         "operating_income": "16118000000",
         "other_non_operating_income": "-140000000",
         "report_type": "QUARTER",
         "reported_currency": "USD",
         "research_and_development": "3750000000",
         "selling_general_and_administrative": "4216000000",
         "symbol": "AAPL",
         "total_revenue": "62900000000",
         "stock_symbol": "AAPL",
         "Year": "2018",
         "Month": "9",
         "operating_income_growth": "0.2779892166190929",
         "net_income_growth": "0.22623491622536673",
         "cost_of_revenue_growth": "0.1818292534405066",
         "costof_goods_and_services_sold_growth": "0.1818292534405066",
         "ebit_growth": "0.22356687898089178",
         "ebitda_growth": "0.19339089014587674",
         "research_and_development_growth": "0.013239664955417396",
         "total_revenue_growth": "0.1808880127663568",
         "_deepnote_index_column": "3"
        },
        {
         "id": "1746",
         "comprehensive_income_net_of_tax": "19742000000",
         "cost_of_revenue": "57062000000",
         "costof_goods_and_services_sold": "52279000000",
         "depreciation": "-1",
         "depreciation_and_amortization": "3395000000",
         "ebit": "24796000000",
         "ebitda": "28191000000",
         "gross_profit": "32031000000",
         "income_before_tax": "23906000000",
         "income_tax_expense": "3941000000",
         "interest_and_debt_expense": "890000000",
         "interest_expense": "890000000",
         "interest_income": "-1",
         "investment_income_net": "1307000000",
         "net_income": "19965000000",
         "net_income_from_continuing_operations": "19965000000",
         "net_interest_income": "-890000000",
         "non_interest_income": "84310000000",
         "operating_expenses": "8685000000",
         "operating_income": "23346000000",
         "other_non_operating_income": "143000000",
         "report_type": "QUARTER",
         "reported_currency": "USD",
         "research_and_development": "3902000000",
         "selling_general_and_administrative": "4783000000",
         "symbol": "AAPL",
         "total_revenue": "83420000000",
         "stock_symbol": "AAPL",
         "Year": "2018",
         "Month": "12",
         "operating_income_growth": "0.44844273483062413",
         "net_income_growth": "0.4134513274336282",
         "cost_of_revenue_growth": "0.47006389117889524",
         "costof_goods_and_services_sold_growth": "0.3468415086562242",
         "ebit_growth": "0.43420672103649727",
         "ebitda_growth": "0.4065259691662926",
         "research_and_development_growth": "0.04053333333333331",
         "total_revenue_growth": "0.3262321144674085",
         "_deepnote_index_column": "4"
        },
        {
         "id": "1745",
         "comprehensive_income_net_of_tax": "13650000000",
         "cost_of_revenue": "40652000000",
         "costof_goods_and_services_sold": "36194000000",
         "depreciation": "-1",
         "depreciation_and_amortization": "3040000000",
         "ebit": "14803000000",
         "ebitda": "17843000000",
         "gross_profit": "21821000000",
         "income_before_tax": "13793000000",
         "income_tax_expense": "2232000000",
         "interest_and_debt_expense": "1010000000",
         "interest_expense": "1010000000",
         "interest_income": "1358000000",
         "investment_income_net": "1358000000",
         "net_income": "11561000000",
         "net_income_from_continuing_operations": "11561000000",
         "net_interest_income": "-1010000000",
         "non_interest_income": "58015000000",
         "operating_expenses": "8406000000",
         "operating_income": "13415000000",
         "other_non_operating_income": "30000000",
         "report_type": "QUARTER",
         "reported_currency": "USD",
         "research_and_development": "3948000000",
         "selling_general_and_administrative": "4458000000",
         "symbol": "AAPL",
         "total_revenue": "57005000000",
         "stock_symbol": "AAPL",
         "Year": "2019",
         "Month": "3",
         "operating_income_growth": "-0.4253833633170565",
         "net_income_growth": "-0.42093663911845725",
         "cost_of_revenue_growth": "-0.28758192842872665",
         "costof_goods_and_services_sold_growth": "-0.30767612234357966",
         "ebit_growth": "-0.40300854976609135",
         "ebitda_growth": "-0.3670675038132737",
         "research_and_development_growth": "0.01178882624295241",
         "total_revenue_growth": "-0.31665068328937906",
         "_deepnote_index_column": "5"
        }
       ]
      },
      "text/plain": "     id  comprehensive_income_net_of_tax  cost_of_revenue  \\\n1  1749                      11877000000      37715000000   \n2  1748                      11472000000      32844000000   \n3  1747                      13782000000      38816000000   \n4  1746                      19742000000      57062000000   \n5  1745                      13650000000      40652000000   \n\n   costof_goods_and_services_sold  depreciation  \\\n1                     37715000000            -1   \n2                     32844000000            -1   \n3                     38816000000            -1   \n4                     52279000000            -1   \n5                     36194000000            -1   \n\n   depreciation_and_amortization         ebit       ebitda  gross_profit  \\\n1                     2739000000  16960000000  19699000000   23422000000   \n2                     2665000000  14130000000  16795000000   20421000000   \n3                     2754000000  17289000000  20043000000   24084000000   \n4                     3395000000  24796000000  28191000000   32031000000   \n5                     3040000000  14803000000  17843000000   21821000000   \n\n   income_before_tax  ...  Year  Month  operating_income_growth  \\\n1        16168000000  ...  2018      3                -0.395067   \n2        13284000000  ...  2018      6                -0.206493   \n3        16421000000  ...  2018      9                 0.277989   \n4        23906000000  ...  2018     12                 0.448443   \n5        13793000000  ...  2019      3                -0.425383   \n\n   net_income_growth  cost_of_revenue_growth  \\\n1          -0.311139               -0.306467   \n2          -0.166618               -0.129153   \n3           0.226235                0.181829   \n4           0.413451                0.470064   \n5          -0.420937               -0.287582   \n\n   costof_goods_and_services_sold_growth  ebit_growth  ebitda_growth  \\\n1                              -0.306467    -0.389137      -0.354322   \n2                              -0.129153    -0.166863      -0.147419   \n3                               0.181829     0.223567       0.193391   \n4                               0.346842     0.434207       0.406526   \n5                              -0.307676    -0.403009      -0.367068   \n\n   research_and_development_growth  total_revenue_growth  \n1                        -0.008512             -0.307567  \n2                         0.095619             -0.128760  \n3                         0.013240              0.180888  \n4                         0.040533              0.326232  \n5                         0.011789             -0.316651  \n\n[5 rows x 39 columns]",
      "text/html": "<div>\n<style scoped>\n    .dataframe tbody tr th:only-of-type {\n        vertical-align: middle;\n    }\n\n    .dataframe tbody tr th {\n        vertical-align: top;\n    }\n\n    .dataframe thead th {\n        text-align: right;\n    }\n</style>\n<table border=\"1\" class=\"dataframe\">\n  <thead>\n    <tr style=\"text-align: right;\">\n      <th></th>\n      <th>id</th>\n      <th>comprehensive_income_net_of_tax</th>\n      <th>cost_of_revenue</th>\n      <th>costof_goods_and_services_sold</th>\n      <th>depreciation</th>\n      <th>depreciation_and_amortization</th>\n      <th>ebit</th>\n      <th>ebitda</th>\n      <th>gross_profit</th>\n      <th>income_before_tax</th>\n      <th>...</th>\n      <th>Year</th>\n      <th>Month</th>\n      <th>operating_income_growth</th>\n      <th>net_income_growth</th>\n      <th>cost_of_revenue_growth</th>\n      <th>costof_goods_and_services_sold_growth</th>\n      <th>ebit_growth</th>\n      <th>ebitda_growth</th>\n      <th>research_and_development_growth</th>\n      <th>total_revenue_growth</th>\n    </tr>\n  </thead>\n  <tbody>\n    <tr>\n      <th>1</th>\n      <td>1749</td>\n      <td>11877000000</td>\n      <td>37715000000</td>\n      <td>37715000000</td>\n      <td>-1</td>\n      <td>2739000000</td>\n      <td>16960000000</td>\n      <td>19699000000</td>\n      <td>23422000000</td>\n      <td>16168000000</td>\n      <td>...</td>\n      <td>2018</td>\n      <td>3</td>\n      <td>-0.395067</td>\n      <td>-0.311139</td>\n      <td>-0.306467</td>\n      <td>-0.306467</td>\n      <td>-0.389137</td>\n      <td>-0.354322</td>\n      <td>-0.008512</td>\n      <td>-0.307567</td>\n    </tr>\n    <tr>\n      <th>2</th>\n      <td>1748</td>\n      <td>11472000000</td>\n      <td>32844000000</td>\n      <td>32844000000</td>\n      <td>-1</td>\n      <td>2665000000</td>\n      <td>14130000000</td>\n      <td>16795000000</td>\n      <td>20421000000</td>\n      <td>13284000000</td>\n      <td>...</td>\n      <td>2018</td>\n      <td>6</td>\n      <td>-0.206493</td>\n      <td>-0.166618</td>\n      <td>-0.129153</td>\n      <td>-0.129153</td>\n      <td>-0.166863</td>\n      <td>-0.147419</td>\n      <td>0.095619</td>\n      <td>-0.128760</td>\n    </tr>\n    <tr>\n      <th>3</th>\n      <td>1747</td>\n      <td>13782000000</td>\n      <td>38816000000</td>\n      <td>38816000000</td>\n      <td>-1</td>\n      <td>2754000000</td>\n      <td>17289000000</td>\n      <td>20043000000</td>\n      <td>24084000000</td>\n      <td>16421000000</td>\n      <td>...</td>\n      <td>2018</td>\n      <td>9</td>\n      <td>0.277989</td>\n      <td>0.226235</td>\n      <td>0.181829</td>\n      <td>0.181829</td>\n      <td>0.223567</td>\n      <td>0.193391</td>\n      <td>0.013240</td>\n      <td>0.180888</td>\n    </tr>\n    <tr>\n      <th>4</th>\n      <td>1746</td>\n      <td>19742000000</td>\n      <td>57062000000</td>\n      <td>52279000000</td>\n      <td>-1</td>\n      <td>3395000000</td>\n      <td>24796000000</td>\n      <td>28191000000</td>\n      <td>32031000000</td>\n      <td>23906000000</td>\n      <td>...</td>\n      <td>2018</td>\n      <td>12</td>\n      <td>0.448443</td>\n      <td>0.413451</td>\n      <td>0.470064</td>\n      <td>0.346842</td>\n      <td>0.434207</td>\n      <td>0.406526</td>\n      <td>0.040533</td>\n      <td>0.326232</td>\n    </tr>\n    <tr>\n      <th>5</th>\n      <td>1745</td>\n      <td>13650000000</td>\n      <td>40652000000</td>\n      <td>36194000000</td>\n      <td>-1</td>\n      <td>3040000000</td>\n      <td>14803000000</td>\n      <td>17843000000</td>\n      <td>21821000000</td>\n      <td>13793000000</td>\n      <td>...</td>\n      <td>2019</td>\n      <td>3</td>\n      <td>-0.425383</td>\n      <td>-0.420937</td>\n      <td>-0.287582</td>\n      <td>-0.307676</td>\n      <td>-0.403009</td>\n      <td>-0.367068</td>\n      <td>0.011789</td>\n      <td>-0.316651</td>\n    </tr>\n  </tbody>\n</table>\n<p>5 rows × 39 columns</p>\n</div>"
     },
     "metadata": {}
    }
   ]
  },
  {
   "cell_type": "code",
   "metadata": {
    "tags": [],
    "cell_id": "f5b5788bdbcf4ddfb660bbda37ef032d",
    "source_hash": "3d0db672",
    "execution_start": 1676051897823,
    "execution_millis": 21156,
    "deepnote_to_be_reexecuted": false,
    "deepnote_cell_type": "code"
   },
   "source": "technical_analysis_df = PostgresDB.table_to_df('technical_analysis')\ntechnical_analysis_df = technical_analysis_df.astype({ 'date': 'datetime64[ns]'})\ntechnical_analysis_df['Year'] = technical_analysis_df['date'].dt.year\ntechnical_analysis_df['Month'] = technical_analysis_df['date'].dt.month\ntechnical_analysis_df.head()",
   "execution_count": 3,
   "outputs": [
    {
     "output_type": "execute_result",
     "execution_count": 3,
     "data": {
      "application/vnd.deepnote.dataframe.v3+json": {
       "column_count": 14,
       "row_count": 5,
       "columns": [
        {
         "name": "date",
         "dtype": "datetime64[ns]",
         "stats": {
          "unique_count": 5,
          "nan_count": 0,
          "min": "2006-03-02 00:00:00",
          "max": "2006-03-08 00:00:00",
          "histogram": [
           {
            "bin_start": 1141257600000000000,
            "bin_end": 1141309440000000000,
            "count": 1
           },
           {
            "bin_start": 1141309440000000000,
            "bin_end": 1141361280000000000,
            "count": 1
           },
           {
            "bin_start": 1141361280000000000,
            "bin_end": 1141413120000000000,
            "count": 0
           },
           {
            "bin_start": 1141413120000000000,
            "bin_end": 1141464960000000000,
            "count": 0
           },
           {
            "bin_start": 1141464960000000000,
            "bin_end": 1141516800000000000,
            "count": 0
           },
           {
            "bin_start": 1141516800000000000,
            "bin_end": 1141568640000000000,
            "count": 0
           },
           {
            "bin_start": 1141568640000000000,
            "bin_end": 1141620480000000000,
            "count": 1
           },
           {
            "bin_start": 1141620480000000000,
            "bin_end": 1141672320000000000,
            "count": 0
           },
           {
            "bin_start": 1141672320000000000,
            "bin_end": 1141724160000000000,
            "count": 1
           },
           {
            "bin_start": 1141724160000000000,
            "bin_end": 1141776000000000000,
            "count": 1
           }
          ]
         }
        },
        {
         "name": "symbol",
         "dtype": "object",
         "stats": {
          "unique_count": 1,
          "nan_count": 0,
          "categories": [
           {
            "name": "TYL",
            "count": 5
           }
          ]
         }
        },
        {
         "name": "sma_20",
         "dtype": "float64",
         "stats": {
          "unique_count": 5,
          "nan_count": 0,
          "min": "10.3115",
          "max": "10.521",
          "histogram": [
           {
            "bin_start": 10.3115,
            "bin_end": 10.332450000000001,
            "count": 1
           },
           {
            "bin_start": 10.332450000000001,
            "bin_end": 10.3534,
            "count": 0
           },
           {
            "bin_start": 10.3534,
            "bin_end": 10.37435,
            "count": 1
           },
           {
            "bin_start": 10.37435,
            "bin_end": 10.3953,
            "count": 0
           },
           {
            "bin_start": 10.3953,
            "bin_end": 10.416250000000002,
            "count": 0
           },
           {
            "bin_start": 10.416250000000002,
            "bin_end": 10.4372,
            "count": 1
           },
           {
            "bin_start": 10.4372,
            "bin_end": 10.45815,
            "count": 0
           },
           {
            "bin_start": 10.45815,
            "bin_end": 10.4791,
            "count": 1
           },
           {
            "bin_start": 10.4791,
            "bin_end": 10.500050000000002,
            "count": 0
           },
           {
            "bin_start": 10.500050000000002,
            "bin_end": 10.521,
            "count": 1
           }
          ]
         }
        },
        {
         "name": "sma_200",
         "dtype": "float64",
         "stats": {
          "unique_count": 5,
          "nan_count": 0,
          "min": "11.946999999999997",
          "max": "12.035500000000003",
          "histogram": [
           {
            "bin_start": 11.946999999999997,
            "bin_end": 11.955849999999998,
            "count": 1
           },
           {
            "bin_start": 11.955849999999998,
            "bin_end": 11.964699999999999,
            "count": 0
           },
           {
            "bin_start": 11.964699999999999,
            "bin_end": 11.97355,
            "count": 1
           },
           {
            "bin_start": 11.97355,
            "bin_end": 11.9824,
            "count": 0
           },
           {
            "bin_start": 11.9824,
            "bin_end": 11.99125,
            "count": 0
           },
           {
            "bin_start": 11.99125,
            "bin_end": 12.0001,
            "count": 1
           },
           {
            "bin_start": 12.0001,
            "bin_end": 12.00895,
            "count": 0
           },
           {
            "bin_start": 12.00895,
            "bin_end": 12.017800000000001,
            "count": 1
           },
           {
            "bin_start": 12.017800000000001,
            "bin_end": 12.026650000000002,
            "count": 0
           },
           {
            "bin_start": 12.026650000000002,
            "bin_end": 12.035500000000003,
            "count": 1
           }
          ]
         }
        },
        {
         "name": "ema_20",
         "dtype": "float64",
         "stats": {
          "unique_count": 5,
          "nan_count": 0,
          "min": "10.45963441202444",
          "max": "10.57543537553078",
          "histogram": [
           {
            "bin_start": 10.45963441202444,
            "bin_end": 10.471214508375075,
            "count": 1
           },
           {
            "bin_start": 10.471214508375075,
            "bin_end": 10.482794604725708,
            "count": 0
           },
           {
            "bin_start": 10.482794604725708,
            "bin_end": 10.494374701076342,
            "count": 1
           },
           {
            "bin_start": 10.494374701076342,
            "bin_end": 10.505954797426977,
            "count": 0
           },
           {
            "bin_start": 10.505954797426977,
            "bin_end": 10.517534893777611,
            "count": 1
           },
           {
            "bin_start": 10.517534893777611,
            "bin_end": 10.529114990128244,
            "count": 0
           },
           {
            "bin_start": 10.529114990128244,
            "bin_end": 10.540695086478879,
            "count": 0
           },
           {
            "bin_start": 10.540695086478879,
            "bin_end": 10.552275182829513,
            "count": 1
           },
           {
            "bin_start": 10.552275182829513,
            "bin_end": 10.563855279180146,
            "count": 0
           },
           {
            "bin_start": 10.563855279180146,
            "bin_end": 10.57543537553078,
            "count": 1
           }
          ]
         }
        },
        {
         "name": "ema_200",
         "dtype": "float64",
         "stats": {
          "unique_count": 5,
          "nan_count": 0,
          "min": "12.43369130976178",
          "max": "12.484293454367851",
          "histogram": [
           {
            "bin_start": 12.43369130976178,
            "bin_end": 12.438751524222388,
            "count": 1
           },
           {
            "bin_start": 12.438751524222388,
            "bin_end": 12.443811738682994,
            "count": 0
           },
           {
            "bin_start": 12.443811738682994,
            "bin_end": 12.448871953143602,
            "count": 1
           },
           {
            "bin_start": 12.448871953143602,
            "bin_end": 12.453932167604208,
            "count": 0
           },
           {
            "bin_start": 12.453932167604208,
            "bin_end": 12.458992382064816,
            "count": 1
           },
           {
            "bin_start": 12.458992382064816,
            "bin_end": 12.464052596525423,
            "count": 0
           },
           {
            "bin_start": 12.464052596525423,
            "bin_end": 12.46911281098603,
            "count": 0
           },
           {
            "bin_start": 12.46911281098603,
            "bin_end": 12.474173025446637,
            "count": 1
           },
           {
            "bin_start": 12.474173025446637,
            "bin_end": 12.479233239907243,
            "count": 0
           },
           {
            "bin_start": 12.479233239907243,
            "bin_end": 12.484293454367851,
            "count": 1
           }
          ]
         }
        },
        {
         "name": "cum_ma",
         "dtype": "float64",
         "stats": {
          "unique_count": 5,
          "nan_count": 0,
          "min": "142.6684900756144",
          "max": "142.7940775780511",
          "histogram": [
           {
            "bin_start": 142.6684900756144,
            "bin_end": 142.68104882585806,
            "count": 1
           },
           {
            "bin_start": 142.68104882585806,
            "bin_end": 142.69360757610173,
            "count": 0
           },
           {
            "bin_start": 142.69360757610173,
            "bin_end": 142.7061663263454,
            "count": 1
           },
           {
            "bin_start": 142.7061663263454,
            "bin_end": 142.71872507658907,
            "count": 0
           },
           {
            "bin_start": 142.71872507658907,
            "bin_end": 142.73128382683274,
            "count": 1
           },
           {
            "bin_start": 142.73128382683274,
            "bin_end": 142.7438425770764,
            "count": 0
           },
           {
            "bin_start": 142.7438425770764,
            "bin_end": 142.75640132732008,
            "count": 0
           },
           {
            "bin_start": 142.75640132732008,
            "bin_end": 142.76896007756375,
            "count": 1
           },
           {
            "bin_start": 142.76896007756375,
            "bin_end": 142.78151882780742,
            "count": 0
           },
           {
            "bin_start": 142.78151882780742,
            "bin_end": 142.7940775780511,
            "count": 1
           }
          ]
         }
        },
        {
         "name": "adjustedClose",
         "dtype": "float64",
         "stats": {
          "unique_count": 4,
          "nan_count": 0,
          "min": "9.9",
          "max": "9.96",
          "histogram": [
           {
            "bin_start": 9.9,
            "bin_end": 9.906,
            "count": 2
           },
           {
            "bin_start": 9.906,
            "bin_end": 9.912,
            "count": 0
           },
           {
            "bin_start": 9.912,
            "bin_end": 9.918000000000001,
            "count": 0
           },
           {
            "bin_start": 9.918000000000001,
            "bin_end": 9.924000000000001,
            "count": 1
           },
           {
            "bin_start": 9.924000000000001,
            "bin_end": 9.93,
            "count": 0
           },
           {
            "bin_start": 9.93,
            "bin_end": 9.936,
            "count": 1
           },
           {
            "bin_start": 9.936,
            "bin_end": 9.942,
            "count": 0
           },
           {
            "bin_start": 9.942,
            "bin_end": 9.948,
            "count": 0
           },
           {
            "bin_start": 9.948,
            "bin_end": 9.954,
            "count": 0
           },
           {
            "bin_start": 9.954,
            "bin_end": 9.96,
            "count": 1
           }
          ]
         }
        },
        {
         "name": "bollinger_upper",
         "dtype": "float64",
         "stats": {
          "unique_count": 5,
          "nan_count": 0,
          "min": "11.138960572870069",
          "max": "11.385289303216789",
          "histogram": [
           {
            "bin_start": 11.138960572870069,
            "bin_end": 11.163593445904741,
            "count": 1
           },
           {
            "bin_start": 11.163593445904741,
            "bin_end": 11.188226318939412,
            "count": 0
           },
           {
            "bin_start": 11.188226318939412,
            "bin_end": 11.212859191974085,
            "count": 0
           },
           {
            "bin_start": 11.212859191974085,
            "bin_end": 11.237492065008757,
            "count": 1
           },
           {
            "bin_start": 11.237492065008757,
            "bin_end": 11.262124938043428,
            "count": 0
           },
           {
            "bin_start": 11.262124938043428,
            "bin_end": 11.2867578110781,
            "count": 1
           },
           {
            "bin_start": 11.2867578110781,
            "bin_end": 11.311390684112773,
            "count": 0
           },
           {
            "bin_start": 11.311390684112773,
            "bin_end": 11.336023557147445,
            "count": 1
           },
           {
            "bin_start": 11.336023557147445,
            "bin_end": 11.360656430182116,
            "count": 0
           },
           {
            "bin_start": 11.360656430182116,
            "bin_end": 11.385289303216789,
            "count": 1
           }
          ]
         }
        },
        {
         "name": "bollinger_lower",
         "dtype": "float64",
         "stats": {
          "unique_count": 5,
          "nan_count": 0,
          "min": "9.484039427129932",
          "max": "9.656710696783213",
          "histogram": [
           {
            "bin_start": 9.484039427129932,
            "bin_end": 9.50130655409526,
            "count": 1
           },
           {
            "bin_start": 9.50130655409526,
            "bin_end": 9.51857368106059,
            "count": 1
           },
           {
            "bin_start": 9.51857368106059,
            "bin_end": 9.535840808025917,
            "count": 0
           },
           {
            "bin_start": 9.535840808025917,
            "bin_end": 9.553107934991244,
            "count": 1
           },
           {
            "bin_start": 9.553107934991244,
            "bin_end": 9.570375061956572,
            "count": 0
           },
           {
            "bin_start": 9.570375061956572,
            "bin_end": 9.587642188921901,
            "count": 0
           },
           {
            "bin_start": 9.587642188921901,
            "bin_end": 9.604909315887229,
            "count": 1
           },
           {
            "bin_start": 9.604909315887229,
            "bin_end": 9.622176442852556,
            "count": 0
           },
           {
            "bin_start": 9.622176442852556,
            "bin_end": 9.639443569817885,
            "count": 0
           },
           {
            "bin_start": 9.639443569817885,
            "bin_end": 9.656710696783213,
            "count": 1
           }
          ]
         }
        },
        {
         "name": "rsi",
         "dtype": "float64",
         "stats": {
          "unique_count": 5,
          "nan_count": 0,
          "min": "28.575220737582686",
          "max": "31.88275173606567",
          "histogram": [
           {
            "bin_start": 28.575220737582686,
            "bin_end": 28.905973837430984,
            "count": 1
           },
           {
            "bin_start": 28.905973837430984,
            "bin_end": 29.236726937279283,
            "count": 1
           },
           {
            "bin_start": 29.236726937279283,
            "bin_end": 29.56748003712758,
            "count": 0
           },
           {
            "bin_start": 29.56748003712758,
            "bin_end": 29.89823313697588,
            "count": 0
           },
           {
            "bin_start": 29.89823313697588,
            "bin_end": 30.228986236824177,
            "count": 0
           },
           {
            "bin_start": 30.228986236824177,
            "bin_end": 30.55973933667248,
            "count": 1
           },
           {
            "bin_start": 30.55973933667248,
            "bin_end": 30.890492436520777,
            "count": 0
           },
           {
            "bin_start": 30.890492436520777,
            "bin_end": 31.221245536369075,
            "count": 1
           },
           {
            "bin_start": 31.221245536369075,
            "bin_end": 31.551998636217373,
            "count": 0
           },
           {
            "bin_start": 31.551998636217373,
            "bin_end": 31.88275173606567,
            "count": 1
           }
          ]
         }
        },
        {
         "name": "Year",
         "dtype": "int64",
         "stats": {
          "unique_count": 1,
          "nan_count": 0,
          "min": "2006",
          "max": "2006",
          "histogram": [
           {
            "bin_start": 2005.5,
            "bin_end": 2005.6,
            "count": 0
           },
           {
            "bin_start": 2005.6,
            "bin_end": 2005.7,
            "count": 0
           },
           {
            "bin_start": 2005.7,
            "bin_end": 2005.8,
            "count": 0
           },
           {
            "bin_start": 2005.8,
            "bin_end": 2005.9,
            "count": 0
           },
           {
            "bin_start": 2005.9,
            "bin_end": 2006,
            "count": 0
           },
           {
            "bin_start": 2006,
            "bin_end": 2006.1,
            "count": 5
           },
           {
            "bin_start": 2006.1,
            "bin_end": 2006.2,
            "count": 0
           },
           {
            "bin_start": 2006.2,
            "bin_end": 2006.3,
            "count": 0
           },
           {
            "bin_start": 2006.3,
            "bin_end": 2006.4,
            "count": 0
           },
           {
            "bin_start": 2006.4,
            "bin_end": 2006.5,
            "count": 0
           }
          ]
         }
        },
        {
         "name": "Month",
         "dtype": "int64",
         "stats": {
          "unique_count": 1,
          "nan_count": 0,
          "min": "3",
          "max": "3",
          "histogram": [
           {
            "bin_start": 2.5,
            "bin_end": 2.6,
            "count": 0
           },
           {
            "bin_start": 2.6,
            "bin_end": 2.7,
            "count": 0
           },
           {
            "bin_start": 2.7,
            "bin_end": 2.8,
            "count": 0
           },
           {
            "bin_start": 2.8,
            "bin_end": 2.9,
            "count": 0
           },
           {
            "bin_start": 2.9,
            "bin_end": 3,
            "count": 0
           },
           {
            "bin_start": 3,
            "bin_end": 3.1,
            "count": 5
           },
           {
            "bin_start": 3.1,
            "bin_end": 3.2,
            "count": 0
           },
           {
            "bin_start": 3.2,
            "bin_end": 3.3,
            "count": 0
           },
           {
            "bin_start": 3.3,
            "bin_end": 3.4,
            "count": 0
           },
           {
            "bin_start": 3.4,
            "bin_end": 3.5,
            "count": 0
           }
          ]
         }
        },
        {
         "name": "Day",
         "dtype": "int64",
         "stats": {
          "unique_count": 5,
          "nan_count": 0,
          "min": "2",
          "max": "8",
          "histogram": [
           {
            "bin_start": 2,
            "bin_end": 2.6,
            "count": 1
           },
           {
            "bin_start": 2.6,
            "bin_end": 3.2,
            "count": 1
           },
           {
            "bin_start": 3.2,
            "bin_end": 3.8,
            "count": 0
           },
           {
            "bin_start": 3.8,
            "bin_end": 4.4,
            "count": 0
           },
           {
            "bin_start": 4.4,
            "bin_end": 5,
            "count": 0
           },
           {
            "bin_start": 5,
            "bin_end": 5.6,
            "count": 0
           },
           {
            "bin_start": 5.6,
            "bin_end": 6.2,
            "count": 1
           },
           {
            "bin_start": 6.2,
            "bin_end": 6.8,
            "count": 0
           },
           {
            "bin_start": 6.8,
            "bin_end": 7.3999999999999995,
            "count": 1
           },
           {
            "bin_start": 7.3999999999999995,
            "bin_end": 8,
            "count": 1
           }
          ]
         }
        },
        {
         "name": "_deepnote_index_column",
         "dtype": "int64"
        }
       ],
       "rows": [
        {
         "date": "2006-03-08 00:00:00",
         "symbol": "TYL",
         "sma_20": "10.521",
         "sma_200": "12.035500000000003",
         "ema_20": "10.57543537553078",
         "ema_200": "12.484293454367851",
         "cum_ma": "142.7940775780511",
         "adjustedClose": "9.92",
         "bollinger_upper": "11.385289303216789",
         "bollinger_lower": "9.656710696783213",
         "rsi": "29.01124153457804",
         "Year": "2006",
         "Month": "3",
         "Day": "8",
         "_deepnote_index_column": "0"
        },
        {
         "date": "2006-03-07 00:00:00",
         "symbol": "TYL",
         "sma_20": "10.459",
         "sma_200": "12.01435",
         "ema_20": "10.543271786219792",
         "ema_200": "12.471436272993948",
         "cum_ma": "142.76265310948216",
         "adjustedClose": "9.9",
         "bollinger_upper": "11.314637773625506",
         "bollinger_lower": "9.603362226374493",
         "rsi": "28.575220737582686",
         "Year": "2006",
         "Month": "3",
         "Day": "7",
         "_deepnote_index_column": "1"
        },
        {
         "date": "2006-03-06 00:00:00",
         "symbol": "TYL",
         "sma_20": "10.4175",
         "sma_200": "11.99335",
         "ema_20": "10.515496939256945",
         "ema_200": "12.458941565159513",
         "cum_ma": "142.73125768321512",
         "adjustedClose": "9.96",
         "bollinger_upper": "11.285321986155406",
         "bollinger_lower": "9.549678013844595",
         "rsi": "31.88275173606567",
         "Year": "2006",
         "Month": "3",
         "Day": "6",
         "_deepnote_index_column": "2"
        },
        {
         "date": "2006-03-03 00:00:00",
         "symbol": "TYL",
         "sma_20": "10.364",
         "sma_200": "11.9701",
         "ema_20": "10.487616132625663",
         "ema_200": "12.44635976631926",
         "cum_ma": "142.69987000709054",
         "adjustedClose": "9.93",
         "bollinger_upper": "11.213315017914194",
         "bollinger_lower": "9.514684982085807",
         "rsi": "31.107095712578325",
         "Year": "2006",
         "Month": "3",
         "Day": "3",
         "_deepnote_index_column": "3"
        },
        {
         "date": "2006-03-02 00:00:00",
         "symbol": "TYL",
         "sma_20": "10.3115",
         "sma_200": "11.946999999999997",
         "ema_20": "10.45963441202444",
         "ema_200": "12.43369130976178",
         "cum_ma": "142.6684900756144",
         "adjustedClose": "9.9",
         "bollinger_upper": "11.138960572870069",
         "bollinger_lower": "9.484039427129932",
         "rsi": "30.312903556962784",
         "Year": "2006",
         "Month": "3",
         "Day": "2",
         "_deepnote_index_column": "4"
        }
       ]
      },
      "text/plain": "        date symbol   sma_20   sma_200     ema_20    ema_200      cum_ma  \\\n0 2006-03-08    TYL  10.5210  12.03550  10.575435  12.484293  142.794078   \n1 2006-03-07    TYL  10.4590  12.01435  10.543272  12.471436  142.762653   \n2 2006-03-06    TYL  10.4175  11.99335  10.515497  12.458942  142.731258   \n3 2006-03-03    TYL  10.3640  11.97010  10.487616  12.446360  142.699870   \n4 2006-03-02    TYL  10.3115  11.94700  10.459634  12.433691  142.668490   \n\n   adjustedClose  bollinger_upper  bollinger_lower        rsi  Year  Month  \\\n0           9.92        11.385289         9.656711  29.011242  2006      3   \n1           9.90        11.314638         9.603362  28.575221  2006      3   \n2           9.96        11.285322         9.549678  31.882752  2006      3   \n3           9.93        11.213315         9.514685  31.107096  2006      3   \n4           9.90        11.138961         9.484039  30.312904  2006      3   \n\n   Day  \n0    8  \n1    7  \n2    6  \n3    3  \n4    2  ",
      "text/html": "<div>\n<style scoped>\n    .dataframe tbody tr th:only-of-type {\n        vertical-align: middle;\n    }\n\n    .dataframe tbody tr th {\n        vertical-align: top;\n    }\n\n    .dataframe thead th {\n        text-align: right;\n    }\n</style>\n<table border=\"1\" class=\"dataframe\">\n  <thead>\n    <tr style=\"text-align: right;\">\n      <th></th>\n      <th>date</th>\n      <th>symbol</th>\n      <th>sma_20</th>\n      <th>sma_200</th>\n      <th>ema_20</th>\n      <th>ema_200</th>\n      <th>cum_ma</th>\n      <th>adjustedClose</th>\n      <th>bollinger_upper</th>\n      <th>bollinger_lower</th>\n      <th>rsi</th>\n      <th>Year</th>\n      <th>Month</th>\n      <th>Day</th>\n    </tr>\n  </thead>\n  <tbody>\n    <tr>\n      <th>0</th>\n      <td>2006-03-08</td>\n      <td>TYL</td>\n      <td>10.5210</td>\n      <td>12.03550</td>\n      <td>10.575435</td>\n      <td>12.484293</td>\n      <td>142.794078</td>\n      <td>9.92</td>\n      <td>11.385289</td>\n      <td>9.656711</td>\n      <td>29.011242</td>\n      <td>2006</td>\n      <td>3</td>\n      <td>8</td>\n    </tr>\n    <tr>\n      <th>1</th>\n      <td>2006-03-07</td>\n      <td>TYL</td>\n      <td>10.4590</td>\n      <td>12.01435</td>\n      <td>10.543272</td>\n      <td>12.471436</td>\n      <td>142.762653</td>\n      <td>9.90</td>\n      <td>11.314638</td>\n      <td>9.603362</td>\n      <td>28.575221</td>\n      <td>2006</td>\n      <td>3</td>\n      <td>7</td>\n    </tr>\n    <tr>\n      <th>2</th>\n      <td>2006-03-06</td>\n      <td>TYL</td>\n      <td>10.4175</td>\n      <td>11.99335</td>\n      <td>10.515497</td>\n      <td>12.458942</td>\n      <td>142.731258</td>\n      <td>9.96</td>\n      <td>11.285322</td>\n      <td>9.549678</td>\n      <td>31.882752</td>\n      <td>2006</td>\n      <td>3</td>\n      <td>6</td>\n    </tr>\n    <tr>\n      <th>3</th>\n      <td>2006-03-03</td>\n      <td>TYL</td>\n      <td>10.3640</td>\n      <td>11.97010</td>\n      <td>10.487616</td>\n      <td>12.446360</td>\n      <td>142.699870</td>\n      <td>9.93</td>\n      <td>11.213315</td>\n      <td>9.514685</td>\n      <td>31.107096</td>\n      <td>2006</td>\n      <td>3</td>\n      <td>3</td>\n    </tr>\n    <tr>\n      <th>4</th>\n      <td>2006-03-02</td>\n      <td>TYL</td>\n      <td>10.3115</td>\n      <td>11.94700</td>\n      <td>10.459634</td>\n      <td>12.433691</td>\n      <td>142.668490</td>\n      <td>9.90</td>\n      <td>11.138961</td>\n      <td>9.484039</td>\n      <td>30.312904</td>\n      <td>2006</td>\n      <td>3</td>\n      <td>2</td>\n    </tr>\n  </tbody>\n</table>\n</div>"
     },
     "metadata": {}
    }
   ]
  },
  {
   "cell_type": "code",
   "metadata": {
    "tags": [],
    "cell_id": "78a0d37bfc024a8c9a4ebf936a7311ac",
    "source_hash": "e19d0f8c",
    "execution_start": 1675898772210,
    "execution_millis": 30,
    "deepnote_to_be_reexecuted": false,
    "deepnote_cell_type": "code"
   },
   "source": "quarterly_growth_df = quarterly_income_growth_df[['stock_symbol', 'Year', 'Month', 'operating_income_growth',\n       'net_income_growth', 'cost_of_revenue_growth',\n       'costof_goods_and_services_sold_growth', 'ebit_growth', 'ebitda_growth',\n       'research_and_development_growth', 'total_revenue_growth']]\nquarterly_growth_df.head(5)",
   "execution_count": null,
   "outputs": [
    {
     "output_type": "execute_result",
     "execution_count": 5,
     "data": {
      "application/vnd.deepnote.dataframe.v3+json": {
       "column_count": 11,
       "row_count": 5,
       "columns": [
        {
         "name": "stock_symbol",
         "dtype": "object",
         "stats": {
          "unique_count": 1,
          "nan_count": 0,
          "categories": [
           {
            "name": "AAPL",
            "count": 5
           }
          ]
         }
        },
        {
         "name": "Year",
         "dtype": "int64",
         "stats": {
          "unique_count": 2,
          "nan_count": 0,
          "min": "2018",
          "max": "2019",
          "histogram": [
           {
            "bin_start": 2018,
            "bin_end": 2018.1,
            "count": 4
           },
           {
            "bin_start": 2018.1,
            "bin_end": 2018.2,
            "count": 0
           },
           {
            "bin_start": 2018.2,
            "bin_end": 2018.3,
            "count": 0
           },
           {
            "bin_start": 2018.3,
            "bin_end": 2018.4,
            "count": 0
           },
           {
            "bin_start": 2018.4,
            "bin_end": 2018.5,
            "count": 0
           },
           {
            "bin_start": 2018.5,
            "bin_end": 2018.6,
            "count": 0
           },
           {
            "bin_start": 2018.6,
            "bin_end": 2018.7,
            "count": 0
           },
           {
            "bin_start": 2018.7,
            "bin_end": 2018.8,
            "count": 0
           },
           {
            "bin_start": 2018.8,
            "bin_end": 2018.9,
            "count": 0
           },
           {
            "bin_start": 2018.9,
            "bin_end": 2019,
            "count": 1
           }
          ]
         }
        },
        {
         "name": "Month",
         "dtype": "int64",
         "stats": {
          "unique_count": 4,
          "nan_count": 0,
          "min": "3",
          "max": "12",
          "histogram": [
           {
            "bin_start": 3,
            "bin_end": 3.9,
            "count": 2
           },
           {
            "bin_start": 3.9,
            "bin_end": 4.8,
            "count": 0
           },
           {
            "bin_start": 4.8,
            "bin_end": 5.7,
            "count": 0
           },
           {
            "bin_start": 5.7,
            "bin_end": 6.6,
            "count": 1
           },
           {
            "bin_start": 6.6,
            "bin_end": 7.5,
            "count": 0
           },
           {
            "bin_start": 7.5,
            "bin_end": 8.4,
            "count": 0
           },
           {
            "bin_start": 8.4,
            "bin_end": 9.3,
            "count": 1
           },
           {
            "bin_start": 9.3,
            "bin_end": 10.2,
            "count": 0
           },
           {
            "bin_start": 10.2,
            "bin_end": 11.1,
            "count": 0
           },
           {
            "bin_start": 11.1,
            "bin_end": 12,
            "count": 1
           }
          ]
         }
        },
        {
         "name": "operating_income_growth",
         "dtype": "float64",
         "stats": {
          "unique_count": 5,
          "nan_count": 0,
          "min": "-0.4253833633170565",
          "max": "0.44844273483062413",
          "histogram": [
           {
            "bin_start": -0.4253833633170565,
            "bin_end": -0.3380007535022884,
            "count": 2
           },
           {
            "bin_start": -0.3380007535022884,
            "bin_end": -0.2506181436875204,
            "count": 0
           },
           {
            "bin_start": -0.2506181436875204,
            "bin_end": -0.16323553387275236,
            "count": 1
           },
           {
            "bin_start": -0.16323553387275236,
            "bin_end": -0.07585292405798427,
            "count": 0
           },
           {
            "bin_start": -0.07585292405798427,
            "bin_end": 0.011529685756783814,
            "count": 0
           },
           {
            "bin_start": 0.011529685756783814,
            "bin_end": 0.09891229557155179,
            "count": 0
           },
           {
            "bin_start": 0.09891229557155179,
            "bin_end": 0.18629490538631988,
            "count": 0
           },
           {
            "bin_start": 0.18629490538631988,
            "bin_end": 0.27367751520108796,
            "count": 0
           },
           {
            "bin_start": 0.27367751520108796,
            "bin_end": 0.36106012501585605,
            "count": 1
           },
           {
            "bin_start": 0.36106012501585605,
            "bin_end": 0.44844273483062413,
            "count": 1
           }
          ]
         }
        },
        {
         "name": "net_income_growth",
         "dtype": "float64",
         "stats": {
          "unique_count": 5,
          "nan_count": 0,
          "min": "-0.42093663911845725",
          "max": "0.4134513274336282",
          "histogram": [
           {
            "bin_start": -0.42093663911845725,
            "bin_end": -0.3374978424632487,
            "count": 1
           },
           {
            "bin_start": -0.3374978424632487,
            "bin_end": -0.2540590458080402,
            "count": 1
           },
           {
            "bin_start": -0.2540590458080402,
            "bin_end": -0.17062024915283158,
            "count": 0
           },
           {
            "bin_start": -0.17062024915283158,
            "bin_end": -0.08718145249762305,
            "count": 1
           },
           {
            "bin_start": -0.08718145249762305,
            "bin_end": -0.0037426558424145107,
            "count": 0
           },
           {
            "bin_start": -0.0037426558424145107,
            "bin_end": 0.07969614081279408,
            "count": 0
           },
           {
            "bin_start": 0.07969614081279408,
            "bin_end": 0.16313493746800256,
            "count": 0
           },
           {
            "bin_start": 0.16313493746800256,
            "bin_end": 0.24657373412321115,
            "count": 1
           },
           {
            "bin_start": 0.24657373412321115,
            "bin_end": 0.33001253077841974,
            "count": 0
           },
           {
            "bin_start": 0.33001253077841974,
            "bin_end": 0.4134513274336282,
            "count": 1
           }
          ]
         }
        },
        {
         "name": "cost_of_revenue_growth",
         "dtype": "float64",
         "stats": {
          "unique_count": 5,
          "nan_count": 0,
          "min": "-0.3064673323403394",
          "max": "0.47006389117889524",
          "histogram": [
           {
            "bin_start": -0.3064673323403394,
            "bin_end": -0.22881420998841595,
            "count": 2
           },
           {
            "bin_start": -0.22881420998841595,
            "bin_end": -0.15116108763649247,
            "count": 0
           },
           {
            "bin_start": -0.15116108763649247,
            "bin_end": -0.07350796528456899,
            "count": 1
           },
           {
            "bin_start": -0.07350796528456899,
            "bin_end": 0.004145157067354466,
            "count": 0
           },
           {
            "bin_start": 0.004145157067354466,
            "bin_end": 0.08179827941927792,
            "count": 0
           },
           {
            "bin_start": 0.08179827941927792,
            "bin_end": 0.15945140177120143,
            "count": 0
           },
           {
            "bin_start": 0.15945140177120143,
            "bin_end": 0.23710452412312488,
            "count": 1
           },
           {
            "bin_start": 0.23710452412312488,
            "bin_end": 0.31475764647504834,
            "count": 0
           },
           {
            "bin_start": 0.31475764647504834,
            "bin_end": 0.3924107688269718,
            "count": 0
           },
           {
            "bin_start": 0.3924107688269718,
            "bin_end": 0.47006389117889524,
            "count": 1
           }
          ]
         }
        },
        {
         "name": "costof_goods_and_services_sold_growth",
         "dtype": "float64",
         "stats": {
          "unique_count": 5,
          "nan_count": 0,
          "min": "-0.30767612234357966",
          "max": "0.3468415086562242",
          "histogram": [
           {
            "bin_start": -0.30767612234357966,
            "bin_end": -0.24222435924359928,
            "count": 2
           },
           {
            "bin_start": -0.24222435924359928,
            "bin_end": -0.1767725961436189,
            "count": 0
           },
           {
            "bin_start": -0.1767725961436189,
            "bin_end": -0.11132083304363852,
            "count": 1
           },
           {
            "bin_start": -0.11132083304363852,
            "bin_end": -0.045869069943658136,
            "count": 0
           },
           {
            "bin_start": -0.045869069943658136,
            "bin_end": 0.019582693156322217,
            "count": 0
           },
           {
            "bin_start": 0.019582693156322217,
            "bin_end": 0.08503445625630263,
            "count": 0
           },
           {
            "bin_start": 0.08503445625630263,
            "bin_end": 0.15048621935628304,
            "count": 0
           },
           {
            "bin_start": 0.15048621935628304,
            "bin_end": 0.2159379824562634,
            "count": 1
           },
           {
            "bin_start": 0.2159379824562634,
            "bin_end": 0.28138974555624374,
            "count": 0
           },
           {
            "bin_start": 0.28138974555624374,
            "bin_end": 0.3468415086562242,
            "count": 1
           }
          ]
         }
        },
        {
         "name": "ebit_growth",
         "dtype": "float64",
         "stats": {
          "unique_count": 5,
          "nan_count": 0,
          "min": "-0.40300854976609135",
          "max": "0.43420672103649727",
          "histogram": [
           {
            "bin_start": -0.40300854976609135,
            "bin_end": -0.3192870226858325,
            "count": 2
           },
           {
            "bin_start": -0.3192870226858325,
            "bin_end": -0.23556549560557363,
            "count": 0
           },
           {
            "bin_start": -0.23556549560557363,
            "bin_end": -0.1518439685253148,
            "count": 1
           },
           {
            "bin_start": -0.1518439685253148,
            "bin_end": -0.06812244144505591,
            "count": 0
           },
           {
            "bin_start": -0.06812244144505591,
            "bin_end": 0.015599085635202958,
            "count": 0
           },
           {
            "bin_start": 0.015599085635202958,
            "bin_end": 0.09932061271546178,
            "count": 0
           },
           {
            "bin_start": 0.09932061271546178,
            "bin_end": 0.1830421397957207,
            "count": 0
           },
           {
            "bin_start": 0.1830421397957207,
            "bin_end": 0.2667636668759795,
            "count": 1
           },
           {
            "bin_start": 0.2667636668759795,
            "bin_end": 0.35048519395623834,
            "count": 0
           },
           {
            "bin_start": 0.35048519395623834,
            "bin_end": 0.43420672103649727,
            "count": 1
           }
          ]
         }
        },
        {
         "name": "ebitda_growth",
         "dtype": "float64",
         "stats": {
          "unique_count": 5,
          "nan_count": 0,
          "min": "-0.3670675038132737",
          "max": "0.4065259691662926",
          "histogram": [
           {
            "bin_start": -0.3670675038132737,
            "bin_end": -0.28970815651531706,
            "count": 2
           },
           {
            "bin_start": -0.28970815651531706,
            "bin_end": -0.21234880921736043,
            "count": 0
           },
           {
            "bin_start": -0.21234880921736043,
            "bin_end": -0.1349894619194038,
            "count": 1
           },
           {
            "bin_start": -0.1349894619194038,
            "bin_end": -0.05763011462144718,
            "count": 0
           },
           {
            "bin_start": -0.05763011462144718,
            "bin_end": 0.019729232676509445,
            "count": 0
           },
           {
            "bin_start": 0.019729232676509445,
            "bin_end": 0.09708857997446607,
            "count": 0
           },
           {
            "bin_start": 0.09708857997446607,
            "bin_end": 0.17444792727242275,
            "count": 0
           },
           {
            "bin_start": 0.17444792727242275,
            "bin_end": 0.2518072745703793,
            "count": 1
           },
           {
            "bin_start": 0.2518072745703793,
            "bin_end": 0.3291666218683359,
            "count": 0
           },
           {
            "bin_start": 0.3291666218683359,
            "bin_end": 0.4065259691662926,
            "count": 1
           }
          ]
         }
        },
        {
         "name": "research_and_development_growth",
         "dtype": "float64",
         "stats": {
          "unique_count": 5,
          "nan_count": 0,
          "min": "-0.008511887290871711",
          "max": "0.09561870929544103",
          "histogram": [
           {
            "bin_start": -0.008511887290871711,
            "bin_end": 0.001901172367759562,
            "count": 1
           },
           {
            "bin_start": 0.001901172367759562,
            "bin_end": 0.012314232026390835,
            "count": 1
           },
           {
            "bin_start": 0.012314232026390835,
            "bin_end": 0.02272729168502211,
            "count": 1
           },
           {
            "bin_start": 0.02272729168502211,
            "bin_end": 0.03314035134365338,
            "count": 0
           },
           {
            "bin_start": 0.03314035134365338,
            "bin_end": 0.04355341100228466,
            "count": 1
           },
           {
            "bin_start": 0.04355341100228466,
            "bin_end": 0.05396647066091593,
            "count": 0
           },
           {
            "bin_start": 0.05396647066091593,
            "bin_end": 0.0643795303195472,
            "count": 0
           },
           {
            "bin_start": 0.0643795303195472,
            "bin_end": 0.07479258997817848,
            "count": 0
           },
           {
            "bin_start": 0.07479258997817848,
            "bin_end": 0.08520564963680975,
            "count": 0
           },
           {
            "bin_start": 0.08520564963680975,
            "bin_end": 0.09561870929544103,
            "count": 1
           }
          ]
         }
        },
        {
         "name": "total_revenue_growth",
         "dtype": "float64",
         "stats": {
          "unique_count": 5,
          "nan_count": 0,
          "min": "-0.31665068328937906",
          "max": "0.3262321144674085",
          "histogram": [
           {
            "bin_start": -0.31665068328937906,
            "bin_end": -0.2523624035137003,
            "count": 2
           },
           {
            "bin_start": -0.2523624035137003,
            "bin_end": -0.18807412373802154,
            "count": 0
           },
           {
            "bin_start": -0.18807412373802154,
            "bin_end": -0.12378584396234277,
            "count": 1
           },
           {
            "bin_start": -0.12378584396234277,
            "bin_end": -0.05949756418666402,
            "count": 0
           },
           {
            "bin_start": -0.05949756418666402,
            "bin_end": 0.004790715589014727,
            "count": 0
           },
           {
            "bin_start": 0.004790715589014727,
            "bin_end": 0.06907899536469353,
            "count": 0
           },
           {
            "bin_start": 0.06907899536469353,
            "bin_end": 0.13336727514037228,
            "count": 0
           },
           {
            "bin_start": 0.13336727514037228,
            "bin_end": 0.19765555491605102,
            "count": 1
           },
           {
            "bin_start": 0.19765555491605102,
            "bin_end": 0.26194383469172977,
            "count": 0
           },
           {
            "bin_start": 0.26194383469172977,
            "bin_end": 0.3262321144674085,
            "count": 1
           }
          ]
         }
        },
        {
         "name": "_deepnote_index_column",
         "dtype": "int64"
        }
       ],
       "rows": [
        {
         "stock_symbol": "AAPL",
         "Year": "2018",
         "Month": "3",
         "operating_income_growth": "-0.3950673669787623",
         "net_income_growth": "-0.31113879890356344",
         "cost_of_revenue_growth": "-0.3064673323403394",
         "costof_goods_and_services_sold_growth": "-0.3064673323403394",
         "ebit_growth": "-0.38913701195793116",
         "ebitda_growth": "-0.3543216755711429",
         "research_and_development_growth": "-0.008511887290871711",
         "total_revenue_growth": "-0.3075668512792633",
         "_deepnote_index_column": "1"
        },
        {
         "stock_symbol": "AAPL",
         "Year": "2018",
         "Month": "6",
         "operating_income_growth": "-0.20649301623254057",
         "net_income_growth": "-0.16661843437997392",
         "cost_of_revenue_growth": "-0.1291528569534668",
         "costof_goods_and_services_sold_growth": "-0.1291528569534668",
         "ebit_growth": "-0.16686320754716977",
         "ebitda_growth": "-0.1474186506929286",
         "research_and_development_growth": "0.09561870929544103",
         "total_revenue_growth": "-0.12875999803719518",
         "_deepnote_index_column": "2"
        },
        {
         "stock_symbol": "AAPL",
         "Year": "2018",
         "Month": "9",
         "operating_income_growth": "0.2779892166190929",
         "net_income_growth": "0.22623491622536673",
         "cost_of_revenue_growth": "0.1818292534405066",
         "costof_goods_and_services_sold_growth": "0.1818292534405066",
         "ebit_growth": "0.22356687898089178",
         "ebitda_growth": "0.19339089014587674",
         "research_and_development_growth": "0.013239664955417396",
         "total_revenue_growth": "0.1808880127663568",
         "_deepnote_index_column": "3"
        },
        {
         "stock_symbol": "AAPL",
         "Year": "2018",
         "Month": "12",
         "operating_income_growth": "0.44844273483062413",
         "net_income_growth": "0.4134513274336282",
         "cost_of_revenue_growth": "0.47006389117889524",
         "costof_goods_and_services_sold_growth": "0.3468415086562242",
         "ebit_growth": "0.43420672103649727",
         "ebitda_growth": "0.4065259691662926",
         "research_and_development_growth": "0.04053333333333331",
         "total_revenue_growth": "0.3262321144674085",
         "_deepnote_index_column": "4"
        },
        {
         "stock_symbol": "AAPL",
         "Year": "2019",
         "Month": "3",
         "operating_income_growth": "-0.4253833633170565",
         "net_income_growth": "-0.42093663911845725",
         "cost_of_revenue_growth": "-0.28758192842872665",
         "costof_goods_and_services_sold_growth": "-0.30767612234357966",
         "ebit_growth": "-0.40300854976609135",
         "ebitda_growth": "-0.3670675038132737",
         "research_and_development_growth": "0.01178882624295241",
         "total_revenue_growth": "-0.31665068328937906",
         "_deepnote_index_column": "5"
        }
       ]
      },
      "text/plain": "  stock_symbol  Year  Month  operating_income_growth  net_income_growth  \\\n1         AAPL  2018      3                -0.395067          -0.311139   \n2         AAPL  2018      6                -0.206493          -0.166618   \n3         AAPL  2018      9                 0.277989           0.226235   \n4         AAPL  2018     12                 0.448443           0.413451   \n5         AAPL  2019      3                -0.425383          -0.420937   \n\n   cost_of_revenue_growth  costof_goods_and_services_sold_growth  ebit_growth  \\\n1               -0.306467                              -0.306467    -0.389137   \n2               -0.129153                              -0.129153    -0.166863   \n3                0.181829                               0.181829     0.223567   \n4                0.470064                               0.346842     0.434207   \n5               -0.287582                              -0.307676    -0.403009   \n\n   ebitda_growth  research_and_development_growth  total_revenue_growth  \n1      -0.354322                        -0.008512             -0.307567  \n2      -0.147419                         0.095619             -0.128760  \n3       0.193391                         0.013240              0.180888  \n4       0.406526                         0.040533              0.326232  \n5      -0.367068                         0.011789             -0.316651  ",
      "text/html": "<div>\n<style scoped>\n    .dataframe tbody tr th:only-of-type {\n        vertical-align: middle;\n    }\n\n    .dataframe tbody tr th {\n        vertical-align: top;\n    }\n\n    .dataframe thead th {\n        text-align: right;\n    }\n</style>\n<table border=\"1\" class=\"dataframe\">\n  <thead>\n    <tr style=\"text-align: right;\">\n      <th></th>\n      <th>stock_symbol</th>\n      <th>Year</th>\n      <th>Month</th>\n      <th>operating_income_growth</th>\n      <th>net_income_growth</th>\n      <th>cost_of_revenue_growth</th>\n      <th>costof_goods_and_services_sold_growth</th>\n      <th>ebit_growth</th>\n      <th>ebitda_growth</th>\n      <th>research_and_development_growth</th>\n      <th>total_revenue_growth</th>\n    </tr>\n  </thead>\n  <tbody>\n    <tr>\n      <th>1</th>\n      <td>AAPL</td>\n      <td>2018</td>\n      <td>3</td>\n      <td>-0.395067</td>\n      <td>-0.311139</td>\n      <td>-0.306467</td>\n      <td>-0.306467</td>\n      <td>-0.389137</td>\n      <td>-0.354322</td>\n      <td>-0.008512</td>\n      <td>-0.307567</td>\n    </tr>\n    <tr>\n      <th>2</th>\n      <td>AAPL</td>\n      <td>2018</td>\n      <td>6</td>\n      <td>-0.206493</td>\n      <td>-0.166618</td>\n      <td>-0.129153</td>\n      <td>-0.129153</td>\n      <td>-0.166863</td>\n      <td>-0.147419</td>\n      <td>0.095619</td>\n      <td>-0.128760</td>\n    </tr>\n    <tr>\n      <th>3</th>\n      <td>AAPL</td>\n      <td>2018</td>\n      <td>9</td>\n      <td>0.277989</td>\n      <td>0.226235</td>\n      <td>0.181829</td>\n      <td>0.181829</td>\n      <td>0.223567</td>\n      <td>0.193391</td>\n      <td>0.013240</td>\n      <td>0.180888</td>\n    </tr>\n    <tr>\n      <th>4</th>\n      <td>AAPL</td>\n      <td>2018</td>\n      <td>12</td>\n      <td>0.448443</td>\n      <td>0.413451</td>\n      <td>0.470064</td>\n      <td>0.346842</td>\n      <td>0.434207</td>\n      <td>0.406526</td>\n      <td>0.040533</td>\n      <td>0.326232</td>\n    </tr>\n    <tr>\n      <th>5</th>\n      <td>AAPL</td>\n      <td>2019</td>\n      <td>3</td>\n      <td>-0.425383</td>\n      <td>-0.420937</td>\n      <td>-0.287582</td>\n      <td>-0.307676</td>\n      <td>-0.403009</td>\n      <td>-0.367068</td>\n      <td>0.011789</td>\n      <td>-0.316651</td>\n    </tr>\n  </tbody>\n</table>\n</div>"
     },
     "metadata": {}
    }
   ]
  },
  {
   "cell_type": "code",
   "metadata": {
    "tags": [],
    "cell_id": "076cbd50b53543a1ac7873a26a7a107b",
    "source_hash": "e7e9f1d6",
    "execution_start": 1675898772264,
    "execution_millis": 441,
    "deepnote_to_be_reexecuted": false,
    "deepnote_cell_type": "code"
   },
   "source": "grouped_by = technical_analysis_df.groupby(['symbol', 'Year', 'Month']).mean() \n# Columns of Interest\ncols_of_interest = ['stock_symbol', 'Year', 'Month', 'sma_20', 'sma_200', 'ema_20', 'ema_200', 'cum_ma', 'adjustedClose',\n       'bollinger_upper', 'bollinger_lower', 'rsi']\n# Handle Group By Index\nsymbols = []\nyears = []\nmonths = []\n# Iterated Grouped By Index \nfor index, grouped_item in enumerate(grouped_by.index.to_list()):\n    st = ','.join(map(str, grouped_item))\n    symbol, year, month = st.split(',')\n    symbols.append(symbol)\n    years.append(year)\n    months.append(month)\n# Add Symbols - Years - Months as columns\ngrouped_by['stock_symbol'] = symbols\ngrouped_by['Year'] = years\ngrouped_by['Year'] = grouped_by['Year'].astype(\"int32\")\ngrouped_by['Month'] = months\ngrouped_by['Month'] = grouped_by['Month'].astype(\"int32\")\ngrouped_by.reset_index(drop=True, inplace=True)\ngrouped_by = grouped_by[cols_of_interest]\ngrouped_by.head(5)",
   "execution_count": null,
   "outputs": [
    {
     "output_type": "execute_result",
     "execution_count": 6,
     "data": {
      "application/vnd.deepnote.dataframe.v3+json": {
       "column_count": 12,
       "row_count": 5,
       "columns": [
        {
         "name": "stock_symbol",
         "dtype": "object",
         "stats": {
          "unique_count": 1,
          "nan_count": 0,
          "categories": [
           {
            "name": "A",
            "count": 5
           }
          ]
         }
        },
        {
         "name": "Year",
         "dtype": "int32",
         "stats": {
          "unique_count": 2,
          "nan_count": 0,
          "min": "1999",
          "max": "2000",
          "histogram": [
           {
            "bin_start": 1999,
            "bin_end": 1999.1,
            "count": 2
           },
           {
            "bin_start": 1999.1,
            "bin_end": 1999.2,
            "count": 0
           },
           {
            "bin_start": 1999.2,
            "bin_end": 1999.3,
            "count": 0
           },
           {
            "bin_start": 1999.3,
            "bin_end": 1999.4,
            "count": 0
           },
           {
            "bin_start": 1999.4,
            "bin_end": 1999.5,
            "count": 0
           },
           {
            "bin_start": 1999.5,
            "bin_end": 1999.6,
            "count": 0
           },
           {
            "bin_start": 1999.6,
            "bin_end": 1999.7,
            "count": 0
           },
           {
            "bin_start": 1999.7,
            "bin_end": 1999.8,
            "count": 0
           },
           {
            "bin_start": 1999.8,
            "bin_end": 1999.9,
            "count": 0
           },
           {
            "bin_start": 1999.9,
            "bin_end": 2000,
            "count": 3
           }
          ]
         }
        },
        {
         "name": "Month",
         "dtype": "int32",
         "stats": {
          "unique_count": 5,
          "nan_count": 0,
          "min": "1",
          "max": "12",
          "histogram": [
           {
            "bin_start": 1,
            "bin_end": 2.1,
            "count": 2
           },
           {
            "bin_start": 2.1,
            "bin_end": 3.2,
            "count": 1
           },
           {
            "bin_start": 3.2,
            "bin_end": 4.300000000000001,
            "count": 0
           },
           {
            "bin_start": 4.300000000000001,
            "bin_end": 5.4,
            "count": 0
           },
           {
            "bin_start": 5.4,
            "bin_end": 6.5,
            "count": 0
           },
           {
            "bin_start": 6.5,
            "bin_end": 7.6000000000000005,
            "count": 0
           },
           {
            "bin_start": 7.6000000000000005,
            "bin_end": 8.700000000000001,
            "count": 0
           },
           {
            "bin_start": 8.700000000000001,
            "bin_end": 9.8,
            "count": 0
           },
           {
            "bin_start": 9.8,
            "bin_end": 10.9,
            "count": 0
           },
           {
            "bin_start": 10.9,
            "bin_end": 12,
            "count": 2
           }
          ]
         }
        },
        {
         "name": "sma_20",
         "dtype": "float64",
         "stats": {
          "unique_count": 5,
          "nan_count": 0,
          "min": "29.223275334675623",
          "max": "72.03187548054325",
          "histogram": [
           {
            "bin_start": 29.223275334675623,
            "bin_end": 33.504135349262384,
            "count": 1
           },
           {
            "bin_start": 33.504135349262384,
            "bin_end": 37.78499536384915,
            "count": 0
           },
           {
            "bin_start": 37.78499536384915,
            "bin_end": 42.06585537843591,
            "count": 1
           },
           {
            "bin_start": 42.06585537843591,
            "bin_end": 46.34671539302268,
            "count": 0
           },
           {
            "bin_start": 46.34671539302268,
            "bin_end": 50.62757540760944,
            "count": 1
           },
           {
            "bin_start": 50.62757540760944,
            "bin_end": 54.9084354221962,
            "count": 0
           },
           {
            "bin_start": 54.9084354221962,
            "bin_end": 59.189295436782956,
            "count": 0
           },
           {
            "bin_start": 59.189295436782956,
            "bin_end": 63.47015545136972,
            "count": 0
           },
           {
            "bin_start": 63.47015545136972,
            "bin_end": 67.75101546595648,
            "count": 0
           },
           {
            "bin_start": 67.75101546595648,
            "bin_end": 72.03187548054325,
            "count": 2
           }
          ]
         }
        },
        {
         "name": "sma_200",
         "dtype": "float64",
         "stats": {
          "unique_count": 5,
          "nan_count": 0,
          "min": "42.78271121785574",
          "max": "49.41118466807559",
          "histogram": [
           {
            "bin_start": 42.78271121785574,
            "bin_end": 43.44555856287773,
            "count": 1
           },
           {
            "bin_start": 43.44555856287773,
            "bin_end": 44.10840590789971,
            "count": 0
           },
           {
            "bin_start": 44.10840590789971,
            "bin_end": 44.771253252921696,
            "count": 0
           },
           {
            "bin_start": 44.771253252921696,
            "bin_end": 45.43410059794368,
            "count": 0
           },
           {
            "bin_start": 45.43410059794368,
            "bin_end": 46.09694794296567,
            "count": 0
           },
           {
            "bin_start": 46.09694794296567,
            "bin_end": 46.75979528798765,
            "count": 1
           },
           {
            "bin_start": 46.75979528798765,
            "bin_end": 47.42264263300964,
            "count": 0
           },
           {
            "bin_start": 47.42264263300964,
            "bin_end": 48.085489978031625,
            "count": 0
           },
           {
            "bin_start": 48.085489978031625,
            "bin_end": 48.748337323053605,
            "count": 1
           },
           {
            "bin_start": 48.748337323053605,
            "bin_end": 49.41118466807559,
            "count": 2
           }
          ]
         }
        },
        {
         "name": "ema_20",
         "dtype": "float64",
         "stats": {
          "unique_count": 5,
          "nan_count": 0,
          "min": "36.192633882876315",
          "max": "68.60517135341037",
          "histogram": [
           {
            "bin_start": 36.192633882876315,
            "bin_end": 39.43388762992972,
            "count": 1
           },
           {
            "bin_start": 39.43388762992972,
            "bin_end": 42.67514137698313,
            "count": 0
           },
           {
            "bin_start": 42.67514137698313,
            "bin_end": 45.91639512403653,
            "count": 1
           },
           {
            "bin_start": 45.91639512403653,
            "bin_end": 49.15764887108993,
            "count": 0
           },
           {
            "bin_start": 49.15764887108993,
            "bin_end": 52.39890261814334,
            "count": 0
           },
           {
            "bin_start": 52.39890261814334,
            "bin_end": 55.640156365196745,
            "count": 1
           },
           {
            "bin_start": 55.640156365196745,
            "bin_end": 58.88141011225015,
            "count": 0
           },
           {
            "bin_start": 58.88141011225015,
            "bin_end": 62.12266385930356,
            "count": 0
           },
           {
            "bin_start": 62.12266385930356,
            "bin_end": 65.36391760635696,
            "count": 0
           },
           {
            "bin_start": 65.36391760635696,
            "bin_end": 68.60517135341037,
            "count": 2
           }
          ]
         }
        },
        {
         "name": "ema_200",
         "dtype": "float64",
         "stats": {
          "unique_count": 5,
          "nan_count": 0,
          "min": "37.16297143502449",
          "max": "41.4147487007046",
          "histogram": [
           {
            "bin_start": 37.16297143502449,
            "bin_end": 37.5881491615925,
            "count": 1
           },
           {
            "bin_start": 37.5881491615925,
            "bin_end": 38.01332688816051,
            "count": 0
           },
           {
            "bin_start": 38.01332688816051,
            "bin_end": 38.43850461472852,
            "count": 0
           },
           {
            "bin_start": 38.43850461472852,
            "bin_end": 38.86368234129653,
            "count": 0
           },
           {
            "bin_start": 38.86368234129653,
            "bin_end": 39.28886006786455,
            "count": 0
           },
           {
            "bin_start": 39.28886006786455,
            "bin_end": 39.714037794432556,
            "count": 0
           },
           {
            "bin_start": 39.714037794432556,
            "bin_end": 40.139215521000565,
            "count": 0
           },
           {
            "bin_start": 40.139215521000565,
            "bin_end": 40.564393247568574,
            "count": 1
           },
           {
            "bin_start": 40.564393247568574,
            "bin_end": 40.98957097413659,
            "count": 1
           },
           {
            "bin_start": 40.98957097413659,
            "bin_end": 41.4147487007046,
            "count": 2
           }
          ]
         }
        },
        {
         "name": "cum_ma",
         "dtype": "float64",
         "stats": {
          "unique_count": 5,
          "nan_count": 0,
          "min": "43.066263382595956",
          "max": "43.19288143007099",
          "histogram": [
           {
            "bin_start": 43.066263382595956,
            "bin_end": 43.07892518734346,
            "count": 1
           },
           {
            "bin_start": 43.07892518734346,
            "bin_end": 43.09158699209096,
            "count": 0
           },
           {
            "bin_start": 43.09158699209096,
            "bin_end": 43.10424879683847,
            "count": 0
           },
           {
            "bin_start": 43.10424879683847,
            "bin_end": 43.11691060158597,
            "count": 0
           },
           {
            "bin_start": 43.11691060158597,
            "bin_end": 43.12957240633347,
            "count": 0
           },
           {
            "bin_start": 43.12957240633347,
            "bin_end": 43.142234211080975,
            "count": 0
           },
           {
            "bin_start": 43.142234211080975,
            "bin_end": 43.15489601582848,
            "count": 1
           },
           {
            "bin_start": 43.15489601582848,
            "bin_end": 43.167557820575986,
            "count": 0
           },
           {
            "bin_start": 43.167557820575986,
            "bin_end": 43.18021962532349,
            "count": 1
           },
           {
            "bin_start": 43.18021962532349,
            "bin_end": 43.19288143007099,
            "count": 2
           }
          ]
         }
        },
        {
         "name": "adjustedClose",
         "dtype": "float64",
         "stats": {
          "unique_count": 5,
          "nan_count": 0,
          "min": "27.472131824437497",
          "max": "80.60335450205217",
          "histogram": [
           {
            "bin_start": 27.472131824437497,
            "bin_end": 32.78525409219896,
            "count": 1
           },
           {
            "bin_start": 32.78525409219896,
            "bin_end": 38.09837635996043,
            "count": 1
           },
           {
            "bin_start": 38.09837635996043,
            "bin_end": 43.4114986277219,
            "count": 0
           },
           {
            "bin_start": 43.4114986277219,
            "bin_end": 48.72462089548337,
            "count": 1
           },
           {
            "bin_start": 48.72462089548337,
            "bin_end": 54.03774316324483,
            "count": 0
           },
           {
            "bin_start": 54.03774316324483,
            "bin_end": 59.3508654310063,
            "count": 1
           },
           {
            "bin_start": 59.3508654310063,
            "bin_end": 64.66398769876777,
            "count": 0
           },
           {
            "bin_start": 64.66398769876777,
            "bin_end": 69.97710996652924,
            "count": 0
           },
           {
            "bin_start": 69.97710996652924,
            "bin_end": 75.2902322342907,
            "count": 0
           },
           {
            "bin_start": 75.2902322342907,
            "bin_end": 80.60335450205217,
            "count": 1
           }
          ]
         }
        },
        {
         "name": "bollinger_upper",
         "dtype": "float64",
         "stats": {
          "unique_count": 5,
          "nan_count": 0,
          "min": "32.353834331085594",
          "max": "96.69844423488418",
          "histogram": [
           {
            "bin_start": 32.353834331085594,
            "bin_end": 38.788295321465455,
            "count": 1
           },
           {
            "bin_start": 38.788295321465455,
            "bin_end": 45.22275631184531,
            "count": 0
           },
           {
            "bin_start": 45.22275631184531,
            "bin_end": 51.65721730222517,
            "count": 1
           },
           {
            "bin_start": 51.65721730222517,
            "bin_end": 58.091678292605025,
            "count": 1
           },
           {
            "bin_start": 58.091678292605025,
            "bin_end": 64.52613928298489,
            "count": 0
           },
           {
            "bin_start": 64.52613928298489,
            "bin_end": 70.96060027336475,
            "count": 0
           },
           {
            "bin_start": 70.96060027336475,
            "bin_end": 77.3950612637446,
            "count": 0
           },
           {
            "bin_start": 77.3950612637446,
            "bin_end": 83.82952225412447,
            "count": 0
           },
           {
            "bin_start": 83.82952225412447,
            "bin_end": 90.26398324450432,
            "count": 1
           },
           {
            "bin_start": 90.26398324450432,
            "bin_end": 96.69844423488418,
            "count": 1
           }
          ]
         }
        },
        {
         "name": "bollinger_lower",
         "dtype": "float64",
         "stats": {
          "unique_count": 5,
          "nan_count": 0,
          "min": "26.092716338265653",
          "max": "55.783905969601314",
          "histogram": [
           {
            "bin_start": 26.092716338265653,
            "bin_end": 29.06183530139922,
            "count": 2
           },
           {
            "bin_start": 29.06183530139922,
            "bin_end": 32.03095426453279,
            "count": 0
           },
           {
            "bin_start": 32.03095426453279,
            "bin_end": 35.00007322766635,
            "count": 0
           },
           {
            "bin_start": 35.00007322766635,
            "bin_end": 37.969192190799916,
            "count": 0
           },
           {
            "bin_start": 37.969192190799916,
            "bin_end": 40.93831115393348,
            "count": 1
           },
           {
            "bin_start": 40.93831115393348,
            "bin_end": 43.90743011706705,
            "count": 0
           },
           {
            "bin_start": 43.90743011706705,
            "bin_end": 46.87654908020062,
            "count": 1
           },
           {
            "bin_start": 46.87654908020062,
            "bin_end": 49.845668043334186,
            "count": 0
           },
           {
            "bin_start": 49.845668043334186,
            "bin_end": 52.81478700646775,
            "count": 0
           },
           {
            "bin_start": 52.81478700646775,
            "bin_end": 55.783905969601314,
            "count": 1
           }
          ]
         }
        },
        {
         "name": "rsi",
         "dtype": "float64",
         "stats": {
          "unique_count": 5,
          "nan_count": 0,
          "min": "33.72385671575142",
          "max": "60.99306625708222",
          "histogram": [
           {
            "bin_start": 33.72385671575142,
            "bin_end": 36.450777669884495,
            "count": 3
           },
           {
            "bin_start": 36.450777669884495,
            "bin_end": 39.17769862401758,
            "count": 1
           },
           {
            "bin_start": 39.17769862401758,
            "bin_end": 41.90461957815066,
            "count": 0
           },
           {
            "bin_start": 41.90461957815066,
            "bin_end": 44.631540532283736,
            "count": 0
           },
           {
            "bin_start": 44.631540532283736,
            "bin_end": 47.358461486416815,
            "count": 0
           },
           {
            "bin_start": 47.358461486416815,
            "bin_end": 50.0853824405499,
            "count": 0
           },
           {
            "bin_start": 50.0853824405499,
            "bin_end": 52.81230339468298,
            "count": 0
           },
           {
            "bin_start": 52.81230339468298,
            "bin_end": 55.53922434881606,
            "count": 0
           },
           {
            "bin_start": 55.53922434881606,
            "bin_end": 58.26614530294914,
            "count": 0
           },
           {
            "bin_start": 58.26614530294914,
            "bin_end": 60.99306625708222,
            "count": 1
           }
          ]
         }
        },
        {
         "name": "_deepnote_index_column",
         "dtype": "int64"
        }
       ],
       "rows": [
        {
         "stock_symbol": "A",
         "Year": "1999",
         "Month": "11",
         "sma_20": "29.223275334675623",
         "sma_200": "49.003361869532874",
         "ema_20": "36.192633882876315",
         "ema_200": "40.35999306415607",
         "cum_ma": "43.14417183015683",
         "adjustedClose": "27.472131824437497",
         "bollinger_upper": "32.353834331085594",
         "bollinger_lower": "26.092716338265653",
         "rsi": "33.72385671575142",
         "_deepnote_index_column": "0"
        },
        {
         "stock_symbol": "A",
         "Year": "1999",
         "Month": "12",
         "sma_20": "39.45556036594477",
         "sma_200": "49.41118466807559",
         "ema_20": "44.66633746855262",
         "ema_200": "41.23413225950053",
         "cum_ma": "43.18029184856157",
         "adjustedClose": "33.24163714002273",
         "bollinger_upper": "51.37437431246967",
         "bollinger_lower": "27.536746419419888",
         "rsi": "35.610823043145835",
         "_deepnote_index_column": "1"
        },
        {
         "stock_symbol": "A",
         "Year": "2000",
         "Month": "1",
         "sma_20": "48.26894540273349",
         "sma_200": "48.507754612612345",
         "ema_20": "55.411504505970505",
         "ema_200": "41.4147487007046",
         "cum_ma": "43.19288143007099",
         "adjustedClose": "44.26389870009999",
         "bollinger_upper": "56.029339955963884",
         "bollinger_lower": "40.50855084950312",
         "rsi": "36.00177421989572",
         "_deepnote_index_column": "2"
        },
        {
         "stock_symbol": "A",
         "Year": "2000",
         "Month": "2",
         "sma_20": "71.62263421909026",
         "sma_200": "46.707761193518806",
         "ema_20": "68.60517135341037",
         "ema_200": "40.70514930809217",
         "cum_ma": "43.17521619098615",
         "adjustedClose": "56.655207037835",
         "bollinger_upper": "96.69844423488418",
         "bollinger_lower": "46.546824203296346",
         "rsi": "38.80742384575179",
         "_deepnote_index_column": "3"
        },
        {
         "stock_symbol": "A",
         "Year": "2000",
         "Month": "3",
         "sma_20": "72.03187548054325",
         "sma_200": "42.78271121785574",
         "ema_20": "66.37514251981112",
         "ema_200": "37.16297143502449",
         "cum_ma": "43.066263382595956",
         "adjustedClose": "80.60335450205217",
         "bollinger_upper": "88.27984499148522",
         "bollinger_lower": "55.783905969601314",
         "rsi": "60.99306625708222",
         "_deepnote_index_column": "4"
        }
       ]
      },
      "text/plain": "  stock_symbol  Year  Month     sma_20    sma_200     ema_20    ema_200  \\\n0            A  1999     11  29.223275  49.003362  36.192634  40.359993   \n1            A  1999     12  39.455560  49.411185  44.666337  41.234132   \n2            A  2000      1  48.268945  48.507755  55.411505  41.414749   \n3            A  2000      2  71.622634  46.707761  68.605171  40.705149   \n4            A  2000      3  72.031875  42.782711  66.375143  37.162971   \n\n      cum_ma  adjustedClose  bollinger_upper  bollinger_lower        rsi  \n0  43.144172      27.472132        32.353834        26.092716  33.723857  \n1  43.180292      33.241637        51.374374        27.536746  35.610823  \n2  43.192881      44.263899        56.029340        40.508551  36.001774  \n3  43.175216      56.655207        96.698444        46.546824  38.807424  \n4  43.066263      80.603355        88.279845        55.783906  60.993066  ",
      "text/html": "<div>\n<style scoped>\n    .dataframe tbody tr th:only-of-type {\n        vertical-align: middle;\n    }\n\n    .dataframe tbody tr th {\n        vertical-align: top;\n    }\n\n    .dataframe thead th {\n        text-align: right;\n    }\n</style>\n<table border=\"1\" class=\"dataframe\">\n  <thead>\n    <tr style=\"text-align: right;\">\n      <th></th>\n      <th>stock_symbol</th>\n      <th>Year</th>\n      <th>Month</th>\n      <th>sma_20</th>\n      <th>sma_200</th>\n      <th>ema_20</th>\n      <th>ema_200</th>\n      <th>cum_ma</th>\n      <th>adjustedClose</th>\n      <th>bollinger_upper</th>\n      <th>bollinger_lower</th>\n      <th>rsi</th>\n    </tr>\n  </thead>\n  <tbody>\n    <tr>\n      <th>0</th>\n      <td>A</td>\n      <td>1999</td>\n      <td>11</td>\n      <td>29.223275</td>\n      <td>49.003362</td>\n      <td>36.192634</td>\n      <td>40.359993</td>\n      <td>43.144172</td>\n      <td>27.472132</td>\n      <td>32.353834</td>\n      <td>26.092716</td>\n      <td>33.723857</td>\n    </tr>\n    <tr>\n      <th>1</th>\n      <td>A</td>\n      <td>1999</td>\n      <td>12</td>\n      <td>39.455560</td>\n      <td>49.411185</td>\n      <td>44.666337</td>\n      <td>41.234132</td>\n      <td>43.180292</td>\n      <td>33.241637</td>\n      <td>51.374374</td>\n      <td>27.536746</td>\n      <td>35.610823</td>\n    </tr>\n    <tr>\n      <th>2</th>\n      <td>A</td>\n      <td>2000</td>\n      <td>1</td>\n      <td>48.268945</td>\n      <td>48.507755</td>\n      <td>55.411505</td>\n      <td>41.414749</td>\n      <td>43.192881</td>\n      <td>44.263899</td>\n      <td>56.029340</td>\n      <td>40.508551</td>\n      <td>36.001774</td>\n    </tr>\n    <tr>\n      <th>3</th>\n      <td>A</td>\n      <td>2000</td>\n      <td>2</td>\n      <td>71.622634</td>\n      <td>46.707761</td>\n      <td>68.605171</td>\n      <td>40.705149</td>\n      <td>43.175216</td>\n      <td>56.655207</td>\n      <td>96.698444</td>\n      <td>46.546824</td>\n      <td>38.807424</td>\n    </tr>\n    <tr>\n      <th>4</th>\n      <td>A</td>\n      <td>2000</td>\n      <td>3</td>\n      <td>72.031875</td>\n      <td>42.782711</td>\n      <td>66.375143</td>\n      <td>37.162971</td>\n      <td>43.066263</td>\n      <td>80.603355</td>\n      <td>88.279845</td>\n      <td>55.783906</td>\n      <td>60.993066</td>\n    </tr>\n  </tbody>\n</table>\n</div>"
     },
     "metadata": {}
    }
   ]
  },
  {
   "cell_type": "code",
   "metadata": {
    "tags": [],
    "cell_id": "d91b5347c0814e809310f1e96b5c93d5",
    "source_hash": "c392f386",
    "execution_start": 1675898772736,
    "execution_millis": 46,
    "deepnote_to_be_reexecuted": false,
    "deepnote_cell_type": "code"
   },
   "source": "## Stock Quotes and Income Growth\nstock_income_quote_df = quarterly_growth_df.merge(grouped_by, on=['stock_symbol', 'Year', 'Month'])\nstock_income_quote_df\n",
   "execution_count": null,
   "outputs": [
    {
     "output_type": "execute_result",
     "execution_count": 7,
     "data": {
      "application/vnd.deepnote.dataframe.v3+json": {
       "column_count": 20,
       "row_count": 8291,
       "columns": [
        {
         "name": "stock_symbol",
         "dtype": "object",
         "stats": {
          "unique_count": 496,
          "nan_count": 0,
          "categories": [
           {
            "name": "AAPL",
            "count": 17
           },
           {
            "name": "MMM",
            "count": 17
           },
           {
            "name": "494 others",
            "count": 8257
           }
          ]
         }
        },
        {
         "name": "Year",
         "dtype": "int64",
         "stats": {
          "unique_count": 6,
          "nan_count": 0,
          "min": "2017",
          "max": "2022",
          "histogram": [
           {
            "bin_start": 2017,
            "bin_end": 2017.5,
            "count": 4
           },
           {
            "bin_start": 2017.5,
            "bin_end": 2018,
            "count": 0
           },
           {
            "bin_start": 2018,
            "bin_end": 2018.5,
            "count": 1889
           },
           {
            "bin_start": 2018.5,
            "bin_end": 2019,
            "count": 0
           },
           {
            "bin_start": 2019,
            "bin_end": 2019.5,
            "count": 1961
           },
           {
            "bin_start": 2019.5,
            "bin_end": 2020,
            "count": 0
           },
           {
            "bin_start": 2020,
            "bin_end": 2020.5,
            "count": 1970
           },
           {
            "bin_start": 2020.5,
            "bin_end": 2021,
            "count": 0
           },
           {
            "bin_start": 2021,
            "bin_end": 2021.5,
            "count": 1975
           },
           {
            "bin_start": 2021.5,
            "bin_end": 2022,
            "count": 492
           }
          ]
         }
        },
        {
         "name": "Month",
         "dtype": "int64",
         "stats": {
          "unique_count": 12,
          "nan_count": 0,
          "min": "1",
          "max": "12",
          "histogram": [
           {
            "bin_start": 1,
            "bin_end": 2.1,
            "count": 234
           },
           {
            "bin_start": 2.1,
            "bin_end": 3.2,
            "count": 2171
           },
           {
            "bin_start": 3.2,
            "bin_end": 4.300000000000001,
            "count": 87
           },
           {
            "bin_start": 4.300000000000001,
            "bin_end": 5.4,
            "count": 136
           },
           {
            "bin_start": 5.4,
            "bin_end": 6.5,
            "count": 1735
           },
           {
            "bin_start": 6.5,
            "bin_end": 7.6000000000000005,
            "count": 98
           },
           {
            "bin_start": 7.6000000000000005,
            "bin_end": 8.700000000000001,
            "count": 124
           },
           {
            "bin_start": 8.700000000000001,
            "bin_end": 9.8,
            "count": 1741
           },
           {
            "bin_start": 9.8,
            "bin_end": 10.9,
            "count": 107
           },
           {
            "bin_start": 10.9,
            "bin_end": 12,
            "count": 1858
           }
          ]
         }
        },
        {
         "name": "operating_income_growth",
         "dtype": "float64",
         "stats": {
          "unique_count": 8163,
          "nan_count": 0,
          "min": "-241814001.0",
          "max": "3164.5",
          "histogram": [
           {
            "bin_start": -241814001,
            "bin_end": -217632284.45,
            "count": 1
           },
           {
            "bin_start": -217632284.45,
            "bin_end": -193450567.9,
            "count": 0
           },
           {
            "bin_start": -193450567.9,
            "bin_end": -169268851.35,
            "count": 0
           },
           {
            "bin_start": -169268851.35,
            "bin_end": -145087134.8,
            "count": 0
           },
           {
            "bin_start": -145087134.8,
            "bin_end": -120905418.25,
            "count": 0
           },
           {
            "bin_start": -120905418.25,
            "bin_end": -96723701.69999999,
            "count": 0
           },
           {
            "bin_start": -96723701.69999999,
            "bin_end": -72541985.15,
            "count": 0
           },
           {
            "bin_start": -72541985.15,
            "bin_end": -48360268.599999994,
            "count": 0
           },
           {
            "bin_start": -48360268.599999994,
            "bin_end": -24178552.049999982,
            "count": 0
           },
           {
            "bin_start": -24178552.049999982,
            "bin_end": 3164.5,
            "count": 8290
           }
          ]
         }
        },
        {
         "name": "net_income_growth",
         "dtype": "float64",
         "stats": {
          "unique_count": 8158,
          "nan_count": 0,
          "min": "-419.0507246376812",
          "max": "inf",
          "histogram": [
           {
            "bin_start": -419.0507246376812,
            "bin_end": -295.2456521739131,
            "count": 4
           },
           {
            "bin_start": -295.2456521739131,
            "bin_end": -171.44057971014493,
            "count": 1
           },
           {
            "bin_start": -171.44057971014493,
            "bin_end": -47.63550724637679,
            "count": 24
           },
           {
            "bin_start": -47.63550724637679,
            "bin_end": 76.16956521739132,
            "count": 8250
           },
           {
            "bin_start": 76.16956521739132,
            "bin_end": 199.97463768115944,
            "count": 6
           },
           {
            "bin_start": 199.97463768115944,
            "bin_end": 323.7797101449276,
            "count": 1
           },
           {
            "bin_start": 323.7797101449276,
            "bin_end": 447.58478260869566,
            "count": 0
           },
           {
            "bin_start": 447.58478260869566,
            "bin_end": 571.3898550724639,
            "count": 2
           },
           {
            "bin_start": 571.3898550724639,
            "bin_end": 695.194927536232,
            "count": 1
           },
           {
            "bin_start": 695.194927536232,
            "bin_end": 819,
            "count": 1
           }
          ]
         }
        },
        {
         "name": "cost_of_revenue_growth",
         "dtype": "float64",
         "stats": {
          "unique_count": 8162,
          "nan_count": 0,
          "min": "-inf",
          "max": "8223.6875",
          "histogram": [
           {
            "bin_start": -43738000001,
            "bin_end": -39364199178.53125,
            "count": 1
           },
           {
            "bin_start": -39364199178.53125,
            "bin_end": -34990398356.0625,
            "count": 0
           },
           {
            "bin_start": -34990398356.0625,
            "bin_end": -30616597533.59375,
            "count": 0
           },
           {
            "bin_start": -30616597533.59375,
            "bin_end": -26242796711.125,
            "count": 0
           },
           {
            "bin_start": -26242796711.125,
            "bin_end": -21868995888.65625,
            "count": 0
           },
           {
            "bin_start": -21868995888.65625,
            "bin_end": -17495195066.1875,
            "count": 0
           },
           {
            "bin_start": -17495195066.1875,
            "bin_end": -13121394243.71875,
            "count": 0
           },
           {
            "bin_start": -13121394243.71875,
            "bin_end": -8747593421.25,
            "count": 0
           },
           {
            "bin_start": -8747593421.25,
            "bin_end": -4373792598.78125,
            "count": 0
           },
           {
            "bin_start": -4373792598.78125,
            "bin_end": 8223.6875,
            "count": 8289
           }
          ]
         }
        },
        {
         "name": "costof_goods_and_services_sold_growth",
         "dtype": "float64",
         "stats": {
          "unique_count": 7754,
          "nan_count": 0,
          "min": "-inf",
          "max": "inf",
          "histogram": [
           {
            "bin_start": -25611000001,
            "bin_end": -22211600001,
            "count": 1
           },
           {
            "bin_start": -22211600001,
            "bin_end": -18812200001,
            "count": 0
           },
           {
            "bin_start": -18812200001,
            "bin_end": -15412800001,
            "count": 0
           },
           {
            "bin_start": -15412800001,
            "bin_end": -12013400001,
            "count": 0
           },
           {
            "bin_start": -12013400001,
            "bin_end": -8614000001,
            "count": 2
           },
           {
            "bin_start": -8614000001,
            "bin_end": -5214600001,
            "count": 1
           },
           {
            "bin_start": -5214600001,
            "bin_end": -1815200001,
            "count": 1
           },
           {
            "bin_start": -1815200001,
            "bin_end": 1584199999,
            "count": 8274
           },
           {
            "bin_start": 1584199999,
            "bin_end": 4983599999,
            "count": 0
           },
           {
            "bin_start": 4983599999,
            "bin_end": 8382999999,
            "count": 2
           }
          ]
         }
        },
        {
         "name": "ebit_growth",
         "dtype": "float64",
         "stats": {
          "unique_count": 8180,
          "nan_count": 0,
          "min": "-287489001.0",
          "max": "401.609375",
          "histogram": [
           {
            "bin_start": -287489001,
            "bin_end": -258740060.7390625,
            "count": 1
           },
           {
            "bin_start": -258740060.7390625,
            "bin_end": -229991120.478125,
            "count": 0
           },
           {
            "bin_start": -229991120.478125,
            "bin_end": -201242180.2171875,
            "count": 0
           },
           {
            "bin_start": -201242180.2171875,
            "bin_end": -172493239.95625,
            "count": 0
           },
           {
            "bin_start": -172493239.95625,
            "bin_end": -143744299.6953125,
            "count": 0
           },
           {
            "bin_start": -143744299.6953125,
            "bin_end": -114995359.43437499,
            "count": 0
           },
           {
            "bin_start": -114995359.43437499,
            "bin_end": -86246419.1734375,
            "count": 0
           },
           {
            "bin_start": -86246419.1734375,
            "bin_end": -57497478.912499994,
            "count": 0
           },
           {
            "bin_start": -57497478.912499994,
            "bin_end": -28748538.651562482,
            "count": 0
           },
           {
            "bin_start": -28748538.651562482,
            "bin_end": 401.609375,
            "count": 8290
           }
          ]
         }
        },
        {
         "name": "ebitda_growth",
         "dtype": "float64",
         "stats": {
          "unique_count": 8167,
          "nan_count": 0,
          "min": "-4188000001.0",
          "max": "698.9723435225619",
          "histogram": [
           {
            "bin_start": -4188000001,
            "bin_end": -3769199931.0027657,
            "count": 2
           },
           {
            "bin_start": -3769199931.0027657,
            "bin_end": -3350399861.0055313,
            "count": 2
           },
           {
            "bin_start": -3350399861.0055313,
            "bin_end": -2931599791.008297,
            "count": 2
           },
           {
            "bin_start": -2931599791.008297,
            "bin_end": -2512799721.0110626,
            "count": 2
           },
           {
            "bin_start": -2512799721.0110626,
            "bin_end": -2093999651.0138283,
            "count": 3
           },
           {
            "bin_start": -2093999651.0138283,
            "bin_end": -1675199581.016594,
            "count": 2
           },
           {
            "bin_start": -1675199581.016594,
            "bin_end": -1256399511.0193596,
            "count": 1
           },
           {
            "bin_start": -1256399511.0193596,
            "bin_end": -837599441.0221252,
            "count": 2
           },
           {
            "bin_start": -837599441.0221252,
            "bin_end": -418799371.0248909,
            "count": 0
           },
           {
            "bin_start": -418799371.0248909,
            "bin_end": 698.9723435225619,
            "count": 8275
           }
          ]
         }
        },
        {
         "name": "research_and_development_growth",
         "dtype": "float64",
         "stats": {
          "unique_count": 2540,
          "nan_count": 0,
          "min": "-inf",
          "max": "inf",
          "histogram": [
           {
            "bin_start": -8200000001,
            "bin_end": -7380000000.410785,
            "count": 1
           },
           {
            "bin_start": -7380000000.410785,
            "bin_end": -6559999999.8215685,
            "count": 0
           },
           {
            "bin_start": -6559999999.8215685,
            "bin_end": -5739999999.232353,
            "count": 0
           },
           {
            "bin_start": -5739999999.232353,
            "bin_end": -4919999998.643137,
            "count": 0
           },
           {
            "bin_start": -4919999998.643137,
            "bin_end": -4099999998.0539217,
            "count": 1
           },
           {
            "bin_start": -4099999998.0539217,
            "bin_end": -3279999997.4647064,
            "count": 0
           },
           {
            "bin_start": -3279999997.4647064,
            "bin_end": -2459999996.87549,
            "count": 0
           },
           {
            "bin_start": -2459999996.87549,
            "bin_end": -1639999996.286275,
            "count": 1
           },
           {
            "bin_start": -1639999996.286275,
            "bin_end": -819999995.6970596,
            "count": 2
           },
           {
            "bin_start": -819999995.6970596,
            "bin_end": 4.892156862745098,
            "count": 8284
           }
          ]
         }
        },
        {
         "name": "total_revenue_growth",
         "dtype": "float64",
         "stats": {
          "unique_count": 8226,
          "nan_count": 0,
          "min": "-39265000001.0",
          "max": "65.925",
          "histogram": [
           {
            "bin_start": -39265000001,
            "bin_end": -35338499994.3075,
            "count": 1
           },
           {
            "bin_start": -35338499994.3075,
            "bin_end": -31411999987.614998,
            "count": 0
           },
           {
            "bin_start": -31411999987.614998,
            "bin_end": -27485499980.9225,
            "count": 0
           },
           {
            "bin_start": -27485499980.9225,
            "bin_end": -23558999974.23,
            "count": 0
           },
           {
            "bin_start": -23558999974.23,
            "bin_end": -19632499967.5375,
            "count": 0
           },
           {
            "bin_start": -19632499967.5375,
            "bin_end": -15705999960.845001,
            "count": 0
           },
           {
            "bin_start": -15705999960.845001,
            "bin_end": -11779499954.1525,
            "count": 0
           },
           {
            "bin_start": -11779499954.1525,
            "bin_end": -7852999947.459999,
            "count": 0
           },
           {
            "bin_start": -7852999947.459999,
            "bin_end": -3926499940.767502,
            "count": 0
           },
           {
            "bin_start": -3926499940.767502,
            "bin_end": 65.925,
            "count": 8290
           }
          ]
         }
        },
        {
         "name": "sma_20",
         "dtype": "float64",
         "stats": {
          "unique_count": 8290,
          "nan_count": 0,
          "min": "3.7800446624477955",
          "max": "5706.035886363637",
          "histogram": [
           {
            "bin_start": 3.7800446624477955,
            "bin_end": 574.0056288325667,
            "count": 8147
           },
           {
            "bin_start": 574.0056288325667,
            "bin_end": 1144.2312130026855,
            "count": 89
           },
           {
            "bin_start": 1144.2312130026855,
            "bin_end": 1714.4567971728043,
            "count": 20
           },
           {
            "bin_start": 1714.4567971728043,
            "bin_end": 2284.6823813429232,
            "count": 15
           },
           {
            "bin_start": 2284.6823813429232,
            "bin_end": 2854.907965513042,
            "count": 7
           },
           {
            "bin_start": 2854.907965513042,
            "bin_end": 3425.1335496831607,
            "count": 4
           },
           {
            "bin_start": 3425.1335496831607,
            "bin_end": 3995.3591338532797,
            "count": 2
           },
           {
            "bin_start": 3995.3591338532797,
            "bin_end": 4565.584718023399,
            "count": 2
           },
           {
            "bin_start": 4565.584718023399,
            "bin_end": 5135.810302193518,
            "count": 4
           },
           {
            "bin_start": 5135.810302193518,
            "bin_end": 5706.035886363637,
            "count": 1
           }
          ]
         }
        },
        {
         "name": "sma_200",
         "dtype": "float64"
        },
        {
         "name": "ema_20",
         "dtype": "float64"
        },
        {
         "name": "ema_200",
         "dtype": "float64"
        },
        {
         "name": "cum_ma",
         "dtype": "float64"
        },
        {
         "name": "adjustedClose",
         "dtype": "float64"
        },
        {
         "name": "bollinger_upper",
         "dtype": "float64"
        },
        {
         "name": "bollinger_lower",
         "dtype": "float64"
        },
        {
         "name": "rsi",
         "dtype": "float64"
        },
        {
         "name": "_deepnote_index_column",
         "dtype": "int64"
        }
       ],
       "rows": [
        {
         "stock_symbol": "AAPL",
         "Year": "2018",
         "Month": "3",
         "operating_income_growth": "-0.3950673669787623",
         "net_income_growth": "-0.31113879890356344",
         "cost_of_revenue_growth": "-0.3064673323403394",
         "costof_goods_and_services_sold_growth": "-0.3064673323403394",
         "ebit_growth": "-0.38913701195793116",
         "ebitda_growth": "-0.3543216755711429",
         "research_and_development_growth": "-0.008511887290871711",
         "total_revenue_growth": "-0.3075668512792633",
         "sma_20": "41.05811520209714",
         "sma_200": "46.413116836159396",
         "ema_20": "41.82587058649407",
         "ema_200": "52.05579409219407",
         "cum_ma": "98.94099996655972",
         "adjustedClose": "41.64725862599048",
         "bollinger_upper": "43.11737333759824",
         "bollinger_lower": "38.99885706659605",
         "rsi": "51.59544455478104",
         "_deepnote_index_column": "0"
        },
        {
         "stock_symbol": "AAPL",
         "Year": "2018",
         "Month": "6",
         "operating_income_growth": "-0.20649301623254057",
         "net_income_growth": "-0.16661843437997392",
         "cost_of_revenue_growth": "-0.1291528569534668",
         "costof_goods_and_services_sold_growth": "-0.1291528569534668",
         "ebit_growth": "-0.16686320754716977",
         "ebitda_growth": "-0.1474186506929286",
         "research_and_development_growth": "0.09561870929544103",
         "total_revenue_growth": "-0.12875999803719518",
         "sma_20": "45.017887175733804",
         "sma_200": "45.93635698307175",
         "ema_20": "46.49704322201633",
         "ema_200": "55.61619933913779",
         "cum_ma": "102.09968607465082",
         "adjustedClose": "45.19280886293333",
         "bollinger_upper": "46.457347583451956",
         "bollinger_lower": "43.57842676801567",
         "rsi": "45.44152207464442",
         "_deepnote_index_column": "1"
        },
        {
         "stock_symbol": "AAPL",
         "Year": "2018",
         "Month": "9",
         "operating_income_growth": "0.2779892166190929",
         "net_income_growth": "0.22623491622536673",
         "cost_of_revenue_growth": "0.1818292534405066",
         "costof_goods_and_services_sold_growth": "0.1818292534405066",
         "ebit_growth": "0.22356687898089178",
         "ebitda_growth": "0.19339089014587674",
         "research_and_development_growth": "0.013239664955417396",
         "total_revenue_growth": "0.1808880127663568",
         "sma_20": "53.55468199624737",
         "sma_200": "45.546625727868765",
         "ema_20": "51.49669850305344",
         "ema_200": "58.37749447237708",
         "cum_ma": "105.28742853604255",
         "adjustedClose": "53.394974153584215",
         "bollinger_upper": "55.636260166757246",
         "bollinger_lower": "51.473103825737496",
         "rsi": "53.375580431916866",
         "_deepnote_index_column": "2"
        },
        {
         "stock_symbol": "AAPL",
         "Year": "2018",
         "Month": "12",
         "operating_income_growth": "0.44844273483062413",
         "net_income_growth": "0.4134513274336282",
         "cost_of_revenue_growth": "0.47006389117889524",
         "costof_goods_and_services_sold_growth": "0.3468415086562242",
         "ebit_growth": "0.43420672103649727",
         "ebitda_growth": "0.4065259691662926",
         "research_and_development_growth": "0.04053333333333331",
         "total_revenue_growth": "0.3262321144674085",
         "sma_20": "37.59250346412079",
         "sma_200": "46.226390158884264",
         "ema_20": "38.98363682269161",
         "ema_200": "61.696450940508875",
         "cum_ma": "108.79291193359009",
         "adjustedClose": "39.634170035878945",
         "bollinger_upper": "40.51942263308734",
         "bollinger_lower": "34.66558429515424",
         "rsi": "56.18434643499243",
         "_deepnote_index_column": "3"
        },
        {
         "stock_symbol": "AAPL",
         "Year": "2019",
         "Month": "3",
         "operating_income_growth": "-0.4253833633170565",
         "net_income_growth": "-0.42093663911845725",
         "cost_of_revenue_growth": "-0.28758192842872665",
         "costof_goods_and_services_sold_growth": "-0.30767612234357966",
         "ebit_growth": "-0.40300854976609135",
         "ebitda_growth": "-0.3670675038132737",
         "research_and_development_growth": "0.01178882624295241",
         "total_revenue_growth": "-0.31665068328937906",
         "sma_20": "46.459579141530476",
         "sma_200": "53.18005427584209",
         "ema_20": "46.884071222057706",
         "ema_200": "69.44385269061037",
         "cum_ma": "113.14216265475157",
         "adjustedClose": "44.41457392496667",
         "bollinger_upper": "49.0775888990018",
         "bollinger_lower": "43.84156938405914",
         "rsi": "33.55961681799963",
         "_deepnote_index_column": "4"
        },
        {
         "stock_symbol": "AAPL",
         "Year": "2019",
         "Month": "6",
         "operating_income_growth": "-0.13947074170704432",
         "net_income_growth": "-0.13121702274889713",
         "cost_of_revenue_growth": "-0.06503985043786287",
         "costof_goods_and_services_sold_growth": "-0.0721666574570371",
         "ebit_growth": "-0.13686414915895428",
         "ebitda_growth": "-0.11954267780081829",
         "research_and_development_growth": "0.07826747720364735",
         "total_revenue_growth": "-0.07125690728883427",
         "sma_20": "48.569081512124754",
         "sma_200": "61.19199021716712",
         "ema_20": "49.38780977397876",
         "ema_200": "77.93986808731923",
         "cum_ma": "117.88293923555663",
         "adjustedClose": "46.94160046796499",
         "bollinger_upper": "50.293043575885164",
         "bollinger_lower": "46.84511944836434",
         "rsi": "36.553683239331626",
         "_deepnote_index_column": "5"
        },
        {
         "stock_symbol": "AAPL",
         "Year": "2019",
         "Month": "9",
         "operating_income_growth": "0.3535169785169785",
         "net_income_growth": "0.36260454002389486",
         "cost_of_revenue_growth": "0.16567564723216166",
         "costof_goods_and_services_sold_growth": "0.18298493240426428",
         "ebit_growth": "0.32558503561086316",
         "ebitda_growth": "0.2804583068109485",
         "research_and_development_growth": "-0.03453136011275548",
         "total_revenue_growth": "0.20960278034867685",
         "sma_20": "54.72272132718125",
         "sma_200": "69.60339995553463",
         "ema_20": "57.517694611152066",
         "ema_200": "88.66097534539043",
         "cum_ma": "123.15762034310214",
         "adjustedClose": "53.23257787617",
         "bollinger_upper": "57.22703440876238",
         "bollinger_lower": "52.218408245600116",
         "rsi": "33.20195834882246",
         "_deepnote_index_column": "6"
        },
        {
         "stock_symbol": "AAPL",
         "Year": "2019",
         "Month": "12",
         "operating_income_growth": "0.6364160000000001",
         "net_income_growth": "0.6247259973695747",
         "cost_of_revenue_growth": "0.39485385396682093",
         "costof_goods_and_services_sold_growth": "0.4247740831172755",
         "ebit_growth": "0.5766074275255357",
         "ebitda_growth": "0.4674388546430701",
         "research_and_development_growth": "0.0829683698296837",
         "total_revenue_growth": "0.4215178013741412",
         "sma_20": "71.89583628471144",
         "sma_200": "84.64019711735534",
         "ema_20": "72.58938110271049",
         "ema_200": "99.6089698641714",
         "cum_ma": "128.4047171161517",
         "adjustedClose": "67.72571284642382",
         "bollinger_upper": "77.1235970023162",
         "bollinger_lower": "66.66807556710665",
         "rsi": "29.851749225065916",
         "_deepnote_index_column": "7"
        },
        {
         "stock_symbol": "AAPL",
         "Year": "2020",
         "Month": "3",
         "operating_income_growth": "-0.4973209746177011",
         "net_income_growth": "-0.4941086526353661",
         "cost_of_revenue_growth": "-0.33825790061327854",
         "costof_goods_and_services_sold_growth": "-0.3649871029292251",
         "ebit_growth": "-0.4797588285960379",
         "ebitda_growth": "-0.43500796097428773",
         "research_and_development_growth": "0.0256122219725905",
         "total_revenue_growth": "-0.36775270777951097",
         "sma_20": "63.3152891367784",
         "sma_200": "98.35976179420571",
         "ema_20": "67.75553594438298",
         "ema_200": "109.27978745250843",
         "cum_ma": "133.24335606882042",
         "adjustedClose": "64.43154256485454",
         "bollinger_upper": "71.16308364402717",
         "bollinger_lower": "55.46749462952964",
         "rsi": "46.26647541756217",
         "_deepnote_index_column": "8"
        },
        {
         "stock_symbol": "AAPL",
         "Year": "2020",
         "Month": "6",
         "operating_income_growth": "0.01851707772504474",
         "net_income_growth": "0.0003555871633034169",
         "cost_of_revenue_growth": "0.023010147939845904",
         "costof_goods_and_services_sold_growth": "0.02954678240547537",
         "ebit_growth": "-0.004175064785488014",
         "ebitda_growth": "-0.005516248950713565",
         "research_and_development_growth": "0.04227820372398683",
         "total_revenue_growth": "0.02488011675585522",
         "sma_20": "89.62196685332998",
         "sma_200": "115.9310990778618",
         "ema_20": "95.10717292673365",
         "ema_200": "124.01282282518406",
         "cum_ma": "139.34433754086447",
         "adjustedClose": "85.12193612075453",
         "bollinger_upper": "95.4207215394773",
         "bollinger_lower": "83.8232121671827",
         "rsi": "32.46904180265632",
         "_deepnote_index_column": "9"
        }
       ]
      },
      "text/plain": "     stock_symbol  Year  Month  operating_income_growth  net_income_growth  \\\n0            AAPL  2018      3                -0.395067          -0.311139   \n1            AAPL  2018      6                -0.206493          -0.166618   \n2            AAPL  2018      9                 0.277989           0.226235   \n3            AAPL  2018     12                 0.448443           0.413451   \n4            AAPL  2019      3                -0.425383          -0.420937   \n...           ...   ...    ...                      ...                ...   \n8286          ZTS  2021      3                -2.776316           0.557103   \n8287          ZTS  2021      6                -0.385185          -0.084079   \n8288          ZTS  2021      9                -0.036145           0.078125   \n8289          ZTS  2021     12                -1.725000          -0.250000   \n8290          ZTS  2022      3                -3.232759           0.437198   \n\n      cost_of_revenue_growth  costof_goods_and_services_sold_growth  \\\n0                  -0.306467                              -0.306467   \n1                  -0.129153                              -0.129153   \n2                   0.181829                               0.181829   \n3                   0.470064                               0.346842   \n4                  -0.287582                              -0.307676   \n...                      ...                                    ...   \n8286               -0.169256                              -0.086522   \n8287                0.097441                               0.034608   \n8288                0.024215                               0.031690   \n8289                0.112960                               0.023891   \n8290               -0.144768                              -0.051667   \n\n      ebit_growth  ebitda_growth  research_and_development_growth  \\\n0       -0.389137      -0.354322                        -0.008512   \n1       -0.166863      -0.147419                         0.095619   \n2        0.223567       0.193391                         0.013240   \n3        0.434207       0.406526                         0.040533   \n4       -0.403009      -0.367068                         0.011789   \n...           ...            ...                              ...   \n8286     0.555324       0.499058                        -0.112782   \n8287    -0.068456      -0.062814                         0.016949   \n8288     0.030259       0.026810                         0.100000   \n8289    -0.215385      -0.202350                         0.045455   \n8290     0.392157       0.363339                        -0.115942   \n\n      total_revenue_growth      sma_20     sma_200      ema_20     ema_200  \\\n0                -0.307567   41.058115   46.413117   41.825871   52.055794   \n1                -0.128760   45.017887   45.936357   46.497043   55.616199   \n2                 0.180888   53.554682   45.546626   51.496699   58.377494   \n3                 0.326232   37.592503   46.226390   38.983637   61.696451   \n4                -0.316651   46.459579   53.180054   46.884071   69.443853   \n...                    ...         ...         ...         ...         ...   \n8286              0.035418  155.849229  193.135176  161.197873  184.781131   \n8287              0.041154  188.185652  203.584555  192.030664  193.169736   \n8288              0.021561  198.126008  195.705169  203.497262  191.513608   \n8289             -0.011558  225.686811  181.631648  215.712190  182.094205   \n8290              0.009659  189.538096  165.831235  185.674341  169.339935   \n\n          cum_ma  adjustedClose  bollinger_upper  bollinger_lower        rsi  \n0      98.941000      41.647259        43.117373        38.998857  51.595445  \n1     102.099686      45.192809        46.457348        43.578427  45.441522  \n2     105.287429      53.394974        55.636260        51.473104  53.375580  \n3     108.792912      39.634170        40.519423        34.665584  56.184346  \n4     113.142163      44.414574        49.077589        43.841569  33.559617  \n...          ...            ...              ...              ...        ...  \n8286  181.672538     151.575530       163.304324       148.394134  34.215211  \n8287  184.207783     180.317478       198.153814       178.217490  27.443250  \n8288  181.569634     201.108116       206.679519       189.572498  49.861262  \n8289  174.317523     232.318111       250.336445       201.037176  62.038145  \n8290  165.566061     190.705146       197.373478       181.702714  53.143520  \n\n[8291 rows x 20 columns]",
      "text/html": "<div>\n<style scoped>\n    .dataframe tbody tr th:only-of-type {\n        vertical-align: middle;\n    }\n\n    .dataframe tbody tr th {\n        vertical-align: top;\n    }\n\n    .dataframe thead th {\n        text-align: right;\n    }\n</style>\n<table border=\"1\" class=\"dataframe\">\n  <thead>\n    <tr style=\"text-align: right;\">\n      <th></th>\n      <th>stock_symbol</th>\n      <th>Year</th>\n      <th>Month</th>\n      <th>operating_income_growth</th>\n      <th>net_income_growth</th>\n      <th>cost_of_revenue_growth</th>\n      <th>costof_goods_and_services_sold_growth</th>\n      <th>ebit_growth</th>\n      <th>ebitda_growth</th>\n      <th>research_and_development_growth</th>\n      <th>total_revenue_growth</th>\n      <th>sma_20</th>\n      <th>sma_200</th>\n      <th>ema_20</th>\n      <th>ema_200</th>\n      <th>cum_ma</th>\n      <th>adjustedClose</th>\n      <th>bollinger_upper</th>\n      <th>bollinger_lower</th>\n      <th>rsi</th>\n    </tr>\n  </thead>\n  <tbody>\n    <tr>\n      <th>0</th>\n      <td>AAPL</td>\n      <td>2018</td>\n      <td>3</td>\n      <td>-0.395067</td>\n      <td>-0.311139</td>\n      <td>-0.306467</td>\n      <td>-0.306467</td>\n      <td>-0.389137</td>\n      <td>-0.354322</td>\n      <td>-0.008512</td>\n      <td>-0.307567</td>\n      <td>41.058115</td>\n      <td>46.413117</td>\n      <td>41.825871</td>\n      <td>52.055794</td>\n      <td>98.941000</td>\n      <td>41.647259</td>\n      <td>43.117373</td>\n      <td>38.998857</td>\n      <td>51.595445</td>\n    </tr>\n    <tr>\n      <th>1</th>\n      <td>AAPL</td>\n      <td>2018</td>\n      <td>6</td>\n      <td>-0.206493</td>\n      <td>-0.166618</td>\n      <td>-0.129153</td>\n      <td>-0.129153</td>\n      <td>-0.166863</td>\n      <td>-0.147419</td>\n      <td>0.095619</td>\n      <td>-0.128760</td>\n      <td>45.017887</td>\n      <td>45.936357</td>\n      <td>46.497043</td>\n      <td>55.616199</td>\n      <td>102.099686</td>\n      <td>45.192809</td>\n      <td>46.457348</td>\n      <td>43.578427</td>\n      <td>45.441522</td>\n    </tr>\n    <tr>\n      <th>2</th>\n      <td>AAPL</td>\n      <td>2018</td>\n      <td>9</td>\n      <td>0.277989</td>\n      <td>0.226235</td>\n      <td>0.181829</td>\n      <td>0.181829</td>\n      <td>0.223567</td>\n      <td>0.193391</td>\n      <td>0.013240</td>\n      <td>0.180888</td>\n      <td>53.554682</td>\n      <td>45.546626</td>\n      <td>51.496699</td>\n      <td>58.377494</td>\n      <td>105.287429</td>\n      <td>53.394974</td>\n      <td>55.636260</td>\n      <td>51.473104</td>\n      <td>53.375580</td>\n    </tr>\n    <tr>\n      <th>3</th>\n      <td>AAPL</td>\n      <td>2018</td>\n      <td>12</td>\n      <td>0.448443</td>\n      <td>0.413451</td>\n      <td>0.470064</td>\n      <td>0.346842</td>\n      <td>0.434207</td>\n      <td>0.406526</td>\n      <td>0.040533</td>\n      <td>0.326232</td>\n      <td>37.592503</td>\n      <td>46.226390</td>\n      <td>38.983637</td>\n      <td>61.696451</td>\n      <td>108.792912</td>\n      <td>39.634170</td>\n      <td>40.519423</td>\n      <td>34.665584</td>\n      <td>56.184346</td>\n    </tr>\n    <tr>\n      <th>4</th>\n      <td>AAPL</td>\n      <td>2019</td>\n      <td>3</td>\n      <td>-0.425383</td>\n      <td>-0.420937</td>\n      <td>-0.287582</td>\n      <td>-0.307676</td>\n      <td>-0.403009</td>\n      <td>-0.367068</td>\n      <td>0.011789</td>\n      <td>-0.316651</td>\n      <td>46.459579</td>\n      <td>53.180054</td>\n      <td>46.884071</td>\n      <td>69.443853</td>\n      <td>113.142163</td>\n      <td>44.414574</td>\n      <td>49.077589</td>\n      <td>43.841569</td>\n      <td>33.559617</td>\n    </tr>\n    <tr>\n      <th>...</th>\n      <td>...</td>\n      <td>...</td>\n      <td>...</td>\n      <td>...</td>\n      <td>...</td>\n      <td>...</td>\n      <td>...</td>\n      <td>...</td>\n      <td>...</td>\n      <td>...</td>\n      <td>...</td>\n      <td>...</td>\n      <td>...</td>\n      <td>...</td>\n      <td>...</td>\n      <td>...</td>\n      <td>...</td>\n      <td>...</td>\n      <td>...</td>\n      <td>...</td>\n    </tr>\n    <tr>\n      <th>8286</th>\n      <td>ZTS</td>\n      <td>2021</td>\n      <td>3</td>\n      <td>-2.776316</td>\n      <td>0.557103</td>\n      <td>-0.169256</td>\n      <td>-0.086522</td>\n      <td>0.555324</td>\n      <td>0.499058</td>\n      <td>-0.112782</td>\n      <td>0.035418</td>\n      <td>155.849229</td>\n      <td>193.135176</td>\n      <td>161.197873</td>\n      <td>184.781131</td>\n      <td>181.672538</td>\n      <td>151.575530</td>\n      <td>163.304324</td>\n      <td>148.394134</td>\n      <td>34.215211</td>\n    </tr>\n    <tr>\n      <th>8287</th>\n      <td>ZTS</td>\n      <td>2021</td>\n      <td>6</td>\n      <td>-0.385185</td>\n      <td>-0.084079</td>\n      <td>0.097441</td>\n      <td>0.034608</td>\n      <td>-0.068456</td>\n      <td>-0.062814</td>\n      <td>0.016949</td>\n      <td>0.041154</td>\n      <td>188.185652</td>\n      <td>203.584555</td>\n      <td>192.030664</td>\n      <td>193.169736</td>\n      <td>184.207783</td>\n      <td>180.317478</td>\n      <td>198.153814</td>\n      <td>178.217490</td>\n      <td>27.443250</td>\n    </tr>\n    <tr>\n      <th>8288</th>\n      <td>ZTS</td>\n      <td>2021</td>\n      <td>9</td>\n      <td>-0.036145</td>\n      <td>0.078125</td>\n      <td>0.024215</td>\n      <td>0.031690</td>\n      <td>0.030259</td>\n      <td>0.026810</td>\n      <td>0.100000</td>\n      <td>0.021561</td>\n      <td>198.126008</td>\n      <td>195.705169</td>\n      <td>203.497262</td>\n      <td>191.513608</td>\n      <td>181.569634</td>\n      <td>201.108116</td>\n      <td>206.679519</td>\n      <td>189.572498</td>\n      <td>49.861262</td>\n    </tr>\n    <tr>\n      <th>8289</th>\n      <td>ZTS</td>\n      <td>2021</td>\n      <td>12</td>\n      <td>-1.725000</td>\n      <td>-0.250000</td>\n      <td>0.112960</td>\n      <td>0.023891</td>\n      <td>-0.215385</td>\n      <td>-0.202350</td>\n      <td>0.045455</td>\n      <td>-0.011558</td>\n      <td>225.686811</td>\n      <td>181.631648</td>\n      <td>215.712190</td>\n      <td>182.094205</td>\n      <td>174.317523</td>\n      <td>232.318111</td>\n      <td>250.336445</td>\n      <td>201.037176</td>\n      <td>62.038145</td>\n    </tr>\n    <tr>\n      <th>8290</th>\n      <td>ZTS</td>\n      <td>2022</td>\n      <td>3</td>\n      <td>-3.232759</td>\n      <td>0.437198</td>\n      <td>-0.144768</td>\n      <td>-0.051667</td>\n      <td>0.392157</td>\n      <td>0.363339</td>\n      <td>-0.115942</td>\n      <td>0.009659</td>\n      <td>189.538096</td>\n      <td>165.831235</td>\n      <td>185.674341</td>\n      <td>169.339935</td>\n      <td>165.566061</td>\n      <td>190.705146</td>\n      <td>197.373478</td>\n      <td>181.702714</td>\n      <td>53.143520</td>\n    </tr>\n  </tbody>\n</table>\n<p>8291 rows × 20 columns</p>\n</div>"
     },
     "metadata": {}
    }
   ]
  },
  {
   "cell_type": "code",
   "metadata": {
    "tags": [],
    "cell_id": "1e1e21269d704b3bada3a49733a6a7ec",
    "source_hash": "8889f4a3",
    "execution_start": 1675898772778,
    "execution_millis": 5,
    "deepnote_to_be_reexecuted": false,
    "deepnote_cell_type": "code"
   },
   "source": "print(f'Income Mapped to Quote for {len(stock_income_quote_df[\"stock_symbol\"].unique())} stocks.')",
   "execution_count": null,
   "outputs": [
    {
     "name": "stdout",
     "text": "Income Mapped to Quote for 496 stocks.\n",
     "output_type": "stream"
    }
   ]
  },
  {
   "cell_type": "code",
   "metadata": {
    "tags": [],
    "cell_id": "907bc5a0775f4bd3be9ecef3c6fdf661",
    "source_hash": "b2677779",
    "execution_start": 1675898772781,
    "execution_millis": 1437,
    "deepnote_to_be_reexecuted": false,
    "deepnote_cell_type": "code"
   },
   "source": "PostgresDB.drop_table('stock_income_quote')\nPostgresDB.df_to_table(stock_income_quote_df, 'stock_income_quote')",
   "execution_count": null,
   "outputs": []
  },
  {
   "cell_type": "markdown",
   "source": "### ARIMA -  Time Series Forecasting",
   "metadata": {
    "formattedRanges": [],
    "tags": [],
    "cell_id": "3b1be9ca278d42a59cf30a368c947fbb",
    "is_collapsed": false,
    "deepnote_cell_type": "text-cell-h3"
   }
  },
  {
   "cell_type": "code",
   "metadata": {
    "tags": [],
    "cell_id": "da08671bc8f847218233ef47f243f120",
    "deepnote_cell_type": "code"
   },
   "source": "",
   "execution_count": null,
   "outputs": []
  }
 ],
 "nbformat": 4,
 "nbformat_minor": 0,
 "metadata": {
  "deepnote": {},
  "orig_nbformat": 2,
  "deepnote_notebook_id": "29bc2312be95445abd906e0f7df78657",
  "deepnote_execution_queue": []
 }
}